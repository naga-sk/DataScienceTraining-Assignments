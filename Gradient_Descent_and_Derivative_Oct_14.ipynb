{
  "nbformat": 4,
  "nbformat_minor": 0,
  "metadata": {
    "colab": {
      "provenance": [],
      "collapsed_sections": [],
      "authorship_tag": "ABX9TyNl4h5VIRAF6MnzcWJ2jNvK",
      "include_colab_link": true
    },
    "kernelspec": {
      "name": "python3",
      "display_name": "Python 3"
    },
    "language_info": {
      "name": "python"
    }
  },
  "cells": [
    {
      "cell_type": "markdown",
      "metadata": {
        "id": "view-in-github",
        "colab_type": "text"
      },
      "source": [
        "<a href=\"https://colab.research.google.com/github/naga-sk/DataScienceTraining-Assignments/blob/main/Gradient_Descent_and_Derivative_Oct_14.ipynb\" target=\"_parent\"><img src=\"https://colab.research.google.com/assets/colab-badge.svg\" alt=\"Open In Colab\"/></a>"
      ]
    },
    {
      "cell_type": "code",
      "execution_count": 163,
      "metadata": {
        "id": "vQEZe-Vipah4"
      },
      "outputs": [],
      "source": []
    },
    {
      "cell_type": "markdown",
      "source": [
        "What is derivative? \n",
        "We try to determine the lowest point of a curve drawn by an equation. \n",
        "\n",
        "Biscuit manufacturing example d/dx = 2500 - 10x - .001x^2 + .0002x^3\n",
        "At what point is the cost of biscuit manufacturing at its lowest?\n",
        "https://docs.google.com/spreadsheets/d/1vBte4nf38rq1G2bW4oJtgivdvcervnN87U3gdFREhuY/edit#gid=81606688\n",
        "\n",
        "Learning rate - magnitude of each step\n",
        "Derivative will tell the direction\n",
        "\n",
        "Draw a random tangent on the curve\n",
        "\n",
        "partial derivative. Calculate derivative while keeping other parameters as constant\n",
        "\n",
        "error = actual - predicted\n",
        "sum of square of error\n",
        "mean squared error\n",
        "\n",
        "y = mx+b+Error\n",
        "\n",
        "m = slope - rate of change of y w.r.to X\n",
        "b = intercept\n",
        "\n",
        "https://docs.google.com/spreadsheets/d/1vBte4nf38rq1G2bW4oJtgivdvcervnN87U3gdFREhuY/edit?usp=sharing\n",
        "\n",
        "To achieve minima, go in the direction opposite to the direction of the derivative\n",
        "New point = current point - derivative(x) * learning rate\n",
        "- If the slope is positive, then step in the negative direction by substacting\n",
        "- If the slope is negative, then step in the positive direction by substacting\n"
      ],
      "metadata": {
        "id": "hAJ52pZMqCIf"
      }
    },
    {
      "cell_type": "markdown",
      "source": [
        "# Linear Regression using simple data set\n",
        "https://raw.githubusercontent.com/nursnaaz/DataSciencewithPractical/main/11.%20Linear%20Regression-2/sample_lr.csv"
      ],
      "metadata": {
        "id": "OIGPjjQtJu2x"
      }
    },
    {
      "cell_type": "code",
      "source": [
        "from sklearn.linear_model import LinearRegression\n",
        "import numpy as np\n",
        "\n",
        "\n",
        "x = [1, 3, 4, 6]\n",
        "y = [1, 2, 5, 6]\n",
        "\n",
        "x = np.array(x)\n",
        "y = np.array(y)\n",
        "\n",
        "x = x.reshape(-1,1)\n",
        "y = y.reshape(-1,1)"
      ],
      "metadata": {
        "id": "IeDbRpyaHSI4"
      },
      "execution_count": 164,
      "outputs": []
    },
    {
      "cell_type": "code",
      "source": [
        "model = LinearRegression()"
      ],
      "metadata": {
        "id": "bvs2QNr0HvAN"
      },
      "execution_count": 165,
      "outputs": []
    },
    {
      "cell_type": "code",
      "source": [
        "model.fit(x,y)"
      ],
      "metadata": {
        "colab": {
          "base_uri": "https://localhost:8080/"
        },
        "id": "FVzDhneAHxjF",
        "outputId": "7638d2ca-b773-49a1-b30b-ab74af38c0ed"
      },
      "execution_count": 166,
      "outputs": [
        {
          "output_type": "execute_result",
          "data": {
            "text/plain": [
              "LinearRegression()"
            ]
          },
          "metadata": {},
          "execution_count": 166
        }
      ]
    },
    {
      "cell_type": "code",
      "source": [
        "y_pred = model.predict(x)\n",
        "print(*y,'\\n',*y_pred)"
      ],
      "metadata": {
        "colab": {
          "base_uri": "https://localhost:8080/"
        },
        "id": "kcyv9CGhH02X",
        "outputId": "ee5a0adf-49c7-4eb0-fa08-4eb7dcaa2a51"
      },
      "execution_count": 167,
      "outputs": [
        {
          "output_type": "stream",
          "name": "stdout",
          "text": [
            "[1] [2] [5] [6] \n",
            " [0.80769231] [2.96153846] [4.03846154] [6.19230769]\n"
          ]
        }
      ]
    },
    {
      "cell_type": "code",
      "source": [
        "from sklearn.metrics import mean_squared_error, mean_absolute_error, mean_absolute_percentage_error, r2_score"
      ],
      "metadata": {
        "id": "GL4K2gDhH9QS"
      },
      "execution_count": 168,
      "outputs": []
    },
    {
      "cell_type": "code",
      "source": [
        "mean_squared_error(y, y_pred)"
      ],
      "metadata": {
        "colab": {
          "base_uri": "https://localhost:8080/"
        },
        "id": "Z8ZJHs1DIG9_",
        "outputId": "2bd2d925-0761-4c2d-ef8f-db83bdc0d33b"
      },
      "execution_count": 169,
      "outputs": [
        {
          "output_type": "execute_result",
          "data": {
            "text/plain": [
              "0.4807692307692307"
            ]
          },
          "metadata": {},
          "execution_count": 169
        }
      ]
    },
    {
      "cell_type": "code",
      "source": [
        "mean_absolute_error(y, y_pred)"
      ],
      "metadata": {
        "colab": {
          "base_uri": "https://localhost:8080/"
        },
        "id": "1ak4KVZXIEZ5",
        "outputId": "5c71d722-88bc-4f57-82d1-f78ce348f382"
      },
      "execution_count": 170,
      "outputs": [
        {
          "output_type": "execute_result",
          "data": {
            "text/plain": [
              "0.5769230769230766"
            ]
          },
          "metadata": {},
          "execution_count": 170
        }
      ]
    },
    {
      "cell_type": "code",
      "source": [
        "r2_score(y, y_pred)"
      ],
      "metadata": {
        "colab": {
          "base_uri": "https://localhost:8080/"
        },
        "id": "QypCv8usIVia",
        "outputId": "b419d6c9-24cc-433f-b97f-38fa522919a3"
      },
      "execution_count": 171,
      "outputs": [
        {
          "output_type": "execute_result",
          "data": {
            "text/plain": [
              "0.8868778280542986"
            ]
          },
          "metadata": {},
          "execution_count": 171
        }
      ]
    },
    {
      "cell_type": "code",
      "source": [
        "print(model.coef_)\n",
        "print(model.intercept_)"
      ],
      "metadata": {
        "colab": {
          "base_uri": "https://localhost:8080/"
        },
        "id": "Irc2YGmAIaGJ",
        "outputId": "41e82417-4b00-4ebe-f48b-9f7e1ecac057"
      },
      "execution_count": 172,
      "outputs": [
        {
          "output_type": "stream",
          "name": "stdout",
          "text": [
            "[[1.07692308]]\n",
            "[-0.26923077]\n"
          ]
        }
      ]
    },
    {
      "cell_type": "code",
      "source": [],
      "metadata": {
        "id": "gugAk_VmJ7wW"
      },
      "execution_count": 172,
      "outputs": []
    },
    {
      "cell_type": "markdown",
      "source": [
        "# Linear Regression using complex data set\n",
        "https://raw.githubusercontent.com/nursnaaz/25DaysInMachineLearning/master/18%20-%20Day%20-%2018%20-%20Linear%20Regression%20Practise%20Python/USA_Housing.csv"
      ],
      "metadata": {
        "id": "dxd5YkHtKAqH"
      }
    },
    {
      "cell_type": "code",
      "source": [
        "from sklearn.linear_model import LinearRegression\n",
        "import numpy as np\n",
        "import pandas as pd"
      ],
      "metadata": {
        "id": "5-4W3gJGKAqI"
      },
      "execution_count": 173,
      "outputs": []
    },
    {
      "cell_type": "code",
      "source": [
        "df = pd.read_csv(\"https://raw.githubusercontent.com/nursnaaz/25DaysInMachineLearning/master/18%20-%20Day%20-%2018%20-%20Linear%20Regression%20Practise%20Python/USA_Housing.csv\")"
      ],
      "metadata": {
        "id": "d6FqoYg1KOMu"
      },
      "execution_count": 174,
      "outputs": []
    },
    {
      "cell_type": "code",
      "source": [
        "df"
      ],
      "metadata": {
        "colab": {
          "base_uri": "https://localhost:8080/",
          "height": 423
        },
        "id": "cRuoyNSmKOU-",
        "outputId": "a325ea04-8572-4a62-97b8-822eeb655d15"
      },
      "execution_count": 175,
      "outputs": [
        {
          "output_type": "execute_result",
          "data": {
            "text/plain": [
              "      Avg. Area Income  Avg. Area House Age  Avg. Area Number of Rooms  \\\n",
              "0         79545.458574             5.682861                   7.009188   \n",
              "1         79248.642455             6.002900                   6.730821   \n",
              "2         61287.067179             5.865890                   8.512727   \n",
              "3         63345.240046             7.188236                   5.586729   \n",
              "4         59982.197226             5.040555                   7.839388   \n",
              "...                ...                  ...                        ...   \n",
              "4995      60567.944140             7.830362                   6.137356   \n",
              "4996      78491.275435             6.999135                   6.576763   \n",
              "4997      63390.686886             7.250591                   4.805081   \n",
              "4998      68001.331235             5.534388                   7.130144   \n",
              "4999      65510.581804             5.992305                   6.792336   \n",
              "\n",
              "      Avg. Area Number of Bedrooms  Area Population         Price  \\\n",
              "0                             4.09     23086.800503  1.059034e+06   \n",
              "1                             3.09     40173.072174  1.505891e+06   \n",
              "2                             5.13     36882.159400  1.058988e+06   \n",
              "3                             3.26     34310.242831  1.260617e+06   \n",
              "4                             4.23     26354.109472  6.309435e+05   \n",
              "...                            ...              ...           ...   \n",
              "4995                          3.46     22837.361035  1.060194e+06   \n",
              "4996                          4.02     25616.115489  1.482618e+06   \n",
              "4997                          2.13     33266.145490  1.030730e+06   \n",
              "4998                          5.44     42625.620156  1.198657e+06   \n",
              "4999                          4.07     46501.283803  1.298950e+06   \n",
              "\n",
              "                                                Address  \n",
              "0     208 Michael Ferry Apt. 674\\nLaurabury, NE 3701...  \n",
              "1     188 Johnson Views Suite 079\\nLake Kathleen, CA...  \n",
              "2     9127 Elizabeth Stravenue\\nDanieltown, WI 06482...  \n",
              "3                             USS Barnett\\nFPO AP 44820  \n",
              "4                            USNS Raymond\\nFPO AE 09386  \n",
              "...                                                 ...  \n",
              "4995                   USNS Williams\\nFPO AP 30153-7653  \n",
              "4996              PSC 9258, Box 8489\\nAPO AA 42991-3352  \n",
              "4997  4215 Tracy Garden Suite 076\\nJoshualand, VA 01...  \n",
              "4998                          USS Wallace\\nFPO AE 73316  \n",
              "4999  37778 George Ridges Apt. 509\\nEast Holly, NV 2...  \n",
              "\n",
              "[5000 rows x 7 columns]"
            ],
            "text/html": [
              "\n",
              "  <div id=\"df-bf5791e0-cbf2-4228-a9c1-2c049adf1a0e\">\n",
              "    <div class=\"colab-df-container\">\n",
              "      <div>\n",
              "<style scoped>\n",
              "    .dataframe tbody tr th:only-of-type {\n",
              "        vertical-align: middle;\n",
              "    }\n",
              "\n",
              "    .dataframe tbody tr th {\n",
              "        vertical-align: top;\n",
              "    }\n",
              "\n",
              "    .dataframe thead th {\n",
              "        text-align: right;\n",
              "    }\n",
              "</style>\n",
              "<table border=\"1\" class=\"dataframe\">\n",
              "  <thead>\n",
              "    <tr style=\"text-align: right;\">\n",
              "      <th></th>\n",
              "      <th>Avg. Area Income</th>\n",
              "      <th>Avg. Area House Age</th>\n",
              "      <th>Avg. Area Number of Rooms</th>\n",
              "      <th>Avg. Area Number of Bedrooms</th>\n",
              "      <th>Area Population</th>\n",
              "      <th>Price</th>\n",
              "      <th>Address</th>\n",
              "    </tr>\n",
              "  </thead>\n",
              "  <tbody>\n",
              "    <tr>\n",
              "      <th>0</th>\n",
              "      <td>79545.458574</td>\n",
              "      <td>5.682861</td>\n",
              "      <td>7.009188</td>\n",
              "      <td>4.09</td>\n",
              "      <td>23086.800503</td>\n",
              "      <td>1.059034e+06</td>\n",
              "      <td>208 Michael Ferry Apt. 674\\nLaurabury, NE 3701...</td>\n",
              "    </tr>\n",
              "    <tr>\n",
              "      <th>1</th>\n",
              "      <td>79248.642455</td>\n",
              "      <td>6.002900</td>\n",
              "      <td>6.730821</td>\n",
              "      <td>3.09</td>\n",
              "      <td>40173.072174</td>\n",
              "      <td>1.505891e+06</td>\n",
              "      <td>188 Johnson Views Suite 079\\nLake Kathleen, CA...</td>\n",
              "    </tr>\n",
              "    <tr>\n",
              "      <th>2</th>\n",
              "      <td>61287.067179</td>\n",
              "      <td>5.865890</td>\n",
              "      <td>8.512727</td>\n",
              "      <td>5.13</td>\n",
              "      <td>36882.159400</td>\n",
              "      <td>1.058988e+06</td>\n",
              "      <td>9127 Elizabeth Stravenue\\nDanieltown, WI 06482...</td>\n",
              "    </tr>\n",
              "    <tr>\n",
              "      <th>3</th>\n",
              "      <td>63345.240046</td>\n",
              "      <td>7.188236</td>\n",
              "      <td>5.586729</td>\n",
              "      <td>3.26</td>\n",
              "      <td>34310.242831</td>\n",
              "      <td>1.260617e+06</td>\n",
              "      <td>USS Barnett\\nFPO AP 44820</td>\n",
              "    </tr>\n",
              "    <tr>\n",
              "      <th>4</th>\n",
              "      <td>59982.197226</td>\n",
              "      <td>5.040555</td>\n",
              "      <td>7.839388</td>\n",
              "      <td>4.23</td>\n",
              "      <td>26354.109472</td>\n",
              "      <td>6.309435e+05</td>\n",
              "      <td>USNS Raymond\\nFPO AE 09386</td>\n",
              "    </tr>\n",
              "    <tr>\n",
              "      <th>...</th>\n",
              "      <td>...</td>\n",
              "      <td>...</td>\n",
              "      <td>...</td>\n",
              "      <td>...</td>\n",
              "      <td>...</td>\n",
              "      <td>...</td>\n",
              "      <td>...</td>\n",
              "    </tr>\n",
              "    <tr>\n",
              "      <th>4995</th>\n",
              "      <td>60567.944140</td>\n",
              "      <td>7.830362</td>\n",
              "      <td>6.137356</td>\n",
              "      <td>3.46</td>\n",
              "      <td>22837.361035</td>\n",
              "      <td>1.060194e+06</td>\n",
              "      <td>USNS Williams\\nFPO AP 30153-7653</td>\n",
              "    </tr>\n",
              "    <tr>\n",
              "      <th>4996</th>\n",
              "      <td>78491.275435</td>\n",
              "      <td>6.999135</td>\n",
              "      <td>6.576763</td>\n",
              "      <td>4.02</td>\n",
              "      <td>25616.115489</td>\n",
              "      <td>1.482618e+06</td>\n",
              "      <td>PSC 9258, Box 8489\\nAPO AA 42991-3352</td>\n",
              "    </tr>\n",
              "    <tr>\n",
              "      <th>4997</th>\n",
              "      <td>63390.686886</td>\n",
              "      <td>7.250591</td>\n",
              "      <td>4.805081</td>\n",
              "      <td>2.13</td>\n",
              "      <td>33266.145490</td>\n",
              "      <td>1.030730e+06</td>\n",
              "      <td>4215 Tracy Garden Suite 076\\nJoshualand, VA 01...</td>\n",
              "    </tr>\n",
              "    <tr>\n",
              "      <th>4998</th>\n",
              "      <td>68001.331235</td>\n",
              "      <td>5.534388</td>\n",
              "      <td>7.130144</td>\n",
              "      <td>5.44</td>\n",
              "      <td>42625.620156</td>\n",
              "      <td>1.198657e+06</td>\n",
              "      <td>USS Wallace\\nFPO AE 73316</td>\n",
              "    </tr>\n",
              "    <tr>\n",
              "      <th>4999</th>\n",
              "      <td>65510.581804</td>\n",
              "      <td>5.992305</td>\n",
              "      <td>6.792336</td>\n",
              "      <td>4.07</td>\n",
              "      <td>46501.283803</td>\n",
              "      <td>1.298950e+06</td>\n",
              "      <td>37778 George Ridges Apt. 509\\nEast Holly, NV 2...</td>\n",
              "    </tr>\n",
              "  </tbody>\n",
              "</table>\n",
              "<p>5000 rows × 7 columns</p>\n",
              "</div>\n",
              "      <button class=\"colab-df-convert\" onclick=\"convertToInteractive('df-bf5791e0-cbf2-4228-a9c1-2c049adf1a0e')\"\n",
              "              title=\"Convert this dataframe to an interactive table.\"\n",
              "              style=\"display:none;\">\n",
              "        \n",
              "  <svg xmlns=\"http://www.w3.org/2000/svg\" height=\"24px\"viewBox=\"0 0 24 24\"\n",
              "       width=\"24px\">\n",
              "    <path d=\"M0 0h24v24H0V0z\" fill=\"none\"/>\n",
              "    <path d=\"M18.56 5.44l.94 2.06.94-2.06 2.06-.94-2.06-.94-.94-2.06-.94 2.06-2.06.94zm-11 1L8.5 8.5l.94-2.06 2.06-.94-2.06-.94L8.5 2.5l-.94 2.06-2.06.94zm10 10l.94 2.06.94-2.06 2.06-.94-2.06-.94-.94-2.06-.94 2.06-2.06.94z\"/><path d=\"M17.41 7.96l-1.37-1.37c-.4-.4-.92-.59-1.43-.59-.52 0-1.04.2-1.43.59L10.3 9.45l-7.72 7.72c-.78.78-.78 2.05 0 2.83L4 21.41c.39.39.9.59 1.41.59.51 0 1.02-.2 1.41-.59l7.78-7.78 2.81-2.81c.8-.78.8-2.07 0-2.86zM5.41 20L4 18.59l7.72-7.72 1.47 1.35L5.41 20z\"/>\n",
              "  </svg>\n",
              "      </button>\n",
              "      \n",
              "  <style>\n",
              "    .colab-df-container {\n",
              "      display:flex;\n",
              "      flex-wrap:wrap;\n",
              "      gap: 12px;\n",
              "    }\n",
              "\n",
              "    .colab-df-convert {\n",
              "      background-color: #E8F0FE;\n",
              "      border: none;\n",
              "      border-radius: 50%;\n",
              "      cursor: pointer;\n",
              "      display: none;\n",
              "      fill: #1967D2;\n",
              "      height: 32px;\n",
              "      padding: 0 0 0 0;\n",
              "      width: 32px;\n",
              "    }\n",
              "\n",
              "    .colab-df-convert:hover {\n",
              "      background-color: #E2EBFA;\n",
              "      box-shadow: 0px 1px 2px rgba(60, 64, 67, 0.3), 0px 1px 3px 1px rgba(60, 64, 67, 0.15);\n",
              "      fill: #174EA6;\n",
              "    }\n",
              "\n",
              "    [theme=dark] .colab-df-convert {\n",
              "      background-color: #3B4455;\n",
              "      fill: #D2E3FC;\n",
              "    }\n",
              "\n",
              "    [theme=dark] .colab-df-convert:hover {\n",
              "      background-color: #434B5C;\n",
              "      box-shadow: 0px 1px 3px 1px rgba(0, 0, 0, 0.15);\n",
              "      filter: drop-shadow(0px 1px 2px rgba(0, 0, 0, 0.3));\n",
              "      fill: #FFFFFF;\n",
              "    }\n",
              "  </style>\n",
              "\n",
              "      <script>\n",
              "        const buttonEl =\n",
              "          document.querySelector('#df-bf5791e0-cbf2-4228-a9c1-2c049adf1a0e button.colab-df-convert');\n",
              "        buttonEl.style.display =\n",
              "          google.colab.kernel.accessAllowed ? 'block' : 'none';\n",
              "\n",
              "        async function convertToInteractive(key) {\n",
              "          const element = document.querySelector('#df-bf5791e0-cbf2-4228-a9c1-2c049adf1a0e');\n",
              "          const dataTable =\n",
              "            await google.colab.kernel.invokeFunction('convertToInteractive',\n",
              "                                                     [key], {});\n",
              "          if (!dataTable) return;\n",
              "\n",
              "          const docLinkHtml = 'Like what you see? Visit the ' +\n",
              "            '<a target=\"_blank\" href=https://colab.research.google.com/notebooks/data_table.ipynb>data table notebook</a>'\n",
              "            + ' to learn more about interactive tables.';\n",
              "          element.innerHTML = '';\n",
              "          dataTable['output_type'] = 'display_data';\n",
              "          await google.colab.output.renderOutput(dataTable, element);\n",
              "          const docLink = document.createElement('div');\n",
              "          docLink.innerHTML = docLinkHtml;\n",
              "          element.appendChild(docLink);\n",
              "        }\n",
              "      </script>\n",
              "    </div>\n",
              "  </div>\n",
              "  "
            ]
          },
          "metadata": {},
          "execution_count": 175
        }
      ]
    },
    {
      "cell_type": "code",
      "source": [
        "df.drop(\"Address\", inplace=True, axis=1)\n",
        "df"
      ],
      "metadata": {
        "colab": {
          "base_uri": "https://localhost:8080/",
          "height": 423
        },
        "id": "l3g43-GQKObM",
        "outputId": "ed8a3238-f955-4ad9-a154-8df953ee5c20"
      },
      "execution_count": 176,
      "outputs": [
        {
          "output_type": "execute_result",
          "data": {
            "text/plain": [
              "      Avg. Area Income  Avg. Area House Age  Avg. Area Number of Rooms  \\\n",
              "0         79545.458574             5.682861                   7.009188   \n",
              "1         79248.642455             6.002900                   6.730821   \n",
              "2         61287.067179             5.865890                   8.512727   \n",
              "3         63345.240046             7.188236                   5.586729   \n",
              "4         59982.197226             5.040555                   7.839388   \n",
              "...                ...                  ...                        ...   \n",
              "4995      60567.944140             7.830362                   6.137356   \n",
              "4996      78491.275435             6.999135                   6.576763   \n",
              "4997      63390.686886             7.250591                   4.805081   \n",
              "4998      68001.331235             5.534388                   7.130144   \n",
              "4999      65510.581804             5.992305                   6.792336   \n",
              "\n",
              "      Avg. Area Number of Bedrooms  Area Population         Price  \n",
              "0                             4.09     23086.800503  1.059034e+06  \n",
              "1                             3.09     40173.072174  1.505891e+06  \n",
              "2                             5.13     36882.159400  1.058988e+06  \n",
              "3                             3.26     34310.242831  1.260617e+06  \n",
              "4                             4.23     26354.109472  6.309435e+05  \n",
              "...                            ...              ...           ...  \n",
              "4995                          3.46     22837.361035  1.060194e+06  \n",
              "4996                          4.02     25616.115489  1.482618e+06  \n",
              "4997                          2.13     33266.145490  1.030730e+06  \n",
              "4998                          5.44     42625.620156  1.198657e+06  \n",
              "4999                          4.07     46501.283803  1.298950e+06  \n",
              "\n",
              "[5000 rows x 6 columns]"
            ],
            "text/html": [
              "\n",
              "  <div id=\"df-94ac1392-9b48-45ed-9ce7-d50e4954e188\">\n",
              "    <div class=\"colab-df-container\">\n",
              "      <div>\n",
              "<style scoped>\n",
              "    .dataframe tbody tr th:only-of-type {\n",
              "        vertical-align: middle;\n",
              "    }\n",
              "\n",
              "    .dataframe tbody tr th {\n",
              "        vertical-align: top;\n",
              "    }\n",
              "\n",
              "    .dataframe thead th {\n",
              "        text-align: right;\n",
              "    }\n",
              "</style>\n",
              "<table border=\"1\" class=\"dataframe\">\n",
              "  <thead>\n",
              "    <tr style=\"text-align: right;\">\n",
              "      <th></th>\n",
              "      <th>Avg. Area Income</th>\n",
              "      <th>Avg. Area House Age</th>\n",
              "      <th>Avg. Area Number of Rooms</th>\n",
              "      <th>Avg. Area Number of Bedrooms</th>\n",
              "      <th>Area Population</th>\n",
              "      <th>Price</th>\n",
              "    </tr>\n",
              "  </thead>\n",
              "  <tbody>\n",
              "    <tr>\n",
              "      <th>0</th>\n",
              "      <td>79545.458574</td>\n",
              "      <td>5.682861</td>\n",
              "      <td>7.009188</td>\n",
              "      <td>4.09</td>\n",
              "      <td>23086.800503</td>\n",
              "      <td>1.059034e+06</td>\n",
              "    </tr>\n",
              "    <tr>\n",
              "      <th>1</th>\n",
              "      <td>79248.642455</td>\n",
              "      <td>6.002900</td>\n",
              "      <td>6.730821</td>\n",
              "      <td>3.09</td>\n",
              "      <td>40173.072174</td>\n",
              "      <td>1.505891e+06</td>\n",
              "    </tr>\n",
              "    <tr>\n",
              "      <th>2</th>\n",
              "      <td>61287.067179</td>\n",
              "      <td>5.865890</td>\n",
              "      <td>8.512727</td>\n",
              "      <td>5.13</td>\n",
              "      <td>36882.159400</td>\n",
              "      <td>1.058988e+06</td>\n",
              "    </tr>\n",
              "    <tr>\n",
              "      <th>3</th>\n",
              "      <td>63345.240046</td>\n",
              "      <td>7.188236</td>\n",
              "      <td>5.586729</td>\n",
              "      <td>3.26</td>\n",
              "      <td>34310.242831</td>\n",
              "      <td>1.260617e+06</td>\n",
              "    </tr>\n",
              "    <tr>\n",
              "      <th>4</th>\n",
              "      <td>59982.197226</td>\n",
              "      <td>5.040555</td>\n",
              "      <td>7.839388</td>\n",
              "      <td>4.23</td>\n",
              "      <td>26354.109472</td>\n",
              "      <td>6.309435e+05</td>\n",
              "    </tr>\n",
              "    <tr>\n",
              "      <th>...</th>\n",
              "      <td>...</td>\n",
              "      <td>...</td>\n",
              "      <td>...</td>\n",
              "      <td>...</td>\n",
              "      <td>...</td>\n",
              "      <td>...</td>\n",
              "    </tr>\n",
              "    <tr>\n",
              "      <th>4995</th>\n",
              "      <td>60567.944140</td>\n",
              "      <td>7.830362</td>\n",
              "      <td>6.137356</td>\n",
              "      <td>3.46</td>\n",
              "      <td>22837.361035</td>\n",
              "      <td>1.060194e+06</td>\n",
              "    </tr>\n",
              "    <tr>\n",
              "      <th>4996</th>\n",
              "      <td>78491.275435</td>\n",
              "      <td>6.999135</td>\n",
              "      <td>6.576763</td>\n",
              "      <td>4.02</td>\n",
              "      <td>25616.115489</td>\n",
              "      <td>1.482618e+06</td>\n",
              "    </tr>\n",
              "    <tr>\n",
              "      <th>4997</th>\n",
              "      <td>63390.686886</td>\n",
              "      <td>7.250591</td>\n",
              "      <td>4.805081</td>\n",
              "      <td>2.13</td>\n",
              "      <td>33266.145490</td>\n",
              "      <td>1.030730e+06</td>\n",
              "    </tr>\n",
              "    <tr>\n",
              "      <th>4998</th>\n",
              "      <td>68001.331235</td>\n",
              "      <td>5.534388</td>\n",
              "      <td>7.130144</td>\n",
              "      <td>5.44</td>\n",
              "      <td>42625.620156</td>\n",
              "      <td>1.198657e+06</td>\n",
              "    </tr>\n",
              "    <tr>\n",
              "      <th>4999</th>\n",
              "      <td>65510.581804</td>\n",
              "      <td>5.992305</td>\n",
              "      <td>6.792336</td>\n",
              "      <td>4.07</td>\n",
              "      <td>46501.283803</td>\n",
              "      <td>1.298950e+06</td>\n",
              "    </tr>\n",
              "  </tbody>\n",
              "</table>\n",
              "<p>5000 rows × 6 columns</p>\n",
              "</div>\n",
              "      <button class=\"colab-df-convert\" onclick=\"convertToInteractive('df-94ac1392-9b48-45ed-9ce7-d50e4954e188')\"\n",
              "              title=\"Convert this dataframe to an interactive table.\"\n",
              "              style=\"display:none;\">\n",
              "        \n",
              "  <svg xmlns=\"http://www.w3.org/2000/svg\" height=\"24px\"viewBox=\"0 0 24 24\"\n",
              "       width=\"24px\">\n",
              "    <path d=\"M0 0h24v24H0V0z\" fill=\"none\"/>\n",
              "    <path d=\"M18.56 5.44l.94 2.06.94-2.06 2.06-.94-2.06-.94-.94-2.06-.94 2.06-2.06.94zm-11 1L8.5 8.5l.94-2.06 2.06-.94-2.06-.94L8.5 2.5l-.94 2.06-2.06.94zm10 10l.94 2.06.94-2.06 2.06-.94-2.06-.94-.94-2.06-.94 2.06-2.06.94z\"/><path d=\"M17.41 7.96l-1.37-1.37c-.4-.4-.92-.59-1.43-.59-.52 0-1.04.2-1.43.59L10.3 9.45l-7.72 7.72c-.78.78-.78 2.05 0 2.83L4 21.41c.39.39.9.59 1.41.59.51 0 1.02-.2 1.41-.59l7.78-7.78 2.81-2.81c.8-.78.8-2.07 0-2.86zM5.41 20L4 18.59l7.72-7.72 1.47 1.35L5.41 20z\"/>\n",
              "  </svg>\n",
              "      </button>\n",
              "      \n",
              "  <style>\n",
              "    .colab-df-container {\n",
              "      display:flex;\n",
              "      flex-wrap:wrap;\n",
              "      gap: 12px;\n",
              "    }\n",
              "\n",
              "    .colab-df-convert {\n",
              "      background-color: #E8F0FE;\n",
              "      border: none;\n",
              "      border-radius: 50%;\n",
              "      cursor: pointer;\n",
              "      display: none;\n",
              "      fill: #1967D2;\n",
              "      height: 32px;\n",
              "      padding: 0 0 0 0;\n",
              "      width: 32px;\n",
              "    }\n",
              "\n",
              "    .colab-df-convert:hover {\n",
              "      background-color: #E2EBFA;\n",
              "      box-shadow: 0px 1px 2px rgba(60, 64, 67, 0.3), 0px 1px 3px 1px rgba(60, 64, 67, 0.15);\n",
              "      fill: #174EA6;\n",
              "    }\n",
              "\n",
              "    [theme=dark] .colab-df-convert {\n",
              "      background-color: #3B4455;\n",
              "      fill: #D2E3FC;\n",
              "    }\n",
              "\n",
              "    [theme=dark] .colab-df-convert:hover {\n",
              "      background-color: #434B5C;\n",
              "      box-shadow: 0px 1px 3px 1px rgba(0, 0, 0, 0.15);\n",
              "      filter: drop-shadow(0px 1px 2px rgba(0, 0, 0, 0.3));\n",
              "      fill: #FFFFFF;\n",
              "    }\n",
              "  </style>\n",
              "\n",
              "      <script>\n",
              "        const buttonEl =\n",
              "          document.querySelector('#df-94ac1392-9b48-45ed-9ce7-d50e4954e188 button.colab-df-convert');\n",
              "        buttonEl.style.display =\n",
              "          google.colab.kernel.accessAllowed ? 'block' : 'none';\n",
              "\n",
              "        async function convertToInteractive(key) {\n",
              "          const element = document.querySelector('#df-94ac1392-9b48-45ed-9ce7-d50e4954e188');\n",
              "          const dataTable =\n",
              "            await google.colab.kernel.invokeFunction('convertToInteractive',\n",
              "                                                     [key], {});\n",
              "          if (!dataTable) return;\n",
              "\n",
              "          const docLinkHtml = 'Like what you see? Visit the ' +\n",
              "            '<a target=\"_blank\" href=https://colab.research.google.com/notebooks/data_table.ipynb>data table notebook</a>'\n",
              "            + ' to learn more about interactive tables.';\n",
              "          element.innerHTML = '';\n",
              "          dataTable['output_type'] = 'display_data';\n",
              "          await google.colab.output.renderOutput(dataTable, element);\n",
              "          const docLink = document.createElement('div');\n",
              "          docLink.innerHTML = docLinkHtml;\n",
              "          element.appendChild(docLink);\n",
              "        }\n",
              "      </script>\n",
              "    </div>\n",
              "  </div>\n",
              "  "
            ]
          },
          "metadata": {},
          "execution_count": 176
        }
      ]
    },
    {
      "cell_type": "code",
      "source": [
        "df.describe()"
      ],
      "metadata": {
        "colab": {
          "base_uri": "https://localhost:8080/",
          "height": 300
        },
        "id": "xwA0MwEvLp57",
        "outputId": "71710681-ba0e-4ec6-ca1e-0f0fee6ee56b"
      },
      "execution_count": 177,
      "outputs": [
        {
          "output_type": "execute_result",
          "data": {
            "text/plain": [
              "       Avg. Area Income  Avg. Area House Age  Avg. Area Number of Rooms  \\\n",
              "count       5000.000000          5000.000000                5000.000000   \n",
              "mean       68583.108984             5.977222                   6.987792   \n",
              "std        10657.991214             0.991456                   1.005833   \n",
              "min        17796.631190             2.644304                   3.236194   \n",
              "25%        61480.562388             5.322283                   6.299250   \n",
              "50%        68804.286404             5.970429                   7.002902   \n",
              "75%        75783.338666             6.650808                   7.665871   \n",
              "max       107701.748378             9.519088                  10.759588   \n",
              "\n",
              "       Avg. Area Number of Bedrooms  Area Population         Price  \n",
              "count                   5000.000000      5000.000000  5.000000e+03  \n",
              "mean                       3.981330     36163.516039  1.232073e+06  \n",
              "std                        1.234137      9925.650114  3.531176e+05  \n",
              "min                        2.000000       172.610686  1.593866e+04  \n",
              "25%                        3.140000     29403.928702  9.975771e+05  \n",
              "50%                        4.050000     36199.406689  1.232669e+06  \n",
              "75%                        4.490000     42861.290769  1.471210e+06  \n",
              "max                        6.500000     69621.713378  2.469066e+06  "
            ],
            "text/html": [
              "\n",
              "  <div id=\"df-fce7cb74-c0b4-4535-9bd0-8145eeaa16d2\">\n",
              "    <div class=\"colab-df-container\">\n",
              "      <div>\n",
              "<style scoped>\n",
              "    .dataframe tbody tr th:only-of-type {\n",
              "        vertical-align: middle;\n",
              "    }\n",
              "\n",
              "    .dataframe tbody tr th {\n",
              "        vertical-align: top;\n",
              "    }\n",
              "\n",
              "    .dataframe thead th {\n",
              "        text-align: right;\n",
              "    }\n",
              "</style>\n",
              "<table border=\"1\" class=\"dataframe\">\n",
              "  <thead>\n",
              "    <tr style=\"text-align: right;\">\n",
              "      <th></th>\n",
              "      <th>Avg. Area Income</th>\n",
              "      <th>Avg. Area House Age</th>\n",
              "      <th>Avg. Area Number of Rooms</th>\n",
              "      <th>Avg. Area Number of Bedrooms</th>\n",
              "      <th>Area Population</th>\n",
              "      <th>Price</th>\n",
              "    </tr>\n",
              "  </thead>\n",
              "  <tbody>\n",
              "    <tr>\n",
              "      <th>count</th>\n",
              "      <td>5000.000000</td>\n",
              "      <td>5000.000000</td>\n",
              "      <td>5000.000000</td>\n",
              "      <td>5000.000000</td>\n",
              "      <td>5000.000000</td>\n",
              "      <td>5.000000e+03</td>\n",
              "    </tr>\n",
              "    <tr>\n",
              "      <th>mean</th>\n",
              "      <td>68583.108984</td>\n",
              "      <td>5.977222</td>\n",
              "      <td>6.987792</td>\n",
              "      <td>3.981330</td>\n",
              "      <td>36163.516039</td>\n",
              "      <td>1.232073e+06</td>\n",
              "    </tr>\n",
              "    <tr>\n",
              "      <th>std</th>\n",
              "      <td>10657.991214</td>\n",
              "      <td>0.991456</td>\n",
              "      <td>1.005833</td>\n",
              "      <td>1.234137</td>\n",
              "      <td>9925.650114</td>\n",
              "      <td>3.531176e+05</td>\n",
              "    </tr>\n",
              "    <tr>\n",
              "      <th>min</th>\n",
              "      <td>17796.631190</td>\n",
              "      <td>2.644304</td>\n",
              "      <td>3.236194</td>\n",
              "      <td>2.000000</td>\n",
              "      <td>172.610686</td>\n",
              "      <td>1.593866e+04</td>\n",
              "    </tr>\n",
              "    <tr>\n",
              "      <th>25%</th>\n",
              "      <td>61480.562388</td>\n",
              "      <td>5.322283</td>\n",
              "      <td>6.299250</td>\n",
              "      <td>3.140000</td>\n",
              "      <td>29403.928702</td>\n",
              "      <td>9.975771e+05</td>\n",
              "    </tr>\n",
              "    <tr>\n",
              "      <th>50%</th>\n",
              "      <td>68804.286404</td>\n",
              "      <td>5.970429</td>\n",
              "      <td>7.002902</td>\n",
              "      <td>4.050000</td>\n",
              "      <td>36199.406689</td>\n",
              "      <td>1.232669e+06</td>\n",
              "    </tr>\n",
              "    <tr>\n",
              "      <th>75%</th>\n",
              "      <td>75783.338666</td>\n",
              "      <td>6.650808</td>\n",
              "      <td>7.665871</td>\n",
              "      <td>4.490000</td>\n",
              "      <td>42861.290769</td>\n",
              "      <td>1.471210e+06</td>\n",
              "    </tr>\n",
              "    <tr>\n",
              "      <th>max</th>\n",
              "      <td>107701.748378</td>\n",
              "      <td>9.519088</td>\n",
              "      <td>10.759588</td>\n",
              "      <td>6.500000</td>\n",
              "      <td>69621.713378</td>\n",
              "      <td>2.469066e+06</td>\n",
              "    </tr>\n",
              "  </tbody>\n",
              "</table>\n",
              "</div>\n",
              "      <button class=\"colab-df-convert\" onclick=\"convertToInteractive('df-fce7cb74-c0b4-4535-9bd0-8145eeaa16d2')\"\n",
              "              title=\"Convert this dataframe to an interactive table.\"\n",
              "              style=\"display:none;\">\n",
              "        \n",
              "  <svg xmlns=\"http://www.w3.org/2000/svg\" height=\"24px\"viewBox=\"0 0 24 24\"\n",
              "       width=\"24px\">\n",
              "    <path d=\"M0 0h24v24H0V0z\" fill=\"none\"/>\n",
              "    <path d=\"M18.56 5.44l.94 2.06.94-2.06 2.06-.94-2.06-.94-.94-2.06-.94 2.06-2.06.94zm-11 1L8.5 8.5l.94-2.06 2.06-.94-2.06-.94L8.5 2.5l-.94 2.06-2.06.94zm10 10l.94 2.06.94-2.06 2.06-.94-2.06-.94-.94-2.06-.94 2.06-2.06.94z\"/><path d=\"M17.41 7.96l-1.37-1.37c-.4-.4-.92-.59-1.43-.59-.52 0-1.04.2-1.43.59L10.3 9.45l-7.72 7.72c-.78.78-.78 2.05 0 2.83L4 21.41c.39.39.9.59 1.41.59.51 0 1.02-.2 1.41-.59l7.78-7.78 2.81-2.81c.8-.78.8-2.07 0-2.86zM5.41 20L4 18.59l7.72-7.72 1.47 1.35L5.41 20z\"/>\n",
              "  </svg>\n",
              "      </button>\n",
              "      \n",
              "  <style>\n",
              "    .colab-df-container {\n",
              "      display:flex;\n",
              "      flex-wrap:wrap;\n",
              "      gap: 12px;\n",
              "    }\n",
              "\n",
              "    .colab-df-convert {\n",
              "      background-color: #E8F0FE;\n",
              "      border: none;\n",
              "      border-radius: 50%;\n",
              "      cursor: pointer;\n",
              "      display: none;\n",
              "      fill: #1967D2;\n",
              "      height: 32px;\n",
              "      padding: 0 0 0 0;\n",
              "      width: 32px;\n",
              "    }\n",
              "\n",
              "    .colab-df-convert:hover {\n",
              "      background-color: #E2EBFA;\n",
              "      box-shadow: 0px 1px 2px rgba(60, 64, 67, 0.3), 0px 1px 3px 1px rgba(60, 64, 67, 0.15);\n",
              "      fill: #174EA6;\n",
              "    }\n",
              "\n",
              "    [theme=dark] .colab-df-convert {\n",
              "      background-color: #3B4455;\n",
              "      fill: #D2E3FC;\n",
              "    }\n",
              "\n",
              "    [theme=dark] .colab-df-convert:hover {\n",
              "      background-color: #434B5C;\n",
              "      box-shadow: 0px 1px 3px 1px rgba(0, 0, 0, 0.15);\n",
              "      filter: drop-shadow(0px 1px 2px rgba(0, 0, 0, 0.3));\n",
              "      fill: #FFFFFF;\n",
              "    }\n",
              "  </style>\n",
              "\n",
              "      <script>\n",
              "        const buttonEl =\n",
              "          document.querySelector('#df-fce7cb74-c0b4-4535-9bd0-8145eeaa16d2 button.colab-df-convert');\n",
              "        buttonEl.style.display =\n",
              "          google.colab.kernel.accessAllowed ? 'block' : 'none';\n",
              "\n",
              "        async function convertToInteractive(key) {\n",
              "          const element = document.querySelector('#df-fce7cb74-c0b4-4535-9bd0-8145eeaa16d2');\n",
              "          const dataTable =\n",
              "            await google.colab.kernel.invokeFunction('convertToInteractive',\n",
              "                                                     [key], {});\n",
              "          if (!dataTable) return;\n",
              "\n",
              "          const docLinkHtml = 'Like what you see? Visit the ' +\n",
              "            '<a target=\"_blank\" href=https://colab.research.google.com/notebooks/data_table.ipynb>data table notebook</a>'\n",
              "            + ' to learn more about interactive tables.';\n",
              "          element.innerHTML = '';\n",
              "          dataTable['output_type'] = 'display_data';\n",
              "          await google.colab.output.renderOutput(dataTable, element);\n",
              "          const docLink = document.createElement('div');\n",
              "          docLink.innerHTML = docLinkHtml;\n",
              "          element.appendChild(docLink);\n",
              "        }\n",
              "      </script>\n",
              "    </div>\n",
              "  </div>\n",
              "  "
            ]
          },
          "metadata": {},
          "execution_count": 177
        }
      ]
    },
    {
      "cell_type": "code",
      "source": [
        "from matplotlib import pyplot as plt\n",
        "df.hist(bins = 20, figsize=(20,15))\n",
        "plt.show()"
      ],
      "metadata": {
        "colab": {
          "base_uri": "https://localhost:8080/",
          "height": 892
        },
        "id": "81jXtT5kLqFf",
        "outputId": "a8585d99-51c7-4179-d414-fe8d84acc62a"
      },
      "execution_count": 178,
      "outputs": [
        {
          "output_type": "display_data",
          "data": {
            "text/plain": [
              "<Figure size 1440x1080 with 6 Axes>"
            ],
            "image/png": "[encoded data removed]"
          },
          "metadata": {
            "needs_background": "light"
          }
        }
      ]
    },
    {
      "cell_type": "code",
      "source": [
        "x = df.drop(\"Price\", axis=1)\n",
        "x"
      ],
      "metadata": {
        "colab": {
          "base_uri": "https://localhost:8080/",
          "height": 423
        },
        "id": "4dU6nxqeOqau",
        "outputId": "e6956940-c5c7-4691-f7db-85a9ced500e4"
      },
      "execution_count": 179,
      "outputs": [
        {
          "output_type": "execute_result",
          "data": {
            "text/plain": [
              "      Avg. Area Income  Avg. Area House Age  Avg. Area Number of Rooms  \\\n",
              "0         79545.458574             5.682861                   7.009188   \n",
              "1         79248.642455             6.002900                   6.730821   \n",
              "2         61287.067179             5.865890                   8.512727   \n",
              "3         63345.240046             7.188236                   5.586729   \n",
              "4         59982.197226             5.040555                   7.839388   \n",
              "...                ...                  ...                        ...   \n",
              "4995      60567.944140             7.830362                   6.137356   \n",
              "4996      78491.275435             6.999135                   6.576763   \n",
              "4997      63390.686886             7.250591                   4.805081   \n",
              "4998      68001.331235             5.534388                   7.130144   \n",
              "4999      65510.581804             5.992305                   6.792336   \n",
              "\n",
              "      Avg. Area Number of Bedrooms  Area Population  \n",
              "0                             4.09     23086.800503  \n",
              "1                             3.09     40173.072174  \n",
              "2                             5.13     36882.159400  \n",
              "3                             3.26     34310.242831  \n",
              "4                             4.23     26354.109472  \n",
              "...                            ...              ...  \n",
              "4995                          3.46     22837.361035  \n",
              "4996                          4.02     25616.115489  \n",
              "4997                          2.13     33266.145490  \n",
              "4998                          5.44     42625.620156  \n",
              "4999                          4.07     46501.283803  \n",
              "\n",
              "[5000 rows x 5 columns]"
            ],
            "text/html": [
              "\n",
              "  <div id=\"df-ca6755c3-5930-434a-90ed-05232d3fb681\">\n",
              "    <div class=\"colab-df-container\">\n",
              "      <div>\n",
              "<style scoped>\n",
              "    .dataframe tbody tr th:only-of-type {\n",
              "        vertical-align: middle;\n",
              "    }\n",
              "\n",
              "    .dataframe tbody tr th {\n",
              "        vertical-align: top;\n",
              "    }\n",
              "\n",
              "    .dataframe thead th {\n",
              "        text-align: right;\n",
              "    }\n",
              "</style>\n",
              "<table border=\"1\" class=\"dataframe\">\n",
              "  <thead>\n",
              "    <tr style=\"text-align: right;\">\n",
              "      <th></th>\n",
              "      <th>Avg. Area Income</th>\n",
              "      <th>Avg. Area House Age</th>\n",
              "      <th>Avg. Area Number of Rooms</th>\n",
              "      <th>Avg. Area Number of Bedrooms</th>\n",
              "      <th>Area Population</th>\n",
              "    </tr>\n",
              "  </thead>\n",
              "  <tbody>\n",
              "    <tr>\n",
              "      <th>0</th>\n",
              "      <td>79545.458574</td>\n",
              "      <td>5.682861</td>\n",
              "      <td>7.009188</td>\n",
              "      <td>4.09</td>\n",
              "      <td>23086.800503</td>\n",
              "    </tr>\n",
              "    <tr>\n",
              "      <th>1</th>\n",
              "      <td>79248.642455</td>\n",
              "      <td>6.002900</td>\n",
              "      <td>6.730821</td>\n",
              "      <td>3.09</td>\n",
              "      <td>40173.072174</td>\n",
              "    </tr>\n",
              "    <tr>\n",
              "      <th>2</th>\n",
              "      <td>61287.067179</td>\n",
              "      <td>5.865890</td>\n",
              "      <td>8.512727</td>\n",
              "      <td>5.13</td>\n",
              "      <td>36882.159400</td>\n",
              "    </tr>\n",
              "    <tr>\n",
              "      <th>3</th>\n",
              "      <td>63345.240046</td>\n",
              "      <td>7.188236</td>\n",
              "      <td>5.586729</td>\n",
              "      <td>3.26</td>\n",
              "      <td>34310.242831</td>\n",
              "    </tr>\n",
              "    <tr>\n",
              "      <th>4</th>\n",
              "      <td>59982.197226</td>\n",
              "      <td>5.040555</td>\n",
              "      <td>7.839388</td>\n",
              "      <td>4.23</td>\n",
              "      <td>26354.109472</td>\n",
              "    </tr>\n",
              "    <tr>\n",
              "      <th>...</th>\n",
              "      <td>...</td>\n",
              "      <td>...</td>\n",
              "      <td>...</td>\n",
              "      <td>...</td>\n",
              "      <td>...</td>\n",
              "    </tr>\n",
              "    <tr>\n",
              "      <th>4995</th>\n",
              "      <td>60567.944140</td>\n",
              "      <td>7.830362</td>\n",
              "      <td>6.137356</td>\n",
              "      <td>3.46</td>\n",
              "      <td>22837.361035</td>\n",
              "    </tr>\n",
              "    <tr>\n",
              "      <th>4996</th>\n",
              "      <td>78491.275435</td>\n",
              "      <td>6.999135</td>\n",
              "      <td>6.576763</td>\n",
              "      <td>4.02</td>\n",
              "      <td>25616.115489</td>\n",
              "    </tr>\n",
              "    <tr>\n",
              "      <th>4997</th>\n",
              "      <td>63390.686886</td>\n",
              "      <td>7.250591</td>\n",
              "      <td>4.805081</td>\n",
              "      <td>2.13</td>\n",
              "      <td>33266.145490</td>\n",
              "    </tr>\n",
              "    <tr>\n",
              "      <th>4998</th>\n",
              "      <td>68001.331235</td>\n",
              "      <td>5.534388</td>\n",
              "      <td>7.130144</td>\n",
              "      <td>5.44</td>\n",
              "      <td>42625.620156</td>\n",
              "    </tr>\n",
              "    <tr>\n",
              "      <th>4999</th>\n",
              "      <td>65510.581804</td>\n",
              "      <td>5.992305</td>\n",
              "      <td>6.792336</td>\n",
              "      <td>4.07</td>\n",
              "      <td>46501.283803</td>\n",
              "    </tr>\n",
              "  </tbody>\n",
              "</table>\n",
              "<p>5000 rows × 5 columns</p>\n",
              "</div>\n",
              "      <button class=\"colab-df-convert\" onclick=\"convertToInteractive('df-ca6755c3-5930-434a-90ed-05232d3fb681')\"\n",
              "              title=\"Convert this dataframe to an interactive table.\"\n",
              "              style=\"display:none;\">\n",
              "        \n",
              "  <svg xmlns=\"http://www.w3.org/2000/svg\" height=\"24px\"viewBox=\"0 0 24 24\"\n",
              "       width=\"24px\">\n",
              "    <path d=\"M0 0h24v24H0V0z\" fill=\"none\"/>\n",
              "    <path d=\"M18.56 5.44l.94 2.06.94-2.06 2.06-.94-2.06-.94-.94-2.06-.94 2.06-2.06.94zm-11 1L8.5 8.5l.94-2.06 2.06-.94-2.06-.94L8.5 2.5l-.94 2.06-2.06.94zm10 10l.94 2.06.94-2.06 2.06-.94-2.06-.94-.94-2.06-.94 2.06-2.06.94z\"/><path d=\"M17.41 7.96l-1.37-1.37c-.4-.4-.92-.59-1.43-.59-.52 0-1.04.2-1.43.59L10.3 9.45l-7.72 7.72c-.78.78-.78 2.05 0 2.83L4 21.41c.39.39.9.59 1.41.59.51 0 1.02-.2 1.41-.59l7.78-7.78 2.81-2.81c.8-.78.8-2.07 0-2.86zM5.41 20L4 18.59l7.72-7.72 1.47 1.35L5.41 20z\"/>\n",
              "  </svg>\n",
              "      </button>\n",
              "      \n",
              "  <style>\n",
              "    .colab-df-container {\n",
              "      display:flex;\n",
              "      flex-wrap:wrap;\n",
              "      gap: 12px;\n",
              "    }\n",
              "\n",
              "    .colab-df-convert {\n",
              "      background-color: #E8F0FE;\n",
              "      border: none;\n",
              "      border-radius: 50%;\n",
              "      cursor: pointer;\n",
              "      display: none;\n",
              "      fill: #1967D2;\n",
              "      height: 32px;\n",
              "      padding: 0 0 0 0;\n",
              "      width: 32px;\n",
              "    }\n",
              "\n",
              "    .colab-df-convert:hover {\n",
              "      background-color: #E2EBFA;\n",
              "      box-shadow: 0px 1px 2px rgba(60, 64, 67, 0.3), 0px 1px 3px 1px rgba(60, 64, 67, 0.15);\n",
              "      fill: #174EA6;\n",
              "    }\n",
              "\n",
              "    [theme=dark] .colab-df-convert {\n",
              "      background-color: #3B4455;\n",
              "      fill: #D2E3FC;\n",
              "    }\n",
              "\n",
              "    [theme=dark] .colab-df-convert:hover {\n",
              "      background-color: #434B5C;\n",
              "      box-shadow: 0px 1px 3px 1px rgba(0, 0, 0, 0.15);\n",
              "      filter: drop-shadow(0px 1px 2px rgba(0, 0, 0, 0.3));\n",
              "      fill: #FFFFFF;\n",
              "    }\n",
              "  </style>\n",
              "\n",
              "      <script>\n",
              "        const buttonEl =\n",
              "          document.querySelector('#df-ca6755c3-5930-434a-90ed-05232d3fb681 button.colab-df-convert');\n",
              "        buttonEl.style.display =\n",
              "          google.colab.kernel.accessAllowed ? 'block' : 'none';\n",
              "\n",
              "        async function convertToInteractive(key) {\n",
              "          const element = document.querySelector('#df-ca6755c3-5930-434a-90ed-05232d3fb681');\n",
              "          const dataTable =\n",
              "            await google.colab.kernel.invokeFunction('convertToInteractive',\n",
              "                                                     [key], {});\n",
              "          if (!dataTable) return;\n",
              "\n",
              "          const docLinkHtml = 'Like what you see? Visit the ' +\n",
              "            '<a target=\"_blank\" href=https://colab.research.google.com/notebooks/data_table.ipynb>data table notebook</a>'\n",
              "            + ' to learn more about interactive tables.';\n",
              "          element.innerHTML = '';\n",
              "          dataTable['output_type'] = 'display_data';\n",
              "          await google.colab.output.renderOutput(dataTable, element);\n",
              "          const docLink = document.createElement('div');\n",
              "          docLink.innerHTML = docLinkHtml;\n",
              "          element.appendChild(docLink);\n",
              "        }\n",
              "      </script>\n",
              "    </div>\n",
              "  </div>\n",
              "  "
            ]
          },
          "metadata": {},
          "execution_count": 179
        }
      ]
    },
    {
      "cell_type": "code",
      "source": [
        "y = df.Price\n",
        "y"
      ],
      "metadata": {
        "colab": {
          "base_uri": "https://localhost:8080/"
        },
        "id": "k1w_OddrOqty",
        "outputId": "4d7a3c8e-61ac-44e5-bfca-4deef3fa1011"
      },
      "execution_count": 180,
      "outputs": [
        {
          "output_type": "execute_result",
          "data": {
            "text/plain": [
              "0       1.059034e+06\n",
              "1       1.505891e+06\n",
              "2       1.058988e+06\n",
              "3       1.260617e+06\n",
              "4       6.309435e+05\n",
              "            ...     \n",
              "4995    1.060194e+06\n",
              "4996    1.482618e+06\n",
              "4997    1.030730e+06\n",
              "4998    1.198657e+06\n",
              "4999    1.298950e+06\n",
              "Name: Price, Length: 5000, dtype: float64"
            ]
          },
          "metadata": {},
          "execution_count": 180
        }
      ]
    },
    {
      "cell_type": "code",
      "source": [
        "from sklearn.model_selection import train_test_split\n",
        "\n",
        "x_train, x_test, y_train, y_test = train_test_split(x, y, test_size=0.3, random_state=1)"
      ],
      "metadata": {
        "id": "RFEIvcKuNEEI"
      },
      "execution_count": 181,
      "outputs": []
    },
    {
      "cell_type": "code",
      "source": [],
      "metadata": {
        "id": "HE4QglOkNEdZ"
      },
      "execution_count": 181,
      "outputs": []
    },
    {
      "cell_type": "code",
      "source": [
        "from sklearn.preprocessing import StandardScaler"
      ],
      "metadata": {
        "id": "QqdcEX4-LqIp"
      },
      "execution_count": 182,
      "outputs": []
    },
    {
      "cell_type": "code",
      "source": [
        "scaler = StandardScaler()"
      ],
      "metadata": {
        "id": "xF0quq_pLqMS"
      },
      "execution_count": 183,
      "outputs": []
    },
    {
      "cell_type": "code",
      "source": [
        "scaler.fit(x_train)\n",
        "ssc_x_tr = scaler.transform(x_train)\n",
        "#ssc_x_tr = x_train"
      ],
      "metadata": {
        "id": "ShQTxqIQMqH6"
      },
      "execution_count": 184,
      "outputs": []
    },
    {
      "cell_type": "code",
      "source": [
        "ssc_x_tr.shape"
      ],
      "metadata": {
        "colab": {
          "base_uri": "https://localhost:8080/"
        },
        "id": "90-RSWLiNIwX",
        "outputId": "e00eb008-ccbf-4be2-ceb8-ecd32eb687fe"
      },
      "execution_count": 185,
      "outputs": [
        {
          "output_type": "execute_result",
          "data": {
            "text/plain": [
              "(3500, 5)"
            ]
          },
          "metadata": {},
          "execution_count": 185
        }
      ]
    },
    {
      "cell_type": "code",
      "source": [
        "model = LinearRegression()"
      ],
      "metadata": {
        "id": "_NP1xL_IKAqI"
      },
      "execution_count": 186,
      "outputs": []
    },
    {
      "cell_type": "code",
      "source": [
        "model.fit(ssc_x_tr, y_train)"
      ],
      "metadata": {
        "colab": {
          "base_uri": "https://localhost:8080/"
        },
        "outputId": "91e92f63-768d-4e93-994d-2b46d71ff436",
        "id": "hgqA013qKAqJ"
      },
      "execution_count": 187,
      "outputs": [
        {
          "output_type": "execute_result",
          "data": {
            "text/plain": [
              "LinearRegression()"
            ]
          },
          "metadata": {},
          "execution_count": 187
        }
      ]
    },
    {
      "cell_type": "code",
      "source": [
        "y_pred_train = model.predict(ssc_x_tr)\n",
        "print(*y_test,'\\n',*y_pred_train)"
      ],
      "metadata": {
        "colab": {
          "base_uri": "https://localhost:8080/"
        },
        "outputId": "99bbb0fb-4db5-4c1e-e7f4-274d6ee7cf8f",
        "id": "9i6ArK1jKAqJ"
      },
      "execution_count": 188,
      "outputs": [
        {
          "output_type": "stream",
          "name": "stdout",
          "text": [
            "1413579.8167508717 1618721.1384298413 841392.493028112 881443.9247264569 1174747.5505841346 266298.8811183604 1877941.971423074 1022408.9010463773 1766248.403252482 949072.2495954648 565937.200553177 1437153.9585319315 1582605.5351026566 1009854.70493643 1116351.7534385773 1255736.4085876248 1504441.0101502882 837540.1697407691 1096069.2868773628 1205962.994953347 1130844.0293626525 1815920.449805418 1023595.112870682 1054304.171728802 1399909.0486968765 1710612.0295451423 670063.0223057014 1245785.0509590923 1168760.4276857057 412269.2033995612 677988.2554676826 1715435.9911160583 662630.3439401882 1167449.9898697317 714706.4288537387 1411217.4928510934 1200125.4471192514 1322439.1075564742 1127637.557366602 1066040.788657332 1383842.185059596 1364306.7686809986 1682105.8474714488 1380602.5555813394 880084.7004478722 779207.5546130885 1029861.6229008453 1106149.6856573927 1327806.7288319168 1377939.7745081235 1584317.752692729 944288.9110136192 759799.8758389656 1028493.601458844 1164497.0193326313 1383508.061615121 1696339.544124581 930011.5708874032 1092649.7088299526 1686562.168573392 1376969.9288002914 868314.4735625429 1660678.0350868388 1533017.3071416777 1735340.255686551 1735416.9213924294 1771036.9245198532 1068786.6717911256 731715.2643402667 934610.3953348844 1137069.30717901 1088634.962087134 1271396.518005975 732733.2362930495 1702090.6352886 1596440.1139360054 1288490.2684409255 889831.1510522065 1151341.850204358 369433.3549647921 1305219.5213491025 782800.4947029103 968411.6243946048 781524.1763789405 896944.2442711681 828497.0670960692 919207.0276133117 1114128.470041262 1170169.2592077083 647691.8352028722 1160526.0577474134 1473071.9543045457 1492011.495862129 1413105.4948034876 944001.5583308408 1270999.9393805678 1334537.4235594876 1525533.406625511 956435.2633348468 1639099.377623702 681089.918915701 1042144.2309165346 1626941.7878663803 1427832.120659103 1621700.4633341725 1131887.7617860057 1005087.361039984 1550702.478402551 1451658.8772407244 1007224.9288462064 1277744.7389113496 663128.8400534061 1473372.1641704566 1090888.9630292277 1364832.003419123 1712280.705535875 1165240.1780106246 901881.7426862384 1287030.9316908938 1062206.3209441437 1727453.1546019888 1495384.003668785 925394.135004886 1792368.627274575 1483685.9038027334 1852375.50677484 1054249.2065594809 1063069.916425088 1263018.1269889686 407718.9382154924 945551.14893088 1158742.829939291 1276471.5809718044 1235591.828348264 818289.7642087417 1114779.246640951 1646662.9106811616 1398353.590664104 1434575.1099082837 1434803.061308178 1104115.6927835557 1149524.698591107 1471031.4205758185 485533.68035768607 1126137.681408579 1300362.0280723723 1463003.0558812623 1196254.1180677337 751969.2117407164 1696086.168104268 1152046.592394497 1420648.2808698171 825095.108578208 742858.6356339195 1670183.167980545 1517316.573657094 762391.7760956662 693931.501505761 1060440.595655847 2007639.4321368616 1007478.7484311544 1086447.5106632377 1290043.366614489 1063630.927500455 1494101.444719538 1518387.141646837 1278365.7674917756 1394423.555643988 1454749.8065940435 1358983.4704786798 253185.70150858173 365929.5972582176 1555806.041797239 527749.4038647808 2092348.3772236549 1754576.1455501278 1151006.077527774 1219154.4031595571 977980.9211108278 1530294.5773399265 1930805.946694563 1411749.1072165458 1086825.753933058 1122320.9326301892 1479063.2137821943 1649156.6076317346 1182670.135034575 1940225.907504852 1296881.9713107832 1604207.6842766178 1286400.915009066 1267986.687523998 1120349.773128633 1727592.6372201012 1445030.984450201 1336858.5103599608 1535564.5520297578 1123386.5312002872 1903813.7926587544 1439028.5209890238 1449409.4356042852 1426682.1346372126 954746.5764328244 1325860.533421939 1349818.250162027 1567368.284951169 1324382.1755828236 1169736.791123088 1168822.8173240784 1792254.8180047118 1296610.5322899309 1917583.9986181413 1340094.9662054193 1159953.5929204985 586381.5473253077 1769484.8931096962 1412619.7099471306 1218635.851406522 1222412.019854086 1334952.605118672 756216.5757576082 614700.7371485097 1344651.5738711937 1412144.508444236 1393897.3902198137 1154126.215688569 1440909.0012831052 936553.7042681208 642646.4389558511 1340066.913084396 642855.1695820823 1297619.3482987224 1796531.9032657258 841122.8823806869 1175289.1605114085 946556.2636948556 1329007.2034481545 1705276.189567485 1130677.4658439818 1205878.7696221636 1676770.330573918 1005392.4185892516 1405933.0186992486 549947.2482470637 1237902.8200737466 694472.1081139629 1059406.1303480302 969678.5672887964 651787.9705180059 1426402.8066054268 1388218.5294499428 756319.7340442679 1511352.256003255 1566567.883138695 1133084.3238238392 779962.1010215052 1214689.183704473 992622.769267206 1153605.0312831493 1003837.6670084944 1309768.1961093454 1729392.2041672813 800809.1316861338 1609581.8042977294 1017775.5118270963 738431.8310762816 783808.4024661684 1557794.0212722572 857697.1254910927 433247.1565833708 1061785.5833805124 1217021.518740754 1186688.505938349 1133910.648443125 1352096.0506802993 1804243.860448444 1339303.6569163986 1450122.715015601 1601904.3565403365 1541746.2905590518 1049672.2486072308 1086186.4278047497 1086735.9127637602 1229702.9483640655 1083745.371808771 629657.6132544072 1347578.5303379197 1279117.9650857162 1663509.3926240325 968360.5234030996 615506.8010811901 1552536.7639745462 737147.0943241782 676377.6614159645 1856782.7829208511 1420469.7265189183 615568.113378455 781213.0669276181 1443842.022648748 625990.3004351463 1186441.756443983 1209287.535497026 916344.293835102 1434835.9531418546 1358646.7462613978 843633.1982439461 1534889.8534666563 994654.4094247868 1202987.8293471355 1656785.4477005391 1098518.1336854908 1362436.153753944 1138609.172936965 414165.22036082624 414571.2229366215 976649.0166086608 1506656.8260229118 1407123.7995305716 965136.3385167392 1461511.881271546 1178846.0658152937 1037780.4795439028 625880.7320537643 1265927.359738196 1630952.883556368 491085.8259962853 1306349.9922858966 1610217.177003238 1252416.6912618277 845553.3695012048 766078.3707692815 913397.0868819004 897479.9501690639 1081578.6194758175 1899948.0591423784 1570154.414183986 1459540.1330420503 1290784.4908596615 1236044.315553221 1088548.8265538793 1369016.7779001954 1031146.7545545298 1073355.783703826 726883.8689485132 1599963.8071501006 1333865.4377201414 1448774.9705814288 1038153.9487324572 829868.2304469759 665266.9765732376 1246218.3100606224 705343.2560893283 1366727.6626961108 231189.8209898588 1042814.0978200928 914136.519775298 1748474.694094093 880402.7569219653 601007.3511604669 1196204.8862624606 1664301.512323261 1441736.7608375724 1271340.3814239912 1129613.0100203287 1165877.6686129526 938827.8008369108 1737570.5050745255 945614.5659127636 678721.8842424268 1203247.8901339215 1274474.5458934947 955445.853671163 1165990.6036967745 1073350.0443075988 1126821.108811283 1564252.5257374863 771310.0003991764 711499.2445801494 878862.7456844705 1439892.6324951418 1935172.995020192 863448.392442468 2152959.4089430883 1071109.9165850952 1706689.9397544104 1460758.6262644362 803919.8064717614 1439431.4528896934 943854.7278973316 1503552.2062630926 1151233.0954609383 1068138.0743935304 1153433.0812821975 1707269.5277034238 1115466.5850714108 953840.6976020308 1392207.647768422 1530013.4488713266 1112314.302911407 1206020.384558566 1111284.1605705975 1327975.2487410752 1186372.1785061008 1833208.5791579715 1235681.7929598093 1513427.551164361 1385978.9841198327 623181.1347939228 1072704.8902154437 951243.854076582 287307.583688923 1316793.5692341109 1106261.2737053018 1336356.2325639816 1048969.4932738757 917351.1355937724 891661.6959126607 1467849.817834562 565680.5528071544 1731564.379493469 1527439.7172659903 1696717.1072993656 1361230.1212351571 1219778.0342015522 1734239.1383592023 1298476.894637183 1874415.1070496887 1928728.7915559376 1492095.1431974396 1385400.4556730608 1715743.409136058 1527691.7006808666 1112194.7521798655 1542970.947533841 1393482.8496279658 734562.104533648 1030729.5831522896 1824987.706251756 1489667.7500101302 1255576.272954358 1943359.7675411068 1069292.3268591478 1111360.3028116906 2009937.702628427 555755.6567947512 1499552.268737694 1262552.685917803 1460364.2998845282 1073183.759841627 1608889.263379709 857934.5477662288 1601527.4148865074 1242316.9909078022 1524106.964721467 980049.3901359153 840272.8648923194 1200401.9889419326 1081150.1254838074 768751.9005440959 1384432.1532990958 929247.5995364 999826.6092888176 1212899.2186562717 1482107.3699638068 1318058.0633455634 1194357.4059239507 1450619.4572830184 1442632.5412265589 1612717.553099336 663732.3968963273 1212939.953517593 1569600.445635948 1130293.596703484 810751.7250413778 1560805.0707927227 1538985.1890983768 1125696.862367818 839745.6833340527 1036338.2390135262 1412776.5771211844 1214563.1502187783 1243491.5716775164 1412097.1767743204 1371521.619588533 1244248.524945985 314167.83427680004 691854.9210270025 1456273.723935143 1030591.4292116084 1317234.042879586 1396401.0215001125 1269293.208736044 1480441.533604724 1678347.5275379843 1730103.133132334 787039.6446794184 881446.1155446059 1269811.089152703 815593.7638087127 1025439.4339352736 1574279.8139775426 1268964.7954015422 1765281.0932294582 1499243.167565391 1059431.4512633595 1401767.9042517585 758570.797192593 1084539.3870624043 1356691.3872020654 1125230.4502937691 1492965.7334657512 1092809.5966868077 1584439.7128321177 1224001.870843812 1261681.960817626 1095597.9438335 1301486.6855460985 1900789.2370148413 1449829.493750261 1444572.9714972137 1540869.871999482 679228.9927468386 1164209.6193771297 1332042.9116713523 854487.5970384093 201898.08657249613 1372994.2901084968 1283764.7877560898 2014851.344161515 1397564.1562824403 734827.50801229 729990.0243899535 1501103.4929884768 863297.1766934411 1618670.884405709 1197307.146008132 831471.5304107015 1339254.7267992808 1938713.985075609 2030910.6153455232 622449.6452289193 1070318.8148959314 776125.597113738 1608726.680546448 1495518.62392568 1331374.9476177315 1592210.175923131 1536992.8656720358 773996.476231782 679373.4014719697 1308243.922235843 1251430.920318619 1768705.125279147 1435981.219914465 899609.3001428025 1069238.4997052513 1525205.6460323844 1061208.7061709536 2005167.480217235 1825071.452252544 1632943.3488277283 934408.7142813632 1086072.0710614217 1469237.20519252 1414286.7224241218 1265180.9089164848 798073.946177208 2024902.521283108 1638265.394523659 1553311.1606797678 736817.3769171783 710269.2139681028 1403296.2576075103 1137224.5754304302 1500821.46909593 1209445.2203735302 1993453.673154315 1580727.450288832 960808.291081754 733299.7945489064 980145.782902982 1015546.3086072234 1543801.654559296 1080735.9840692123 1387701.1110529576 1538903.9925451411 952439.6621570892 1119992.6188354518 1257376.1736885186 1218509.1453244926 1838092.102498864 671802.0395152965 1047452.5080813532 1970419.0541530403 923830.33486809 1099788.6980318588 1426545.9673390274 1007856.266240042 390948.4499941545 1184462.319944161 1153871.4695016337 1907859.0589315053 749383.0725554076 1316206.246554098 609402.7752548894 1783534.838827364 839629.5121744731 1425632.5419741997 1100152.0877663638 846095.9673147105 1444701.3279198643 1592175.5124622623 552585.3540991661 1424389.4833293157 1172385.8977045629 1068492.6129947894 1869886.305262404 1240754.932046382 1034180.9492611092 1446155.1797020894 1547888.6330481975 1676070.94296519 1492521.8665181694 1287784.3040333614 1026126.5838267674 1311432.388111685 603714.7885821962 862865.8153196024 1015010.5384041036 1102821.4381808082 1148416.90958571 1059113.7212754686 780608.9935174572 909781.4667682184 1672445.347971653 1055153.3195092094 1535781.3940854766 1262017.792059947 624244.9443876417 1285019.1365090108 1143203.0678656865 828127.0276465778 1244563.274691745 661043.3565144942 1169944.2477587468 1662585.9381789912 821859.065727853 1217309.1294013518 1869313.1069877336 1540762.268628121 294170.746352692 1222045.0908874616 1599478.9856644769 1643086.2778970115 1028760.4652352538 723750.0652577134 818057.8953027214 1585873.833196516 1194083.2472498536 1581817.4067967194 1143672.8254142758 1578760.8083977597 1682708.6168664235 1530480.687873164 1293383.8900123087 1218011.060787834 671671.7144903882 1532845.7231194605 852590.3528209794 1558196.968571363 553077.2126120757 1735826.005205352 1400111.496727653 449728.1009992498 1327718.3816666016 1381272.8805665972 1596439.7157326203 1517152.5846254574 1365437.489057367 2298379.48670761 31140.517620186045 1233126.8356523872 1389287.4738699936 1042243.7312719524 1252391.1798421678 1815809.621442141 1165253.0327180624 707345.0624327669 1457672.90568856 1135030.6828346122 1291331.5184858206 1106976.067467471 836339.8169458734 1708102.1023987215 1689120.4265200938 1168574.665599605 2020158.3629418 1166333.8865033598 1289190.7626395207 1742938.7760231788 1491145.2404770595 1310207.133039433 1499988.8795226102 1299991.9508120096 1536208.366135118 1183014.5086739515 1353635.4103963175 1016301.4433502624 1273631.2670727102 1124635.9316285902 1745516.1706263402 633875.9302099622 1754969.16194479 1040607.3120545676 1045704.700328456 1737759.0500294531 1026817.399788458 1198572.866300251 2271112.743827721 1389047.5577764665 1565931.1916819147 684257.1110665329 1427551.1449668494 931768.0455357102 1708631.3653701425 826306.1479242345 1601678.2634858731 1232004.8298347492 1408427.7584109262 1224186.6959259962 705100.5115554469 1704126.8763504997 1365151.3942278114 820611.4708595406 1376346.358964895 1352917.1768613977 1292592.392096719 1441882.5217055138 827268.2274099344 1012269.4686781848 528485.2467305964 1580557.01024894 658646.1847265189 1065656.0234758626 1249461.5616007491 1420283.5588377572 1033290.9749004892 1208843.2767307777 786559.0248508396 1398466.6278241158 1351639.83872163 674197.8519904646 1243239.0034040422 1914509.5209888024 1233484.4765780976 895441.022143891 554702.6801764854 1987332.217286645 1085103.002972052 1582765.592476812 1264972.4420392748 1530068.0120752782 736897.4095371914 1250882.2917570665 1160397.8217300237 239319.93417545117 1244789.0220019894 1168355.3197896334 1494241.2261904366 996771.2481507692 1064939.5225198085 1127873.5774725412 1193519.5083805996 491907.7943712191 1309922.8541763353 1356062.1044986642 1491838.4944434683 1028650.5919845894 1285098.6907913624 1866035.4149757065 1071279.210244544 1174779.157761556 922478.9145343913 1379456.0307108702 1956438.6514352525 2059301.3434198145 658644.6170003233 1194594.988366492 1189466.7143340828 1481171.234478745 465499.8080598057 1252723.429640374 1248130.5205878613 1222726.5643610675 1384466.4369129457 1515005.384163801 716771.0057488753 1716323.348128052 1031121.814457246 911656.1052977764 1661592.7891103032 1396241.1981041245 1641055.9390446388 1049632.1806835155 378466.4201839389 1860681.9470210185 1288426.6939028532 1129798.3727253522 1757395.7872397113 1549031.093041703 1493623.4158691058 1422230.9601239902 1347202.5775821644 385678.1666731234 494742.5435776913 1506651.1565735163 956764.0140836356 1572513.8381522945 854812.2579554294 962591.6565767032 1328586.2904618224 1249914.0785097177 1062095.467626749 1721005.4195045803 758886.6887614839 1380070.450117897 1568700.5855257383 872312.1737954783 1707650.435673782 801194.619821129 1816152.2669641247 1279777.3787882745 1030324.9189220024 1067727.0946673383 864132.0330832003 1300303.4071226972 1012545.4916159144 944032.477262609 1462899.0314555492 1651684.77387328 980231.2309341528 1109006.2873668086 1226180.7679891768 1353854.4775205588 1337472.085151686 1409318.5774674288 1590336.4170441094 1084013.7849062877 928538.7847562184 966576.020188316 1961715.866692026 717273.185257682 1753967.4765968325 1159207.0846165894 1760734.690364014 1076602.187723606 1235750.6017170658 960904.9953518584 1243879.8299386548 1328658.9110723843 1210184.01761757 2318285.703336616 1115394.393195597 1813996.9333129849 1029273.2785955656 1170705.1662407718 755843.7090123148 497368.0367931192 1550359.5484654682 1243981.9458579402 1517693.106201501 1170959.5262846122 1108894.0032261622 1741052.959622036 1040781.7953593384 1574211.648913064 1662939.0973972816 1240763.765571478 847387.2057853508 1339142.80508292 871325.261278003 1591383.7352199997 1218125.212270385 1172514.722473985 1786085.7505429988 790721.3677899047 1495390.49870273 922514.0879743272 1120943.3385906045 1712282.2593634182 1090805.3740171348 1383565.6961895288 717661.5560232053 1167918.058868265 1226041.7830216552 1323326.402922148 1935831.0390568047 1200539.361167783 1640990.378462931 962747.1638994686 1788285.2389932962 1645843.0482722488 837668.1026021099 772111.9721021007 945833.1891229402 882666.5815081694 1490539.0581097947 950121.5621065242 1641739.5180614428 1168993.737583562 1028683.0448748892 1216307.1456612044 1305185.544822347 602209.5750471331 404976.365896227 970044.6656400692 1534111.5806179212 1055548.6757761142 1978629.875232525 1714445.1746365826 1076334.1025455322 1827476.1960615185 792449.5430652391 1048350.6918200088 594816.9325198851 944491.0395552134 1698198.7513699988 1505560.5399742462 1127260.1257513668 1170204.3390991166 928563.8215523724 1450769.8409873634 1789334.8514812705 976483.5805106072 992566.6232646884 1710966.0356305088 1371640.9317114232 901752.6804515448 1879416.222452312 1641873.966286834 1043415.992020972 1416648.297306375 1799827.2201704425 1161742.677446362 802048.4455314139 483458.5482582932 1281537.3681660516 783566.3279228922 1421047.6461369044 940138.9613987308 1521527.0421970466 1961846.9052189465 1087802.8877692306 1222576.819715059 918533.616385498 882170.3184490805 1057347.1660527764 988123.7553400168 685922.3851784463 1540997.8864851487 1272719.6318939514 1305070.0130524288 796666.1224321837 1101120.2587428256 547794.5711922585 1381417.2495046626 2138713.943340635 1187113.826180701 1891398.2558229947 1126450.4261744465 1159596.518619623 608794.2466921951 1474379.4400821466 959416.4366620412 1186019.796113567 1684537.9611563762 1430813.4128906224 943668.4823796288 1016163.176715182 1358350.39783993 1634945.8075096812 1391303.7868712496 1564125.2379417687 880214.2118726358 1550036.518714004 1157189.4377037785 1517666.854519622 1147685.3005502543 1469767.6472201275 738030.6498645385 923971.5832050658 1136448.408760456 1080170.906857998 1191968.5200498789 1177289.88620479 1309985.886794079 1059870.9648322463 1644923.078262324 1106336.8383046896 759044.6879907805 1336377.8252537115 1747911.4958528914 886815.9435970848 1211102.210889241 1376898.0583895228 1348873.4268637958 1748864.714526891 1182335.6796501088 1636559.240604262 1273554.2778351835 716316.4881444586 1792753.4995637876 1131533.5554094613 1837930.8009415872 1190867.437364912 520217.89299136034 497579.4465868728 1272180.196538667 1084255.6782722834 1432318.469639134 1431915.977008168 1573347.7884437758 1003701.0495827476 1677005.1404360302 1282758.90307051 1782803.8692421229 809089.6719454966 1419536.2589499224 1240864.1544719306 1236633.0865635795 718650.643819188 1986811.1701954128 979568.628541252 982298.0365595416 1412274.4860076832 1595663.4739549155 1638577.4166270343 1593331.7087101643 1410814.9846924148 866666.0553738795 1306458.9058958818 1401560.9170354677 1219846.9185098251 1884385.649508617 1268570.8085187648 1337966.9267592845 1417047.627110665 1277297.48311534 799207.7042750404 1090996.1430147758 513215.9882314093 1294069.5325034796 1734814.160325652 1364194.9398179324 1155513.1752000046 742449.3106376197 1292643.5202523577 993725.2171881604 1236093.9143957258 1629573.8859278488 1836419.6406684609 1224792.356950685 1811265.5232156063 1049661.038846639 975054.5664011224 1475700.7096609343 1132983.9551551435 858159.6196000497 1197437.3440681112 1285157.8695856398 759360.6547692231 972079.5875536922 1065679.1208029888 957806.002679502 1003642.6274172928 1251688.6157028745 1695706.1315254318 1301881.416528581 1051519.065766143 1617072.27721383 1145351.1612325564 1513223.534863405 813807.6997244997 639366.3655728735 1220001.3342399488 826328.1083526685 1047280.1118709394 1392537.290354905 944590.1588346952 493350.031167589 1375771.1290372745 1418310.0848390271 1160146.171270086 1278991.6886996122 819027.5986834953 962183.8029974956 686644.610408734 1114957.596869497 1431507.6234279652 1280700.4032528442 664298.9713057821 1375105.3459220582 844695.504884106 699323.2623925492 1281113.31524688 1463442.908287028 1172619.5970591358 1814462.3505011608 1644242.137141663 1076438.9751434857 1680788.286557635 1153029.6157198593 867044.9596419198 1012269.8201046892 881273.1168015127 998702.0371241436 1128842.2090283502 2180065.597738638 1201785.6666717983 1514349.692197701 1222799.3397221712 1505890.91484695 1412449.478586824 1441526.8367587973 1060123.7295704826 885204.9786583288 1308508.1189828415 1175781.4175700566 1279945.5101680192 1185160.8610785818 1222277.0910204104 1013252.2090460656 1499153.0808398786 1243918.8107245015 1295099.436777126 1967637.286822351 1122563.8194987655 665160.0759449846 288708.9121479006 1308752.5044794169 1125677.6043161764 911901.1553498644 1537864.8820073928 685880.321277076 1131698.2141953632 1268703.8107933956 1221827.821998858 1002974.2146829072 1244630.997600002 1957891.588351542 1094027.185790039 1848511.108160001 806255.875632613 1557075.4223108292 1578141.0531342432 1357208.2377392326 319495.66759175994 1186025.9508770336 1282339.3498764976 1014450.6537930904 1370178.474136888 942166.50902854 1390251.419934081 1129408.8701258716 1629345.786532865 890481.7298329042 1619721.7162305776 777144.2542493446 1132146.3204353235 1299430.1759553957 1454126.550991805 1356384.6675167023 1648246.7742056048 1006580.4796598312 1308773.0784993526 2185480.090688329 1630438.8542301457 1280995.5491585608 1636906.2883778496 1188196.881911283 709348.2237339056 1069827.806639154 1144711.1773279298 1269486.3372270886 983534.15000672 1603268.2110607368 1676172.304855517 990893.1600715704 829794.8232933849 1334377.3074135566 1696977.6628325956 1259163.0652436588 868713.4366943266 754960.5528405047 1277380.5286085252 729315.3749195363 676979.7154027742 1428693.929893514 1688279.3081102488 903657.5625479298 1274053.63988823 1341722.8359691473 1675557.2712307854 852982.5643785995 839638.4609643505 304239.28237102233 1421715.4153436075 1123851.141411446 1199144.7879332034 1202992.8841231456 1476277.527374216 1443907.7473837263 1400609.034078121 1381117.7013514298 1191625.4399627368 883021.8963767654 1727211.0894733826 850977.0123103865 1892623.5459042157 926880.8505513167 816813.5323512612 1181630.6251696383 965318.6957876944 1170892.9796549894 1441576.8467606597 883147.4710432091 1625508.0131062374 1308465.2400430096 1311067.4456660468 1104701.234420732 1551390.3787238726 866689.0911811923 2173808.627715738 1070818.731368435 1084945.3996676442 479500.5568108269 942663.9415375702 1642844.648635587 720059.8348080008 1453597.5066767505 1009831.1347769842 1130108.0228452345 1545961.6076584705 948788.2757094484 1202227.9566643513 1426695.6863993006 2007556.2860539176 1082588.7273654498 995721.6273979772 1890056.385193676 1209797.5798096356 1048818.2102501562 1006544.5265988766 1315568.1643761364 1641749.651205491 769576.8636597353 905328.7691457036 1417957.9831817353 1156329.2740497622 932616.0682040264 1381442.7584597112 2142896.5564072616 1033881.1348005374 880851.0551992012 965074.8047437824 1462360.60087787 834599.9392319452 1105024.4162669778 1024738.2849269824 953261.9162022916 1381536.933945742 821413.1935367524 1902814.526796328 822934.8312947354 899466.5749240116 1517141.622824528 809057.4586058989 987973.8927878812 1123991.977280772 1296146.938859657 1434144.2608724642 1591934.1903279135 1067191.979946472 1180989.3240263455 1703880.2199140803 1294685.158547012 902520.9400336036 1240380.4614059897 954737.141064872 1181995.430504778 880132.8440062631 1661435.4795672083 1522143.6413856596 1417158.537395579 1304789.2625824716 1054606.9845532854 887016.9763645504 1462875.9838223844 1867050.5361289831 1662038.7593434926 1114430.95342313 1342818.6762798564 1116487.3570941258 1064509.5226208074 1318231.4182852104 935061.309297756 1063344.634927028 1502055.8173744078 955943.8090150156 1882118.610971276 1383395.2874928915 1052185.1759533966 1584213.95748502 1014226.2985707616 1211442.9407654293 1318681.0401821504 1681316.362253782 1399466.897763413 1102516.5838414284 1236258.07968267 1262281.4856597355 1340909.7986568718 781482.5832219761 701865.7729563166 1397680.2412138034 656971.5307242259 1382787.3245131264 1869113.6110749368 1390990.849092237 1397943.5134157222 1299924.7977382322 1377447.3485206584 1075550.2154757688 960918.6584475788 2119176.261933276 1500939.8265608612 824540.8963674724 1308017.3142391797 1846350.0200436213 1224397.4272492656 1390200.2242984471 1268421.104189113 1118595.1189391278 1195601.9623484935 885709.7642844076 1133139.9261763238 1150658.59516312 1446982.7614704303 1117741.7573242227 1626125.1656497952 937628.3466936616 1693384.8030654874 1521141.3453009825 850010.1815527306 1165875.3063766025 1767399.2899479496 1222701.0121116524 1405399.8550982492 1472887.2470605278 1180091.4978196998 1279160.9875854698 793894.9731793484 1749820.0141306592 1062877.8829939002 842235.8033529122 1286477.3958779026 1133814.077962921 1025705.1343197428 1225796.4144416682 1178553.6161792604 1560838.450232807 1603749.9836054868 913978.5733876184 1373290.8607785418 1376146.8111116744 1354417.5627576166 1622827.297843668 2096977.790185921 1313304.5877362725 1057838.4934225385 1343162.6366221448 1388782.8874013545 641484.2385493759 1317040.7373210003 966084.4204303528 1113373.5200017327 861013.9460775609 1276259.0183221009 1539084.9218209032 1496466.3571105185 1421518.6019075266 1100632.3911398223 1214320.5743640617 1517868.594946868 1879797.719739336 452530.1766995848 1163741.658300815 764756.0934618785 1635151.1855657238 1490904.5625106555 1184799.2714969371 929480.6298952122 1004070.9982745504 962551.0371401922 1558547.577837524 1361841.9517155087 1303542.2825080787 1153470.4397478565 1458422.8106991698 1283415.2655546074 997448.7280769936 1043548.6091084076 729882.6248906897 1671669.451734201 840208.7430414602 729641.7408744311 1044017.4316455174 1242979.1541040274 1577849.5238022262 1628830.079642039 1285202.33657612 1329800.0461904877 972417.8089132756 1321743.1661741682 1539129.363811181 1333014.9075833731 1399812.6127342363 1795093.0340089437 1064685.698733535 627650.4025709751 1411024.0439091795 1360100.7192439777 987026.3707410204 988175.0073923124 1488535.1595646788 718874.679765292 893802.0888455657 1422916.8108158372 889113.2388612495 1185734.9581772955 1074824.8164886816 1326846.6987356965 1572814.863233389 1421135.814954099 1391788.848669405 1389366.7180879028 1465223.509412894 1663653.7097575443 1582140.0596046257 1553854.434199959 1827500.8917075216 1365945.0827829945 1187454.6724878063 1340983.2503590283 847155.0413472857 1485418.1022610776 1043968.3994445396 989643.0313890134 1247645.409710813 1468267.2302156277 768034.5330731972 1852338.4692459644 1065150.786753825 1048639.7894974465 1800685.9224889183 1093506.0142506592 1409892.0897761208 764860.4626889983 1798521.604522182 1360623.694456931 1431386.814465111 1363669.0689153152 668255.4804327786 1316180.4935914932 1076995.904067892 1597152.9012685108 1403219.370573444 1368134.9976821383 1382110.278182302 975384.1814220176 1232156.01224821 1174289.0805683718 1473761.5318166828 841276.5860989693 1989672.5239908115 2092949.8613406112 1531216.8939163382 1223261.46230481 894251.0686357756 1095391.7986012583 978766.9138660992 1331897.4568409575 1736401.6096050944 1302814.48932942 1260484.4621029706 939139.0293389644 718187.0166164306 1109639.9956683936 1102641.11402327 1591234.7734067757 \n",
            " 829686.5146702235 1199036.4218322914 845641.3204230384 805121.0568858759 1499212.9243967193 1186895.7950671914 1024812.0391213915 1240302.8416850853 1070213.2002978306 1358827.2539328376 776503.2109570703 1764758.5712427406 1676576.5425386422 1564593.3550965043 1045941.5885620129 1437327.3447788525 1176565.5820138326 1313604.8914224186 1509187.22805836 711711.0604995604 1428764.034279117 1153444.8381309984 939100.1499640497 1065940.9739402249 1370840.2344137637 1528509.4967748653 928453.5251044494 1350707.408599296 969583.6001122037 1025996.8813395129 1327032.2514824055 671829.2502697662 80891.17323050974 1349463.0107171114 1626875.6334558662 266561.792158872 1420887.851377055 1606676.2300464348 1097092.5185434946 1393449.3156554063 2014741.748468225 929060.8206828812 1374157.2328114498 1116550.6232385873 1027852.2762759529 1009248.6673435862 701298.909854291 1259801.347749253 958286.4188118116 1582983.9498488912 697046.0819925976 926026.4205889779 791176.3191224964 1147524.2911665617 805482.9188376458 1238867.8619885747 969142.4972685613 872964.7367151778 824208.1202343411 1130923.3980868377 1135639.135017995 1008095.0007241447 918263.5241204393 1365728.0832180188 827613.928246431 1740884.9464134686 1538495.0315012697 1468644.8080265247 2204192.7835499863 1336516.2402406933 859987.9520671158 1066633.1912597837 1040486.8725041389 1247052.6963071227 1878973.0302885105 1305330.1462785248 649081.3357547035 1363941.3794617392 709084.7151875462 468717.2061667214 1478300.2726284035 928167.8062074792 1988257.138298008 676034.2661899786 1248297.6866065848 1663305.0790814725 777365.5378773077 1099009.405322706 302649.6163517069 1531405.7983947843 1115578.6530711416 1167873.0734421045 498874.9084508952 729664.3841152467 832364.2175711032 1627714.778098205 1332174.0740753275 1872633.5989887593 1391503.2119814693 1231453.4065046653 1569253.6171401273 1326791.1022560624 1148349.9504989663 1127742.1021804006 1004403.5060914356 1656549.3765394965 2097233.9059180506 1504815.881338515 1596146.4328098744 1503935.84817224 629572.968195972 1248042.1034949757 1304866.3545638928 1061044.2208578703 1273857.3198739586 1057022.5560936756 1062210.4680381794 1379808.6355733396 841339.3255965945 1541865.0133434013 1461884.1897463885 825923.311112216 1364279.9324667326 1303011.2073467246 1121191.2853171923 1791613.4860663547 1688991.3309268937 872027.1801455414 1281327.2634236729 1665756.353398386 859399.0137339908 1170486.5773828216 1515571.9822875364 1729637.648534314 1339820.799499948 887760.6529538452 1382320.0467473627 1121323.6241803276 1076882.251355361 1274272.6599663713 1571088.1284197785 985818.7321528777 847818.6043696965 1566640.9292743846 1362252.4901009337 794494.3025982995 1537701.7429454462 1492618.2675420467 747775.7989035433 701973.6520757664 1873341.6177183173 1258250.031727054 1732772.8045749369 1100320.4191093908 625316.8369761687 1573944.7319193399 1128438.0291462122 986214.1681117883 1242783.5878520068 914591.034456766 991572.6982889115 957830.9009111873 1796761.9610591256 1518955.0219314885 1068373.1842074965 1720343.9659491167 1112902.118386362 1287341.7381488178 1235444.2571573642 1122660.9780098638 972736.3794646639 1393223.3616720664 421455.0892394886 1242049.83984348 1271376.5427844971 1316134.767379357 1361113.131961846 1101985.3851431345 741761.6624332641 1182999.976995063 1099358.6647948432 1036521.2148370403 1547504.6024771514 1120708.570974878 743708.853185514 1224206.5127794882 1493618.231826305 1592596.3529678304 1725385.80694495 1197467.0779041485 1033898.3283903415 1419463.6157131586 1655469.5120168412 1275782.249454885 1162615.5900144493 1559152.6860273725 1190819.898298228 955102.6748738122 2478861.9075361984 1422439.7359619865 1098273.8367748705 1503229.5149162957 1376359.1195050038 1109082.514647941 1618152.293091159 737995.8605071644 1505458.1650147024 1186662.8595484323 1189403.7467409158 1026522.8102645313 1354372.3184731351 1330743.888214301 1260183.8011159382 1538282.325931079 1148963.126718914 1051217.1231706552 1213280.4521368116 1435928.1829391988 621023.5629815604 963875.5903724061 1356164.9026649885 1102555.117730416 558019.3635708045 1318468.8957059884 1379229.0567613353 1393398.289906211 1823266.8066182956 1562819.7539769458 685385.1234921113 1257062.1594791173 1126811.449475321 1338286.6219211707 1278831.7619876552 1096414.0587210858 1301657.5679922341 966241.5030656378 1366197.2629318242 1826626.867836569 1695870.0740354538 1170463.9588492555 1501280.1719190176 1742053.0996990704 1410429.818546544 800697.0199811228 1204168.5066189729 1414960.8512039082 1665288.4872402449 662140.8272758917 1845457.2785533776 2024737.7956183841 1558606.193417511 1248366.6083978938 1469978.2126864586 1483999.8920240544 1052005.5363759794 773220.0624367468 1121526.4632818429 1437489.3144733016 891566.8122661386 788364.1269514051 689385.6370116558 1439124.5430976897 1358125.073912857 1505932.3159615227 1314846.0602043138 1216624.7551060035 1426893.1369280661 1440092.2110540955 970265.2955192806 1340581.5160300175 1288248.2818610882 1564555.2727903374 994050.4857689701 1861084.8818721317 887105.3481573904 510055.5949759756 1584108.6036425997 838132.9602522729 829153.7938941694 1293220.2866432075 1373699.2641349556 1365380.666693368 1173807.9333978854 1545038.5569588635 1434684.0818260335 1873641.9756408387 1238784.358079032 1686583.4925206038 1580262.8579549298 1345282.398171213 1155327.8820269508 1260833.5652031596 1138906.2375404625 1617510.1408964472 1500198.475769973 1182760.872393904 1493914.181932974 970614.6808893804 1422778.365309679 890154.2062958938 1154969.3547920594 1606564.951983813 1202790.9925001713 1638932.7207769754 972096.7690475688 1129384.253312955 902390.5387702887 1382291.9035802083 983264.8772085021 1343296.2340030938 1322022.326855923 630236.1690093594 1032138.4627506176 1822339.4808208202 865598.0727525274 1552063.434383268 1826097.6212092796 1444008.3115398318 954112.6674320602 1353754.0144738054 1262104.8730696416 1084690.2095468636 1619138.4116589648 1548670.1130337655 1162092.4163549475 855139.0188210804 873419.3922280364 1225356.798821806 992154.1979904554 1699387.5498224087 1233078.5562488525 1264958.7179338324 1311627.692060061 1348487.4888537037 912606.3063955952 1229832.83180882 1395823.4188376986 1220260.4916760349 1207414.8325097323 1119430.0653127523 853288.5304920832 1564437.970017577 1246337.3810461604 1610421.341268715 1446115.5062512958 1350192.3336124606 1521576.075674809 1678366.5104901197 2230932.177917958 847348.2394362069 1127080.727514016 1121410.2588167111 1078568.1683671428 1252731.5775251768 1667515.1409161065 1026737.9477536848 1073298.574993357 1530279.4167128552 1103158.21884184 1770680.0824778168 1180755.2645855697 767766.9439262261 1584265.1178857516 1033165.5085503015 1232075.7920381934 499961.11525199213 1330019.2114644093 1146113.5334440998 1295738.292918714 987992.6172605341 707174.2176427294 959501.8592812801 737938.7638130995 716689.1465999046 1337034.9951838562 800277.0023828218 1250718.1335710362 1479518.2404084066 1197202.268357855 2249280.553619147 1740395.5429102925 1262659.9121119399 1234310.3614802188 1279363.6398319295 1135718.542927717 1421423.9618955327 1103929.0164999901 2062169.2945607076 1280649.0580141055 1031003.9827216442 1323357.1388856985 1773523.029365819 1301396.8882244185 1202223.8980546063 778764.9878176558 1590278.0561852315 1618453.6390984938 938525.4897172616 1103242.616812105 1225159.2332207274 1401185.023479666 1302768.3998160772 972292.666393176 1226861.0260766137 1638173.9216414983 1706603.7674328287 727112.9159043585 1482288.332337255 1357913.7202186382 1581374.8653813852 1076811.3258241955 932314.2795269338 763744.1998965326 1170127.7900289332 1182809.296075867 1810469.6723992813 1071613.4439325863 1636851.2445432683 1180891.5322131356 486361.53370758623 958875.5074612461 1615687.2920539887 1468501.1729475756 1486489.0569652747 1418983.3830565414 979208.4385957553 1151215.077555154 1334385.706362798 1173411.1441745323 954740.8866257255 1031193.3421939566 1067140.5100804034 967752.904430954 1135857.5472923995 1041241.2834214144 761458.5088018397 1598399.5449143155 1522023.324813036 1257093.427289256 1113412.415607436 1226955.8239718615 933604.4758869747 1750103.4001054436 1564675.1202005353 1578903.9046370483 1567354.145799053 886611.4415142228 1061057.2622640892 1590898.8029024932 1473450.2715986988 1458951.3985667457 845840.9654182246 1219176.5285297635 1366937.2954984624 920717.4185603854 1770508.5833428418 1243594.3416482566 1264146.8747989414 982222.5111870103 1466733.7823350288 1441118.0393449636 1362804.7608984055 1979392.8089040953 1294677.398261675 1566250.001171865 1050215.857178327 1637198.7111908202 1409056.45766312 1686248.1094729581 1052572.8409004207 1348230.9803918744 1780876.6379420708 785716.0269894473 1019789.482576563 1260367.3854907958 2274513.6396283214 1435607.1608335788 1408243.9478554493 1632692.5750759023 1719767.0297335875 1425899.426346718 1538591.6518318953 1712156.3434924001 1105205.4449553208 1068206.2113319677 1313667.5485327488 1365305.8832787022 1285672.2022268176 865581.8131963417 1177453.0407556472 1248503.4085323603 1337270.5425000715 2030962.1307124915 822707.3928851208 681213.7604422133 1886191.6878696573 1373614.0207754776 1138762.9947552902 403119.5209095564 1172545.9106281903 971193.0478538253 1432440.4664750362 1318988.8315110696 1477644.7372627207 844879.0125925624 1292743.670927509 1575075.9632954805 1411739.8393932916 1267479.6605423545 1061261.5957651848 1555778.6942121878 1481843.2734144328 1174949.23055724 1017151.1131151769 1237402.589366993 1444237.8866518135 1665188.7640296714 1098408.1889365155 1104137.9410510757 547169.8410076454 1707980.4673399418 1201820.112006906 784602.7770348929 1357573.3291577925 1431562.3640393866 1644547.629040856 1795856.540414696 1066124.2182378704 1913117.0947243562 849837.4970505186 1250086.4402790482 898293.0864059331 873970.2074693142 1493763.5240565776 1324520.7839612486 1499845.0484431195 952607.0049956983 1235170.9572180612 1261779.9478942961 1467496.897289684 1150677.8969355582 984514.1819012391 1411788.5219572685 1500968.4178566854 1527052.7133253748 1310128.8482800862 1120621.6822768978 768801.995691497 1529609.6026025107 1133976.6527212185 1125210.7663359195 1018306.9940739651 1213654.7749842538 1322244.654230232 1111853.4732976928 1502160.0581707086 1455626.8364515165 1516528.6384912927 854368.8068046022 699430.1129119266 894897.5832395088 974776.5600639463 1351625.1092309149 1521183.0905493277 1744124.2693339614 664811.2101733547 918193.8546002206 1025056.5053343577 1092783.6245215852 1107149.3075536632 1270548.4341543436 1114869.3128834697 1105271.9505821709 1275610.2035070914 527345.0186642924 1123705.3932541674 896005.1269563668 1242837.4375028308 1442981.221118623 1184707.2056404199 476331.6214082134 1284392.6773994071 720193.2042540038 1380032.106828901 1176984.9271756548 628149.5923109164 804078.7424706647 978165.5168812318 1596888.6282111537 1138055.128141973 1906391.3301177807 1592853.0994732953 1302826.932913368 1515715.723568748 1290702.8310318862 1716347.410279976 880537.1048007002 1034337.3888659939 1779708.953349901 967103.4383905882 1075141.8501278171 1120151.8188046054 906539.0775318164 1144555.8863934602 1404407.7291704083 1701751.1770353478 1314385.0016270673 1149319.7304825485 1055695.1049849617 1594919.5208605914 637865.4647163592 1205986.5310755586 1564108.4729620311 988976.7682826961 1310269.2927136384 1098084.8197917365 1064748.4082258604 1768087.8521369537 859415.1778839476 1691958.406540443 1169747.2195728172 765547.9678721924 1317109.2598159276 1263765.6675261194 1815058.9857197516 1936947.3899101322 1349687.2468010143 1272270.741509804 1172647.7043604609 739903.6975532632 1309884.9856968138 1048540.5262856508 1193155.0436828064 1108996.6139706392 1714806.1980851921 767665.047078084 1569289.402282976 1365296.9128708064 858462.2101290617 934576.48028532 1070513.3921198663 1188687.2367590952 1802433.1454546293 1491431.923780782 981869.2503656179 1197541.9382401803 1504048.0106866579 1405766.4486016256 1101427.2005045302 1303510.9266497088 1235084.6530487204 1102805.1275308607 1434974.53014224 1513887.669561419 1003695.8550046376 682525.5718001385 1286471.8497149248 1825018.1864843366 1285472.3946540626 1512747.3340694504 813547.4902982293 1210713.9145816006 1434858.8919731115 1482970.8431578926 1567499.4059797942 2034403.539178621 1389983.3631628868 1314380.027347522 1675788.7174280747 1138449.097249307 1091307.1078433786 1425260.9152068389 1172766.2167828812 1313267.1059095662 471331.9677459395 1205438.6425182673 1055413.1904102326 778144.0531040734 1117393.319641379 1526740.1053912216 1482280.3415525388 744938.8245260929 1642258.9971963342 1209481.401629026 1025301.2710094692 1428058.8099947772 1331848.892710139 1305952.5945616805 1509387.1835394972 1344012.8932073456 1329446.9674682906 921397.2213292008 886737.830318473 1815121.2798590292 1195498.4904419784 1382416.582309675 791128.1624646814 1432422.6550499904 1241477.4597563285 1316177.3054631632 1044267.5516709771 1063166.4493409002 1106782.7420711282 1043358.759608486 1144502.1583655123 1371977.3185343186 1117344.560058151 1386552.1333890627 1312789.1252035594 1139160.487121495 1434834.2831184883 1206029.6914146417 757302.7633803415 1015929.1486085764 1295206.034740165 1502393.3416444259 1378254.1925360016 1631495.0087716258 1775646.7391808343 1233650.9113970136 1719661.1094478203 1819308.1944086428 1467491.3460528767 1163740.8237591013 1673629.1664191936 2018030.9546733154 1175793.7115338063 1377067.7402451178 1067372.334991733 534676.7213184474 1174143.0028318854 619641.7112428725 1436799.5778784864 1283588.8814771438 1543510.5372965087 1841570.1693721022 1647742.8649867058 1118677.8801977655 1671115.7092765358 2334424.1784634506 1333646.7432436408 1120025.255864082 1513304.3408374714 1226323.5663123853 1535115.7990357452 849453.6531543789 1687376.0896648346 769387.3367562568 1270293.330547632 920869.9290927226 1243206.6286112864 1303884.2509379091 964824.0314437202 1871364.2442876813 1357122.4702862648 928340.8844858006 1839993.342670912 1218476.070211615 1162469.2325587806 1326596.8802096983 1372500.0866543306 1376457.3240732767 464944.2019024381 1338948.8516923923 919717.0095041755 1516221.6986875734 2047955.2056944838 1548376.834998591 1488044.1653831366 1504618.102587365 1183125.966664625 926558.720896419 1183622.796297561 1152211.942381661 1445108.81150902 991815.4351855515 1381760.0521555466 1322888.2822728178 1083987.991187714 1532462.382733119 1255643.2578952892 1629193.916810421 1344010.7671745056 1317615.4974736401 914725.2147799153 931521.5694598092 1583370.2458746927 1350210.3120737753 1240549.1931886587 1160217.5440068184 1265040.123289588 833158.9483604582 1035156.2501421077 308950.3247088562 933175.2225026913 1075597.4368139824 1375564.9003145036 505845.69991380593 1282951.6349530695 1010776.4666127465 704599.8350693872 1492470.4079936047 461652.7118570076 1310609.8793414596 2006436.8968430029 2121337.446326401 1355115.9621325976 1111339.0443302728 1087205.3327468573 1185315.7959982646 667280.065251152 1216087.6313175582 1075664.0165804247 968515.011803311 1326676.4949306822 1119467.880533372 1326716.0367154558 907990.3908208986 1243258.6915489084 1494730.5939715896 918074.678416088 1466249.217402241 1624411.015679088 1395484.476650965 1090547.4796385441 1036170.5419008263 1791615.6256776778 1501442.8919613927 1135935.575934682 843497.0172480413 1287169.941922502 1353423.9838055884 1213590.4660276405 1358750.6539625262 1471762.18611519 1077636.158665513 1235708.3660875033 1118149.7630637025 1455014.1746235676 1323539.5807854799 1556816.7112345747 1331556.0370708343 1012221.1118941682 1393627.8813278743 1296012.9037010267 1317354.8907056516 895323.498501125 1129628.5551134953 1311736.7625236332 1495198.4753002818 1133969.2297725673 973338.911725664 1016442.3594057378 896461.564965244 935359.3098397171 1917331.1158376778 1212308.2894881493 758030.9208712382 1224978.559231823 1174701.8011683738 851960.8835211595 1064370.8293247162 1418345.9690410076 1006922.7566086029 1820311.718335099 1108368.7673023099 916166.9707164889 1471902.4562569454 698698.1337915997 1392964.6188277835 1371830.9235455662 876772.2671296307 1456165.2771813266 1102539.5686966113 1557325.145337711 1127548.0509822643 1316314.205703919 1512725.6948669925 1185530.1868464747 997535.1520847183 1063852.507287344 1268027.1537602886 974400.4059810807 1445753.4957149583 1764549.9673169919 1568625.3819940882 1028383.5092848933 572879.1058116383 1821776.2561505893 1617178.095501668 971030.6455733922 1899537.5109266634 1140684.3687613213 666082.4193956242 1144032.832298849 1292762.8627755549 722045.6595858473 1390344.0453476454 1697800.5574990942 828309.4104477258 969696.0900665333 788462.5491603006 1145345.0586418803 1000407.471568914 774243.0697263626 1295552.644291183 660543.1626678276 1307865.005339347 1050086.7505079724 642239.8857596171 1775422.4759024195 1438496.635005092 2218944.3488910473 852822.5003115935 1482698.0221919373 1580328.0832580926 867974.7508679964 1753776.2846538837 1558866.2661661203 1564996.623863309 1093855.7821874903 1665372.7503674414 1467012.2862290875 1487342.5288781733 1202927.362027483 877486.653848423 2019273.5998703195 1384568.3921142383 1340617.8052690963 490156.4731971151 1234604.9536576646 1072042.6774638747 1581426.2305336827 1347861.7782976667 1614843.4791743322 804832.6396954801 1275786.376848726 1287025.0944003512 1423710.4427458707 778112.933592519 863356.6185509369 1201423.9899625103 1229337.2385937914 1275645.6808839901 985560.3641002546 1330662.9807142166 1339515.3806366357 1768696.4642986017 1765047.4239279535 1585435.6934766846 1407711.8940638218 1336991.3934296884 971616.880527434 1039522.3117237823 1346276.5000997183 1414017.1096116994 1770202.6951514324 1612872.4536537277 1510089.3422658 1421969.1176869022 509361.45886825037 1408731.9802069461 1215752.5782226515 1320151.74058778 431032.3817765729 1212742.3833126093 1035653.073710992 1648832.7608216798 1206213.8548495986 920491.8517882931 1272384.2369352852 1239378.0866013723 1242993.8556098188 775910.9725012115 1896312.7647070042 1571809.5616394356 1770168.507467322 1519066.5164596185 1153484.664786913 1085891.9525846795 711968.2594664381 1217906.307393177 1067181.2415866929 1214412.0577875993 1077816.6407651529 1248708.0121881533 1529672.9092091764 1513036.617032481 1208605.9242284186 1593721.4150139433 1431302.9388563698 1226561.7337679693 968845.2977242576 1231520.9853912052 944687.4960705275 954316.5543586402 1410235.4387368988 962282.9238542537 1433931.175217811 1217245.44377958 1043964.0757307622 1154013.1290121751 1176964.081076941 1373697.3258870118 1391688.2653189609 1775058.0081084266 938088.7075044235 1023997.1970462127 1025159.7374774682 1365461.653292882 1426917.5263087612 1290186.1380370127 1278431.7434715228 1566892.3096696862 1584885.1520692054 1168140.5506560905 1799907.7361093275 1406597.5138770859 1125887.2007697555 369397.4517232812 1101390.992410609 1137347.5043284632 1785336.1449623508 1416301.2635642732 597891.2818480695 808901.0772993474 937586.360369327 882246.6077485288 1666908.1920733945 1000050.4030680575 852261.3932926456 1373248.5453139609 1667805.4792859512 948889.6761081817 969320.4066965362 1343526.9678887723 420820.71695072553 1695282.981557949 1127353.090639068 718023.8226330699 1759150.7153623647 1593723.3302033735 1146882.5793449832 1386229.584126309 1492459.867713411 1218550.4839942202 1046163.6947633147 1492462.281338294 930040.1453426899 1272573.5584294181 1304351.5378705896 1326529.6493371115 756863.4996448521 1142768.1887377992 1853309.6348080568 1239221.4822289604 1393408.9879834158 871528.6956188732 1547639.8142181935 1057221.7497008175 799039.83522038 1057752.0189387717 1300125.5581261101 1104967.507150769 1574629.562417569 1431558.3104878794 1687355.3519334632 1131055.9930728686 1649402.8245962434 1392748.0231595002 1030490.6412269312 1056992.1109296 1730015.2351136596 1439719.2212657537 1530796.6095599325 1318224.4564970785 1441308.6667604037 950866.3172048419 793841.0998381361 1044083.6824917711 1549167.2586541565 1535202.8396338325 1425767.8494386228 1293489.9811142974 1238210.6166701866 924767.464859084 1087651.6402711482 1419109.2956294918 95190.46759903431 1313345.0629562656 1360339.0096094036 1522006.3074240508 837801.0026863085 1594681.7976253591 1297190.8344924059 1394651.8318114155 1472647.347786389 877220.2556064775 1040548.3952800253 1145767.7443892807 1544227.3651351356 1235724.4406949012 1617556.3590040752 1356645.3881544692 1603300.8714615 1544350.2660269504 1243257.4615264582 969607.817693305 1553753.6356693665 1713021.0540763026 1476528.117733652 1188694.314120666 829471.547777277 1177920.7164176577 1221839.6795278562 1285565.5803594512 1250750.6702727224 1073915.938213707 1023155.8939177834 689885.8911751875 1986953.2796905767 1363409.9896485368 1611218.182383313 1121028.5247787838 1536916.2689725286 775272.21193356 1021546.8639872984 1385312.0251431044 574580.6147157128 1524245.151402206 965751.8377102045 1405865.5848736435 803893.7492985001 1703920.012212873 1631642.0711039566 1233973.2307922866 1678079.4980344626 1044266.4715119291 1646827.8597213216 1386273.2487796862 1438141.517806441 1079340.3207425985 474547.82972965215 1795576.4369671792 1371594.3631073912 920068.2275771091 1452157.1110088758 1084935.3138654504 852671.3174384679 1268630.7711234 369638.30812122836 889284.5238765241 1512363.849802871 1051235.4871820044 498752.29879047093 1754705.188803501 1539648.4002301574 897099.2487506602 1084192.1255732537 1542405.1082409117 1511452.1437879559 1597264.6358704278 757077.9596095975 1103242.067906462 1327782.9650919333 1334224.909715831 1454330.2585141764 1085995.2942984533 1348771.4314819372 1423631.8933139122 1366553.681493928 782624.4531645947 1309304.0158435777 855167.7094066853 624286.080712583 1205423.0989774056 1088156.4230456427 1212084.4992491459 1378544.8406346666 1386492.2740053243 1347642.5741816468 1584806.137396593 1047372.2604997595 1429027.9179605083 948074.1544550294 1278461.9120351681 1542888.0871541316 1286333.388864205 1648312.9895956428 1297532.703976501 939156.0566934022 1274665.0290342597 1340165.207997023 1234726.1968241078 751688.4898816907 762540.4335228244 1573282.6563713714 1353657.2557189967 1360013.8158570293 1242121.5104826961 867197.4516612705 931507.5113026306 1312082.1716867257 541714.6603593288 1437546.6390617788 1015027.9920029475 877640.8427376314 1449020.7122373679 787753.006594769 992588.7788959505 355658.9965327694 994376.3740407411 1476847.801733825 1408200.9330687718 1731064.9148834501 1074084.965663434 1205894.1175929424 1405421.9632704763 1096646.8718551921 1382899.6961073899 828364.859873173 809756.0329228017 1358466.7209610802 1532200.0640177117 1308399.4377704887 1088793.1761349454 744274.1956790636 1048570.1205633163 607846.4089532433 892802.0727096025 1852652.489517174 1487021.9048455756 1259543.9501100276 1379033.8932461545 2025033.164765736 937557.5683324158 1149923.7954203668 1368762.4999834816 591665.6944546184 1430954.6751508496 1998230.1116392217 973994.2740659721 1327249.5098018048 1113880.2063641087 1195000.4599443988 602295.3435842032 1277016.8799077987 1528265.6724872221 1391092.050240664 2078294.0991800642 733661.7307876738 1652170.6162839835 1311914.357927738 1165336.422263371 441094.65459134476 1394251.8559078742 1363472.6725891756 1461125.0649668365 1621230.947295472 953362.2038496067 886470.810845539 1547634.7058136319 1333219.5405558455 1383878.690897132 1095791.1215981264 1633031.120874573 2075953.0728668522 885787.9964417588 1323183.2368963421 1703502.748106604 1459211.6055202265 1255374.841633729 803497.8344611436 715606.1994595537 1404144.1581094728 1570531.632856421 990357.3573147316 1244041.0866503099 1463408.0933229115 1476527.248169765 835926.1856501276 1068460.0391708037 1172428.8925241283 1647719.540300985 1731014.974581931 1091823.0471340343 1826273.5206160042 978136.2263479615 1293507.999475035 1267340.7460883798 1121429.2440305052 1251935.2085076913 1627422.32312252 1411291.082662897 1561986.4414217616 1415708.4689193824 1233487.2499482506 1387829.9439031186 1627040.7649952106 1044118.1283928031 1225201.1293184992 860865.7295400249 1110107.5447756697 1166872.8499610045 1308367.613812486 1292023.9575280119 1333291.4473253114 1478716.847826452 534070.682060011 1709087.9002116576 1718266.6355351824 1262844.5627992044 1651089.3725052613 1527279.8023065948 1319293.8520567175 1125170.5443339602 1104357.810213114 1587984.003101489 589751.7971518867 972124.3823638442 1231211.9570169714 865717.4322612508 968104.4872281264 1199873.837314705 594135.8603586532 1316617.8607078153 928011.7109105851 1055318.3555578764 961511.6485040572 1415943.9857221744 1282890.0149039768 1405307.421015761 770336.2264316211 2041174.0013549214 1670639.8027865863 1119193.4343091364 920179.9999389916 1033552.8426103459 1152630.3134204717 1767472.73417156 1058165.4912250983 712940.615934416 1475738.0567199793 919262.9830047935 1199075.9667809778 782577.9306424609 1244030.7332726629 989714.7511766616 1351108.134503856 1817841.736327494 933774.1772988304 1185075.877564239 692354.6433858201 1516509.6170567633 489176.1654158463 1186564.3156164354 1004563.2590174511 1073500.2560497704 1173600.630922595 1043066.6567485395 712021.391031568 788152.3902186144 1365738.6200212787 1008677.7909804612 1296432.8945518346 1315545.5872898046 1850086.9022636553 975735.19350366 1505438.015604919 1386011.1909139706 1579855.439889044 932668.6298454741 1224817.9017024187 1220891.1904660126 1188157.224587498 844223.2438339607 1457437.9779746628 1331739.9777370286 1582542.5241826489 1499478.651235157 703253.19272663 952281.8307066867 1151176.248835558 1399897.6215693073 857838.4715848167 906038.0058251945 1759502.2118901114 1105240.8395834544 1259552.635613472 1761191.6762807448 1062671.678833691 1077469.369493521 743480.2507216881 653645.5010849264 1032092.9582333266 1465259.3564378556 1864558.119904664 1225210.7778340434 1287513.0984004817 1034195.2040355792 585979.8976970653 1456550.7369684756 1944988.2698564744 1220235.663815223 1015851.019904694 1270274.2342281688 1213423.6123157372 1341025.9748040508 746223.8668121513 951737.7485924052 1177578.9637013741 872931.2351592806 491699.5170385863 563376.0229944437 1091296.6190235803 932723.5296559888 1552019.110713328 1401789.6468262176 1719688.417482667 768402.3481356003 854203.7510563154 2342510.5360098016 1407144.153703072 1364215.4418227046 964866.3010041798 1494091.4258712432 1797222.7426464478 1358859.701748765 1088008.816854305 849491.2931305917 1232682.96770367 1216214.9180114204 1804499.2366341685 995305.0567383794 1352222.6888906285 996576.5144124811 936425.7806590997 2008179.7665628628 1013555.4669278897 1010727.0610730869 1872018.8834421104 1268735.3191910018 1693173.304966728 1730931.1650617616 1229855.250772374 1321484.3590946551 634203.8456942816 1372372.1164188015 1545207.4929582952 1331025.164403188 1817860.4038007997 1506187.540720766 1684798.130202704 1080486.2480999166 1232867.761764454 1297190.0637100486 1476308.5931918425 1564742.0741798633 1202072.799167975 1210813.6951295563 1012818.0379990257 854455.8447483934 1025326.045181509 1309595.0205905652 1016341.2064777381 1737361.8414025889 1409687.7369271019 823289.2196182738 1496812.3295193496 837776.6130475863 900520.764241944 1215491.8344215034 1580715.016045461 1325563.0398322374 1023525.2212879832 799621.789493511 1348299.9927324872 1333155.3367951806 1020863.3142358565 1096508.7867985007 1668795.397083533 1248384.2788242877 658281.7067567615 1147999.5551057595 1789610.740317064 1459588.15576299 1124383.5477118224 1963754.7154026642 1719742.5298064598 935338.8945441546 983497.6048688852 1002619.7539655179 1228171.9430600866 1090800.989097526 1501695.8094871792 602671.8521941375 1408422.9903831144 1586851.7807611953 540106.9278339623 1014690.864115264 700101.4841371917 1652072.9915033826 993747.2281350505 746384.6062152951 727256.9969817565 1204517.637167712 1195620.3083298628 712433.8933787677 1129337.1366846787 909577.9590384674 1876419.0804819136 1172030.6235228435 1355488.5058751935 760694.7903404105 1082878.5834319901 1241400.7871246338 1457291.1501210718 1092622.15088493 1147865.7923957675 1265141.1031799742 1497323.2947937879 880845.8447922501 1304731.1012110766 1308504.1702864545 889256.8849830469 1472086.426753882 1733695.7159692731 1114442.320392483 1138019.8988753066 1524538.0575683012 1900680.0765515123 1352251.5608151366 1663880.6463633494 1231880.3607428155 570675.3268405823 1101325.2162390528 1837803.6198027385 1228367.766671717 1327758.8716480571 739950.8582834989 644342.1346527172 1574006.3934045471 1365258.1352675017 1122128.5703370955 1270503.0819746489 1056298.762342974 1089400.0430179886 1059429.8327670153 1306974.6596452913 1667780.2588381036 1229263.276761997 1557942.1262652823 1269043.162972026 1333684.6648198024 869970.597525052 883106.2166635827 1047965.5062947788 787384.4849832677 1125070.1635594934 1271830.1211393634 1288573.8636796789 976003.7095020268 1103492.307958117 1002477.5438558155 665712.455582023 1244270.8654964531 1882048.2489151326 1674787.6993999889 914252.9579894766 1984577.792481395 993756.2551196681 1188273.2163386496 1030984.0013324402 771237.7206368013 1131986.1729547444 1052802.0179748195 1278790.0820699232 825329.7871850169 1332645.1423655208 1411198.7210072924 666152.8641183889 1511372.5749246278 1579921.2825271296 880622.5833206729 1683215.289804895 1252499.022830946 1443482.9084721815 866775.8341990552 875898.1446210595 662472.4907472328 1590092.2547407765 443896.1289162177 1918096.266981044 2130712.1838475345 1089264.992611353 1493790.9486245387 1193185.862443561 955488.613075522 1275773.934756048 1469469.5458911872 843766.6458891307 1511163.4122151514 887180.3495264912 1187289.367933252 812106.1957336263 1326167.951219465 1751312.768779655 939228.7613906938 491682.78320726193 1209089.8351826132 781560.0085473747 899702.736126626 1096700.8408855544 1549222.97123431 1716508.289853172 987253.4709031637 1754849.7481475293 1157493.3019602767 1878114.0726898399 1077130.9084325617 966944.4928718554 1474477.5037601492 1165795.81938631 952929.6856111885 928580.5004299367 1070298.0711338483 1765274.5117051294 1293342.3367099978 1109928.6142112927 1509808.5136067877 1601463.491708636 1178170.6138743933 1143045.2508820596 795596.406066465 1452123.7447530283 927032.1612638192 1147239.9755439803 1639343.5567743974 1982852.374737881 1296749.607108095 1340596.9116228628 1135690.1244190491 780474.0529220111 802559.2560194256 1133434.5063114862 978321.877880309 1230081.451608799 1240594.9127918093 1280145.4980983639 1248793.1060012814 981439.0423504252 1229662.2375318836 1035653.3091606782 1666708.799323604 1347848.494688386 1360865.0779245466 1354675.7451247168 1618210.6834734317 406761.2705179822 935791.2652850496 1336831.2458344053 818225.0721442709 1676211.399261787 1143216.530008874 946720.4978340195 1668814.880220675 1732694.6706408206 1191976.8102904214 1344060.529376497 901504.7871801544 1343693.9730684534 1007715.7908958676 1544999.6305524223 624219.8197854938 787803.4126982337 1409920.652138689 894458.9250746173 1474239.8785159478 1497790.6395522167 989831.3637986663 765440.2288700779 576822.2415799333 1399419.8048133599 1326852.0931442892 912216.1888228928 990757.9299355346 1243970.6582201282 1095650.7620181772 1119605.0154190427 1169338.6353681376 1539252.8148541178 1631704.455046404 616040.2491627466 1287676.561518877 1275291.0703007632 525740.5428688132 1413564.2911916096 1349940.6546446348 1408972.6069443952 1237285.4424776114 1465436.5428301971 778029.8434856326 772234.9437891603 1341340.1984746957 679218.5204701133 1128091.1808570565 1249351.9254851893 1500164.779634364 722488.9289295888 1799327.0791270914 1278173.1101059157 1098257.7342449254 1098529.2950743325 1472032.0307254218 909565.5014659865 1393340.885992359 899736.1942797848 1261289.144687628 1724686.348740615 794130.2614244 1018721.0281960702 570256.4017144566 1233625.2467666809 1534168.391155181 1492181.6019905081 1004754.1918069385 679565.7787217351 1534759.1128372664 886914.9893345324 1356724.3651692427 1112751.3401585289 1744787.2530380122 1607994.6780247362 1472898.1533962917 1385843.3321690697 1450491.9155235747 1436075.7688285604 1526506.882933552 1641671.054201535 1023675.1967474413 1321576.9790024369 884024.8547624913 528429.9401345401 1692210.960400329 1338086.076519112 1862795.9318421122 1481235.764713808 1030553.7204701332 1085959.7383414893 1170348.4821684523 1267085.3501999779 1366757.7774694692 762184.3574233174 1587502.5338917957 1804048.455144252 813164.2733791821 1656176.3437333717 1528338.0467220186 1323076.2105800072 653250.3592680232 568948.0294867383 869192.6697262239 1133329.2803400415 1596930.540930751 1699354.6720611649 1255750.899602146 1013171.2319334458 1252428.9039993824 1003715.8238347945 1575988.534293062 870667.7988097088 1431463.6465154157 1370905.0124812373 1924714.0356016292 1451209.1962918667 968192.206562097 824262.183843137 1590966.7740574824 1334294.924595782 760423.7501338118 763592.9858260415 843761.878170656 1223652.7807025916 1344877.2585802195 2009711.7686673854 1120989.9850984253 1393319.7698439984 1638357.8271523938 971553.1110764823 1775285.349480243 1754840.718173299 713639.6260197726 986019.5207347778 933635.5555697662 1354367.9591482568 1569071.0926677547 1177013.9735197073 1205159.1244379438 904715.8591918903 1433534.52317261 1096667.4599414621 613111.0288911829 772114.4733466476 789443.0269628518 1460996.5412990244 1251128.042070499 1811852.7054348225 1907069.0673006333 1155423.0031891388 841729.4663389212 1393955.505591369 1019806.9769066186 1139054.7461840147 1059061.4492041133 854238.0070304301 1254355.295073838 1252089.0703272847 1459194.470445363 1045767.6263203593 1335966.3994243904 1539557.8732213974 810174.4177853423 1551755.0519331135 1550158.6880506852 1569462.558132091 1785199.6571010638 1635973.8266497327 1365922.4451463816 1185906.0225701723 1652052.1800691495 1836783.8842448757 617357.633683398 1414469.6662905165 886221.5187342847 945199.4082188829 1273663.1469584305 1258674.3171990162 1368596.4577447185 1143197.047941034 1553059.7016919092 321818.1876355221 941896.8669551301 726510.0617140502 1675009.4423488867 1432136.6075386843 1174248.1266506042 1355548.3167314616 1586147.2611432006 1226292.2719649854 1423844.6436261684 1590893.2475003907 1243035.7610506972 749978.456490822 1865356.4871865874 803783.4300978403 1474507.1969138696 1293413.8848907647 1091077.3154824937 1099686.4663328794 1395283.8384432965 1796482.199021488 1155807.348790502 1378204.2106734177 1693482.657829898 1773538.1861188204 1543004.12576876 1068937.6131746802 632635.1616405078 926159.4940974314 1290352.8159213902 870652.8202664522 1236088.126299947 708777.6292505362 1161192.130823284 778139.5716166605 1269870.733739599 1210181.3771815056 1008271.9428588003 976564.4200212787 676623.1439577526 1094315.638064536 1335191.3364234967 1827804.5320929172 1302310.0058044752 1266681.185621006 1699419.3459307207 1320874.8508314653 1061109.727072031 799825.9893874249 930537.8478172813 1086686.6139988976 1294268.0158169474 1235597.3377792127 1398740.6922162988 1275876.0170379577 1552487.100285721 723191.0904546729 1761000.6027549612 1240948.813963053 1558906.8434953364 1010348.0384778813 1251711.4385001655 998908.0919999431 1091373.421744557 1553402.0106904893 876417.9389642183 1228686.3486851521 1797354.9489863287 1195840.1172351227 1188504.3853950207 1369315.7053030792 1164074.1910806342 1201731.3894437484 1446751.6173784118 510588.2264032946 621594.0135190603 1527119.1730270404 976018.0711621273 1377735.514643338 895525.3301780839 1255292.9828553954 1190194.4433640006 1162152.7028821108 1267770.7866817508 1383295.809258223 722326.0695683479 1258623.6516318268 1478844.1020225843 749835.5414583366 779651.4482557065 1042141.0121059382 1079038.3481636578 1074881.5133866686 1284528.855676386 1219327.8506126988 1738783.1869338574 845467.7419391692 957415.1793348971 1863167.2876356025 535564.6244020286 747052.9974281753 1555424.8777549234 1651256.7189641735 1187232.2764204976 1293601.2203860704 481149.9810343145 1109037.5352686313 663161.4796393046 1543237.8177973619 1560652.7482016725 1665211.4402766563 533520.5271780001 1623339.4698049407 824607.2736021336 1107154.4138453936 1075271.797678771 1267995.0490349454 697880.8474072577 1986769.2431404348 1409962.2988055495 1112568.1800888996 988648.0923121658 1540141.7486347815 1650700.6523564637 1089314.1125074888 833252.0061090211 1421564.8616169593 1186415.8556523195 885027.7020993828 1358543.5536563892 1264186.603551614 1317972.4852120962 1083758.6800733516 1909702.418509569 1459242.864088756 519971.68782221875 439149.9304066105 995543.3479733154 1117587.963874733 558953.0984858332 1236496.734961065 1649722.1175952437 897299.2123433738 1321871.1988316292 1210961.96938398 2090999.882303952 855224.1693607009 784257.9322500974 1245891.8402011124 1193101.2415349514 1452769.0514290044 1601370.4844763032 971934.8894719911 1157704.6124122876 1451114.199223016 1127937.2422896451 582573.3296644831 1553159.9360927884 645000.9034713831 982182.4111645292 594832.5323240517 529032.5618742518 964644.20928019 387311.5947161338 756902.2055816386 1757745.9299722442 1128444.3593124552 1265339.478732518 1483745.3794943537 774846.0276901386 1095282.9047240126 1150972.1536192284 657562.3775782967 1147537.3401028453 1710367.949375392 1393625.400429621 1739185.2797314837 1040651.0709958579 1398883.0589638562 908323.5486400968 1265539.6603768554 1546136.5058942004 1960258.3005132051 2129454.018465148 1662958.634036096 784024.770307645 884497.9521427138 1083232.8598097237 1139327.7172357636 1645048.7047439916 1418026.26421175 1325498.0828098978 1320096.959307074 780244.6664917311 1661926.686019071 1715233.188062259 1184537.0896177753 1261897.070457633 1745722.1439997535 1735143.7328062323 1332589.830109375 1170810.9921112154 1119642.0436224875 974983.2906843519 1251021.8618697813 893384.9595937346 1056576.2917277592 1039432.8650444596 1657549.8252641384 990996.9459641551 1188803.9422823903 1527021.4224077025 1225194.8764641325 1005803.9663956354 919163.5578635253 945613.0478939291 589323.3575641623 1393116.1795890015 1144921.4349225154 1268626.0217405302 1249910.442576697 829716.4328701622 1892741.9419484225 1596921.5603580098 1019237.7498662261 1264819.0939880956 1510344.7195645173 1197979.6748632235 1895037.727123019 1122715.5025694065 1542070.4764076334 1409535.5588758495 896822.4438525105 1897526.955903363 1842774.3568829508 1466409.013992766 671021.973321028 1352224.0408296832 1305643.0850892062 1423248.329635503 1777000.8363906313 1590841.2822751366 1268954.9323484038 1441042.722316164 1408010.1969173965 1201587.5168210864 1000118.0671895043 1449705.8430291638 1508209.9495170885 1383550.6028205452 1503882.1653400904 988240.0807780887 1321133.4628881752 1056469.8338646935 1308041.100999207 1463612.2484590393 1198746.0759349817 993070.774237127 1165871.4018729036 837357.7753777633 1355619.765751206 1073140.918827706 1527231.6096707757 1361864.077244914 608080.1411624731 772215.4902296012 1416836.4641375467 1059946.589904852 1262009.580330201 1507837.0119666806 1123451.6114881393 1031631.2090927471 1521523.4169369426 740495.3593470324 1169688.075789099 794618.2384859406 1238671.7631554503 1399117.2244014954 1499140.0502082873 829076.8903342539 1121257.530429045 1094084.7038749275 994606.0646746795 1381534.110452242 1282913.11542529 1402069.8630902916 1429381.0053931272 942677.6191578147 1370568.9776245144 1062757.738691637 913582.6499876224 1225007.9352080047 1544391.9211093308 975823.4201387928 1289011.1604590314 800995.2098216943 1126997.3814700712 872160.3570183036 1352635.3820109898 1412150.2620283302 1517123.3294099108 921934.4028005984 1656448.5748683228 1544589.9165223837 1523465.3320490378 1458000.6256087485 651760.8273061785 918578.3913747765 1476005.4092273277 1395832.768758554 1327758.153100977 1536752.1860981982 1796317.8503943873 630892.7237764458 1399512.7578000631 877876.473282534 1550366.8953803019 1271514.770775699 1032538.2049829427 1528939.542084619 1322242.354975437 1724009.7625167498 1338237.577499058 1252622.7091950597 1268057.4035079463 997271.0070514173 638656.6694176712 1253257.4150211236 1539102.0589666013 1377242.3913858004 998318.885398827 1050302.0177258395 991445.5811104864 1825584.7114327112 1309364.3642475316 798569.0452464789 1009553.5121882616 1226717.369668721 740876.9834351034 1724799.787721844 1281560.2118038666 1188633.8227235859 1867386.4690697996 1270008.4079479838 821770.1094567108 1449738.7566159463 1005797.0913662381 1473743.3729002206 1040461.2898864648 1035379.9841086592 1824116.0601623543 1428735.8999125492 2190149.4982957137 1332630.1542393407 1468842.6913774158 1198974.0824997732 1799464.1730186213 544761.205488565 1356972.7195017312 1565397.947267382 1192101.9134509717 1470655.0961743626 1283165.6406132248 1661446.5224754687 791613.3443481385 1323400.2113764058 1071825.698517105 1098307.8321701246 1505215.5308975917 1354231.4302620855 1582778.7400518598 1441272.066291252 1005896.0904529697 1722695.2985335202 747850.535607974 733587.5604434125 1029211.640939634 1123878.1994925886 1619062.1787862922 1736098.6049874926 1321742.748745018 1194837.487766111 508374.3812755839 1730461.2930845954 1758954.8608620332 1223436.7773308216 1213862.9235850654 1216807.5622547562 711065.8099654817 1707873.2094144572 933693.9572320288 705222.826574014 1094374.7415711256 1275783.9595296157 1061705.4714434198 1615583.8951392416 1034527.6904343273 1236127.0224338816 1033749.8084596778 1436851.935459186 1267469.1153394522 1074206.017572973 1286755.4700391646 1813374.853770943 879247.923012906 1350868.2503435311 1508054.8294648807 885412.286288703 964728.8184607187 1473700.0002059736 879996.5517681413 1087843.8820966561 1285029.162715257 1449853.5396989738 595266.8814992943 1192434.1136813748 1044961.9203827522 1534063.587571107 1303431.740061517 1032806.9222792836 774664.7540399262 1456763.5085512078 1214146.3166741307 1042275.2770078857 1157501.994225783 1041211.6188262312 806461.4563241582 1467303.9149356443 549722.7575923874 1074670.8606500393 1279560.67057682 1233280.1564000982 661858.0428261992 1113743.5577719193 1297987.6969412887 1252656.953082271 1137861.076450472 865152.7998725686 1394460.4567084627 1848602.863761226 876416.6383985134 2023124.730578806 723268.6020070615 1188746.585109405 1185393.1085266736 1122282.081493945 1905515.7784861086 1361396.705370549 1259221.773681918 1217959.292957529 1842289.7373122259 1212126.8723008186 1338618.5178521199 1760088.8305301727 1324260.05360388 1057199.3386317554 1078584.3889994586 1178912.0002038283 1130867.6528041123 1429792.7016897802 1424329.329539621 960080.7671343489 1103398.8512353047 1336479.2780179607 1484176.5942689995 1008563.7550841467 1008435.2197844433 1616254.983207154 1577351.8286518245 1179898.9054146083 772797.1946977405 716348.051627042 1049958.1803631948 1997418.6986566563 1144445.0395609005 1414847.4655947203 794201.7698278718 989644.5112248706 925816.2561788405 1357555.1721369757 1103511.0494926462 886072.9978081242 963291.5928902094 1581359.7513856965 1447374.0127333477 1463949.2370267396 878704.5171180626 950889.5798228579 1258362.6005527647 1293570.4213790349 789434.023008051 1326398.2407165635 1725250.1847160123 1236804.9857459129 1267648.730934307 1546197.0857605017 1406724.1944037885 572136.9949606529 1238384.0598218627 1010759.1050804812 1345393.4070124067 1407393.1014893374 1047154.5215268024 1312776.2182204316 780639.8150828208 1340373.1412280935 918850.9020092859 1423860.4941663514 1280589.1118910005 1054216.7715779329 1013072.946912511 1732623.8656870783 1832475.7001178567 1055210.5917456974 1485187.1104148142 1114361.5775579426 1050201.8194135744 1457591.6827931516 1035469.7873444378 1332420.6046410596 1109361.8642683038 1544216.6047271588 1721896.1189124845 644180.6057148023 1843599.7823479131 1058289.38557821 1283097.3279103423 1460805.6459988311 994735.6753501385 1393625.5021684924 1085445.8089416306 713747.5868009406 1373470.8197054556 1566579.3099564593 1134841.862379946 1141322.9092116388 1012837.8498934947 1043367.7165087371 1558842.1014248335 423393.0521323718 1284431.8200841865 1489960.6689853454 899969.5721708982 1263785.0976221839 1739781.2967705254 1233239.775101325 1096990.372581974 759656.6664856486 1437391.2823259295 1652510.8714229062 1215849.2445545632 1532862.9630958457 594292.7573544057 1693944.3783952612 1190486.8113007385 1010887.842870264 1442660.3478244033 1733573.7137051732 1107750.322822469 1330537.0337542032 908618.1268206682 1107830.9276209679 1240832.682075789 1856280.3103343758 1197099.8319218298 1268161.9388035908 989463.3448570747 1631124.9460318936 738148.355932965 1712957.5384672289 1356159.8813113053 1571378.6295605686 1079107.6492685522 931551.3459078609 1088621.2931610083 1029042.3612001871 839999.4468472488 1546651.4955666447 1462882.8745260919 1280998.7736825608 1149500.634396424 1352905.9103532226 1154587.3827344757 1731806.0558772888 1418603.2040931894 745773.4535304088 822205.7179642138 1397990.5281456518 1344190.1989329453 1051520.8717257802 1305810.6392449008 1229145.7896620126 1067520.2763849008 836399.0773550943 1467272.4703661574 976528.4075453368 800201.7428742162 1763649.4791435301 1390381.5795590694 1424617.2931934178 993151.7894242909 1121762.3273925104 1236117.9792117313 1550398.0492245134 1777294.8058574758 909382.8948417848 1206782.3638336393 1697933.9924528804 1521836.9835607621 1046979.3354522242 1071011.8673542333 934984.1972332645 1770963.2986556576 928259.8402548234 1133177.0891544917 966971.2923275633 1188738.8576090906 1012139.3204571494 858874.9312153339 1216742.2098310757 808633.3148009302 766649.9383146476 1044825.6461757439 1379627.3547144406 1412683.002998362 1409817.427360512 1485727.653260253 1314333.055356455 1063732.697021673 1395191.7900913667 1365854.0317493926 729759.5800446091 1771668.910770302 1323063.460682615 1489841.6993660994 1065203.4541468825 1760938.1451908513 1208410.6388534107 818059.1281993922 1168599.7480391115 751941.8063562015 1463757.342541602 1325220.6176141256 1125886.2302330674 1035718.2002000156 1578038.7314676596 992457.2730420888 1045445.7871025496 1716482.618256595 1487006.306070971 1753924.44510283 1354178.3800569288 1113182.7350880841 1234970.411485217 1280178.1438637248 1160048.8507156041 1270208.9999674095 918371.4669707383 1599782.7990685543 1123823.5861364822 1149668.1826360952 781621.471293641 1173255.9290164374 1126644.398227153 1531447.7892692783 1133463.1474534918 1240040.6893568756 1389120.46435607 1661385.678094712 1036797.3914545996 952777.7880434701 841379.6263539221 1660894.6710401205 1284675.3968643008 845291.1316179408 811349.7778889078 1283047.2132479113 1180634.5253052667 1536805.4731122842 1223635.5915628853 1254910.7021976525 1025008.3964553592 1298167.935422596 1561372.179601055 1222861.6043210225 848719.871501833 445154.5769295868 1879735.8312228466 1153815.7403687488 1380402.8947453783 1732858.128983723 1571162.5569699076 1713293.4358541393 1224331.562815092 1279454.0651447866 1479373.026427488 1376414.918728741 1575000.7691528606 1374901.8198359804 1478510.102696559 907016.0755946117 1306609.5912311573 1254909.8759480584 1359369.2134993698 1571901.6682332908 1762585.2598363322 506855.28188501566 826893.6115816984 992702.3335065681 1524536.5478691533 1237138.068601183 1300985.6667915785 1392503.3696481744 948690.8812073036 1263057.9916975421 1261528.159250839 897730.7927934085 1838383.697043187 917886.8712186187 1265803.6463818902 1221831.703409258 1221268.4104888556 973900.9261085914 1319046.3681536485 1329756.1309443535 910333.1240095412 1484777.5016328953 1562963.875459829 874309.5165972575 1682877.661894469 1124836.3522174708 1197915.6441475044 1414887.3210880617 1090949.23137355 902949.862850551 731569.111736301 1359804.0293369074 811958.6679004733 1327112.7884657918 999448.1634312286 610780.1050786076 1776786.3375593498 1327604.3468743954 1558225.8038154077 2061967.0483685324 1709030.4287467888 1610925.934328773 753529.9460549586 1017894.1046993181 1266594.9933359013 655402.583043399 1169095.8836751801 1669252.6365103093 1471013.2688949562 1566708.2390918355 2185382.020521935 730593.8970634225 954644.2785624833 924491.2494478731 1284605.0238913961 1106183.0729512614 851593.3861657053 1303443.7005915926 1388860.139029582 1673192.6083980855 1077842.711115957 1254363.0168565777 1150027.9942917235 1487869.1253340794 1048575.4001495608 1003593.5028356272 918828.3639188323 1145547.2140364274 485176.6744461494 1722040.0936558235 639687.5618448121 1352659.7522570374 634958.8168028056 1047844.2327901791 577714.4248791905 1563688.2961630998 1492103.597464537 541858.7169544743 1161474.491985147 963501.4602579441 1603018.8812113358 1070776.6431522297 1778856.5233885064 1083521.077079726 1234312.4443374258 1517771.3783271539 1539649.5800569556 1403507.8055077468 1076491.7716093867 1109608.6735275558 1383401.2881699896 1075501.031352953 858077.1514775923 1843882.8208418044 1588524.3946694261 901202.2185641167 1122175.1216267066 1057750.0561426603 1321074.9519690983 1219270.1224339237 1459249.4365223516 1480297.6227124124 1295048.8638874216 982579.5075148254 881783.2121203081 1644273.5535252574 1857370.587850791 1113693.5572819095 764371.5408705843 1081216.9533395595 751128.2115920293 1388783.3043425898 1119165.6285862515 1337140.706229203 2085460.3433185094 1222328.0330328466 1334612.9864671002 1119685.7069105485 1159833.3834031422 1004201.5830145165 804489.0497888493 1115791.9829238364 1537372.979724071 802105.9053704803 1580209.740374982 1405780.585138294 323688.57528850995 832591.2731240555 1144109.4192764882 1548977.1563047539 1181568.0388808101 1204703.9657226857 1658760.8217143738 1178580.0542928237 761433.9199915023 1595233.6006855867 1248925.0834521535 2182658.775858077 1173105.725817171 493678.9507173662 1361312.0370456986 1430763.0580900828 1568505.67082141 1591035.8701929424 1514612.6369134607 1191480.7982093394 1500734.9069392793 1230174.3844085736 1941191.1853666683 1490770.6242558267 1098106.0295861193 864262.1062924932 1032887.1201759444 786552.16534055 1456368.3832843755 1809414.2500040475 738608.9648947553 860605.5631943119 521042.87860155373 1111394.5024592052 1521368.5893922695 1673790.8018112099 1228315.7047855216 1721424.7598381035 1485839.403268662 1089803.9171121982 1075660.446879399 1138408.0848710004 1235388.1300709131 1111624.3646153933 1683343.2796141123 1199421.3211624385 1436043.3895102781 969749.9956031432 703331.2593311238 851754.0565331511 1486675.0666830135 1854936.3516483032 1115912.0520978693 1590929.6938103987 1562358.3809190397 1362390.6699032935 763586.6682416808 1360874.5591693516 1719440.2562886402 1598781.369135413 1297772.8426587994 1325245.5917821636 660620.1659719751 1604848.7824988225 611538.6129307405 1501797.1568025157 1466575.3481105282 1816903.3674358884 973346.7798630677 855766.1197256311 1334928.8709261967 1412848.2310517235 934698.0081164015 1310259.598915875 1486299.1303944914 1045791.331238326 1645704.5637297337 1967246.4548109157 1426925.7004841284 1612942.83693047 1150754.56656307 1207433.0746210522 428226.01852981234 1228652.589545967 2038225.0788021712 1222183.515850007 767336.6673520672 858274.2564668619 1515644.7513663098 1704753.7348906999 1362090.0625757035 1766454.9337962396 754756.9080084594 1412009.4045832534 1738857.6886016442 1482505.5578906143 1563806.7319744304 1733535.5600891947 576632.996220528 1843980.8434015953 377329.2024806517 1639213.3441252739 1352612.813331587 1100001.9096176894 1611056.5464891498 1044342.6035843 1056627.2616340977 821309.4451473183 1471774.3840494016 837802.061108639 1412882.577315836 1503707.4663464888 1259541.287120663 1169240.4926135154 771654.1892865375 890431.5918867476 2142795.5425565867 1478766.2855906028 1473785.693058938 1056109.416493908 1162740.889982453 918077.3058509076 726475.0380931061 888935.8244983596 840207.1602095657 1361140.5968575098 1533969.2512493262 1414388.632584524 909115.8626282866 1186653.2853387967 1115026.933234237 1359871.9761288268 1291223.779979989 913748.0279800947 772119.5250085649 858016.7006185242 1066995.170979174 1686471.1626100568 1283307.319044579 1446908.298848121 1264099.9495913102 1511265.153127814 1884707.4763726268 1192265.6742478695 1048644.3786156788 1329463.4728081166 1308181.3675855552 1272654.0277329788 1788107.6680146973 1008253.1258379453 1506384.311865205 1401486.443738642 1502753.5311212502 866636.6832725565 1353230.3128465505 1496845.5564695536 845233.7029775395 1497487.1980279745 831056.3235510224 613309.6038648351 759046.7440618849 1250427.0882903084 948724.8349056037 1045678.3809580458 667636.550027768 777636.856097607 726723.8756369965 1099209.0210913504 1729248.426073408 1156406.213354006 973369.5795695204 1076125.501440183 1151562.2570213599 1437267.4914320114 1060931.317299846 684372.5888817842 796683.2034739365 1827475.6548074181 960233.1516482143 1685151.0097094562 739971.126153424 1150863.920910743 679920.4587819368 1285379.5426883278 910954.2084196807 1053735.4237976181 1632836.733401365 1412525.8209386228 1137913.3049512384 841667.1404321574 557897.8262639795 1231710.9213910736 1027701.7997433336 1119454.4909143394 1430691.2717694978 1254361.0474316578 1126642.3635022764 1122272.482909075 1575097.339348121 1439692.9296339685 1482790.3048220437 317170.51760325476 1213791.0502902756 1221836.1890955274 1525344.3880876717 1242731.6105824346 1501508.708389901 924347.6338189702 1492552.6178396926 2110321.785216296 1531332.1418080342 1079552.4571098022 246204.658026824 1106598.1026106018 1848730.461325489 1443083.6751367478 750555.4687734331 1010690.7221608832 1877440.8370943493 1501433.2615178295 1435525.5092175067 1351529.2591894572 1366694.3968496881 1193670.1684687524 1217754.2200392212 1229728.0888281283 1346550.065905954 1073519.263551459 1334931.6363069273 1253282.47988416 1132712.9291806153 1765264.7040717117 1628403.0829175222 1521759.388883601 507389.7858983843 864458.6431544691 1127973.0080301939 1371592.8449820909 1662690.3328530486 1224104.8310889779 1549824.5383317932 1125763.9789555378 1260828.3518358916 1277249.5264240114 1229513.6200932977 1121189.429457209 1284722.1575319853 1443814.8160468256 885141.5654800839 689706.264370396 1812079.794490801 1502729.5128122573 535485.5615356837 1618423.114444363 1270805.1974831605 1492167.9103544992 1050649.941297764 1270219.5611655526 878108.1187119889 1119825.1567803335 1434043.9954059923 910334.563965126 1511332.7825238286 1140698.3480286426 1125333.2667039938 1517712.2690835209 1048409.9938241949 1744042.6988117523 1429891.8657204187 1648782.4085848327 1466738.9261930282 1463245.6639472586 955498.1650218255 1133512.4504306603 1275364.8752437977 1784861.6860040883 1157311.3475059394 932211.6645790176 1736075.0568393744 1554192.5287765397 1714558.6636369452 1362029.4999672973 671805.8949220687 1558325.3271109182 1487353.744617421 1073087.9875304396 1223774.3988869195 1050952.545395387 1184802.9766177945 1406222.8921014548 1878499.4147444656 1518015.2918628566 671419.2817486249 1071786.9530039695 1748768.932449496 574862.2913019154 786277.1001834028 1805973.0745655326 1196312.642641384 1604868.5322102618 550951.3621654414 1081462.3296394174 446694.65314931725 1547445.3597907391 1077557.9944002428 1078474.8796921568 1207876.7009003526 1359483.0184656603 1791617.5668113532 1653973.28102691 567309.9183312783 1225647.0303865746 1057029.9121321351 1394505.5207891115 1140659.1731110807 1489322.2799724094 1915153.5782458787 1219783.8806560226 941209.7681117154 1527598.704609307 1258930.5749393562 1247469.299611274 1825109.991414849 220973.21228327462 1149873.64194393 1712209.3448400754 719911.6272896638 847254.483001035 1151995.7918092404 1111282.5959363491 1414365.8659152985 1793760.2296635897 1310851.6151357656 1298124.2357179862 852028.6691391123 1336581.964891227 844460.9172499896 1427583.1878679907 1309738.8618140467 1557974.3368411916 1308314.2185689043 1164913.3895336986 1479796.2277103595 1103491.0794642742 1632330.8599632846 1724478.7240257098 1423566.2207838793 1764230.1442636633 786557.1862903493 1545504.8801718252 484169.1348896136 697630.6868214124 1577973.556413467 857025.8304514267 820752.3895207169 1448614.3411119774 1373822.9550864336 1425011.9511860283 1215087.9947883773 924184.619132822 424904.7117321878 1124497.780016158 1170902.721505141 1201951.8688415855 1000352.2880316923 1251294.206202146 705934.4029678435 1698800.3223712863 1241287.1123424482 2095768.6746224794 1398248.5754013 1501858.408812054 1567461.0507466076 839235.5911332142 1329916.622157765 979493.8017902856 1412251.6535597085 1022524.3436700406 1055146.864739107 1102501.6223189882 1439823.396437117 1566683.40151845 616089.2187814594 1574291.6431228044 1220116.5110052342 1063498.1058303553 1048008.9243732172 1279584.6983454113 1141967.419103827 726722.9709279628 1728483.8221506865 1135184.5623471027 1030654.4867808694 609819.4984923024 1195665.6304466953 1025002.0165372121 1480329.3319646004 953499.5544328073 1803536.7450279947 608732.0746749695 1536655.6144897467 683499.2394974715 1354376.0644627959 1372425.8094507556 1754878.7903086802 1222571.723422903 1690560.0117250213 1205311.3618983303 1505435.1505697875 1133201.7113760044 749498.1068522355 1456761.830128873 1298333.87258564 1132832.8717427666 1437859.0911596795 1880272.452152195 1207198.09599106 971408.7738249777 1209138.716935244 1305033.3881155606 1208426.6077513252 778915.0189965103 1396177.0334276175 1438497.3847642294 1467283.7189019783 889350.4988229047 1321629.8440996401 1327523.261007107 1795561.563280847 845512.1063046103 1349036.305269765 1066540.7789142947 1362508.0369609646 963499.0046960725 379114.2857293285 1455521.408236145 1075123.2239604627 1546418.025727064 1603418.3326957112 1255133.7471215082 865842.811385747 1540296.734404826 1347938.3649915769 866101.0508653086 1354443.9873516292 1701574.0889097368 1983104.9172713857 1047126.5024327527 1005799.1117755948 1266024.0154845733 627950.801681414 1597606.886745296 979801.921169401 794050.1456787828 1022555.6861475667 930251.7102045973 864773.2681082091 915336.7220225458 1388206.595245458 1359904.8477638431 1051571.277569782 1060983.3472654189 487412.6592349573 1426736.8775260798 1553170.4687559202 855175.4688611302 703046.5827870105 1032314.0014741446 1486322.0062169028 1332733.4536994663 1837167.2993016962 1677045.125508055 1286691.6581261628 1138166.7680955434 974839.2287821383 831284.4084806211 1030589.1278252613 1407664.336453435 1167230.0511638217 1903986.3264902043 1107740.9621018698 793311.1103572533 869094.3058583693 1315845.7365366619 2123370.0800024606 1502398.5050219423 1242975.114525864 1006834.0076189211 1067454.0628766203 1755009.0183767574 1345237.9024618133 1283253.612538531 1186624.7785470001 1021078.373453756 894279.3956972184 659607.6507656152 1121913.695731246 1086754.802787685 961203.165835496 1746450.6875617616 598589.9096359708 1451724.9550978593 1554081.027892667 1517166.5265269866 1303019.858482343 2018390.8346746804 645398.7324994897 1446640.5855257309 1083719.9946715664 1252417.6822125823 852435.5887612279 872631.3816338929 889578.27307026 983737.8576474825 1606003.6293561636 992701.4985524778 1878706.5124900225 1332679.5639843177 1459989.6644393734 1129030.4150618429 1481101.3500273635 1138251.077487148 1349801.4948881443 1794804.7356534516 1396303.2299109125 897814.9827236126 1270030.1154715877 1131073.0012915875 1511687.658891229 1619336.3593731548 1157574.2665961739 1062562.1925217023 942890.0120988435 788976.557367306 1282473.7195652684 1556281.0127782752 1547289.9088685461 1235143.3390733488 1059649.257171591 1324990.5848829187 1588984.1315243614 1217779.7317941454 848398.8088543068 757016.1468085292 1695378.369128185 1185292.4020742637 835087.3938546397 898400.5488931768 1586329.5532027169 993577.3162805039 1559418.6691106993 1013755.2846517343 1364613.7920185886 1239197.0208668006 1445374.1317220835 1026634.3512693065 916508.9737683563 1359389.1543662455 940588.8308482999 668588.0264734246 839471.1147357888 1003346.8132853828 1293306.2972969816 1288395.4865735022 1508389.7933038743 1051794.775558847 533063.4231140177 1285193.1361537687 672996.1793625324 1501925.3706231639 1357467.638986967 1194024.093751328 1216633.99542454 1376400.1717473574 1357267.976004186 1452752.2076178053 1812919.6844840245 1295760.796445889 817706.5368858243 586672.7247728908 932881.4110640578 811907.6267170536 1029000.1062990774 1550227.345347141 1270980.5817176788 772734.3714065396 1137727.4523783913 1417298.7229114552 1277076.2372578785 951389.3567349939 1726159.086978836 1571585.337993558 1455812.8990656137 1061811.8728465363 1075650.0575147627 1658110.3907416202 1362933.6929851165 884088.2332995606 1311630.5607257695 1092737.9411585073 1615980.1842028378 928348.2016270426 1735175.0128651736 948977.539185608 1760543.0653242918 1414299.2329999765 1073831.3379600788 1226336.714446796 816200.61128259 1533510.440552894 1627109.1382967965 1012611.032186688 1169926.098766244 1924256.119833935 788836.1536435919 1251854.708563701 1403594.6540757483 985352.0322539017 900986.2541767188 1812122.9394067184 1095244.7603330654 967766.0502020374 1511258.0672030158 1139685.7188306565 981763.4426514013 1186285.2330480928 1678844.1085326455 906640.2738265549 1472390.467862712 1486017.5808823751 944959.1900908328 915599.8522917303 1108840.2991250644 977489.1618376225 1815088.9647584185 1587521.6039957071 1699579.1555198384 733049.3413918177 1610903.0196849157 1349846.26508635 879397.9016775378 1073975.2123971297 1146244.133396098 1542117.739971794 1158851.380390349 1303229.061860351 1028003.408251846 1411313.6995671336 374549.7710600009 1073842.41462151 977408.8478262011 1449511.3963900395 1125482.1784506468 839060.3357535361 1148302.594726904 551151.5331218988 1338566.7044783859 1214986.7780221843 1666321.4259746172 1376495.3465976014 1161985.7147439308 1393200.7480101776 1105036.1368420317 1352423.3494554562 698414.4641976601 827977.7157654964 1669347.639663326 1176217.168513601 1022035.5111500013 1684492.873237648 1322364.0960602637 1375871.0497984856 1427503.3676413768 1461249.3413034582 1109994.4471532435 1578052.6854553574 1124764.7208388518 1167997.812275059 1526678.4443069613 1770170.0000537552 1314567.351972701 2170501.6390247336 935295.131496086 1138705.1900820117 1222154.6010266077 1233386.970738183 1621811.7823839504 1502297.9636660153 1358735.305811422 832980.8518620706 1386250.805013728 1551537.4902050958 1187493.1528355624 347084.08521594945 547245.3955179485 1399320.8567678253 1027542.8030829092 945055.2499195263 1165507.092448717 1291758.4971693463 1280758.5473991649 1075338.4544353061 1488466.948685253 1187888.2756913705 1494650.68813962 1080067.717416187 1228742.0319598655 801681.9731388942 1591131.131368392 881054.5325483963 1546218.891620352 2021694.3959276625 1131977.64712391 1141687.6314249972 1041447.8419445616 949949.0741685489 917722.0569798661 772629.2450023255 1516599.2077431476 862314.977191709 1179792.823401453 652280.3167270572 1296288.2380905873 1363938.2077054083 1350832.1170179907 62326.79085842264 670797.6136381548 713897.4383197229 1217239.4409861318 1252288.1392911454 919140.370018513 1734756.154395116 460443.90155091544 1427374.4701715787 1477402.755143827 992256.3136401596 159317.67460925202 845203.8076538662 1298355.8937407006 491550.33832712844 787193.7400431952 2136269.710872472 1073659.3818341594 2032087.3624960883 611376.2430266105 1220279.9260867194 1211795.6804312721 1454318.0664606453 1370848.5811311728 1576941.4698150053 821793.9249505165 1400261.4394684522 1143915.3202962265 1232172.9202402243 1033442.0276073646 1742546.20149787 1657664.0906574223 992694.1027479935 777042.7645178142 1388561.7044027755 1015447.9110695398 1341169.35591522 882788.2582034057 1315345.7925119528 1157347.33607719 1099217.4755404252 805462.2181163288 1093183.6605989167 1309227.3491200744 1275961.5736601234 1068425.8793108691 1362030.2477415574 1816390.9526104957 900420.7257122077 979316.5732086211 1676064.48581678 897474.6162303612 1236041.7190189757 810771.3498422233 1240934.007287396 1117304.9522396976 857216.7143758573 1288534.8743214794 1351402.021122767 1239666.5809902863 1070922.0588935867 1259737.1868310426 1528397.179259425 1240032.2327657652 914597.833745029 1445464.8391139845 1075291.2008683777 1121610.313930164 1585578.3302222406 257085.5198104831 1528417.9456153584 1220492.64645393 1065731.0432302516 1127551.469638274 1257969.1260305168 1227211.2359191654 1337718.7864733264 1058066.2391291708 1644481.5764324334 1490710.2110647038 776847.2817936233 907065.7797891544 1427857.809948456 1495154.5280260441 1029582.6313675282 915232.3984580539 1515166.8647590159 1741269.121630194 1685697.33305398 1095078.0895333213 1356640.9289569946 1326099.5879365958 1381687.5983984047 1472636.7924718012 1538989.5589486624 1096889.3231826385 1603644.8800282401 1167091.095208948 1255692.8004011 1039205.7126259429 767233.5195184797 1349325.5626917905 1234355.2611759868 930702.6047376471\n"
          ]
        }
      ]
    },
    {
      "cell_type": "code",
      "source": [
        "from sklearn.metrics import mean_squared_error, mean_absolute_error, mean_absolute_percentage_error, r2_score\n",
        "\n",
        "def spit_metrics(y, y_pred):\n",
        "  print(\"Mean Squared Error:\", mean_squared_error(y, y_pred))  \n",
        "  print(\"Mean Absolute Error:\", mean_absolute_error(y, y_pred))  \n",
        "  print(\"Mean Absolute Percentage Error:\", mean_absolute_percentage_error(y, y_pred))  \n",
        "  print(\"R Squared Score:\", r2_score(y, y_pred))    "
      ],
      "metadata": {
        "id": "8WLb6aozKAqK"
      },
      "execution_count": 189,
      "outputs": []
    },
    {
      "cell_type": "code",
      "source": [
        "spit_metrics(y_train, y_pred_train)"
      ],
      "metadata": {
        "colab": {
          "base_uri": "https://localhost:8080/"
        },
        "outputId": "0c953dc3-ea9b-4fe6-94b8-68894d4b9fbc",
        "id": "u3zo0bOCKAqM"
      },
      "execution_count": 190,
      "outputs": [
        {
          "output_type": "stream",
          "name": "stdout",
          "text": [
            "Mean Squared Error: 10073302615.620256\n",
            "Mean Absolute Error: 80766.33844241612\n",
            "Mean Absolute Percentage Error: 0.07544829008089758\n",
            "R Squared Score: 0.9185881420083194\n"
          ]
        }
      ]
    },
    {
      "cell_type": "code",
      "source": [
        "print(model.coef_)\n",
        "print(model.intercept_)"
      ],
      "metadata": {
        "colab": {
          "base_uri": "https://localhost:8080/"
        },
        "outputId": "06ce78cf-836d-4d17-c83d-ba4df18c2857",
        "id": "tYaaCQjJKAqP"
      },
      "execution_count": 191,
      "outputs": [
        {
          "output_type": "stream",
          "name": "stdout",
          "text": [
            "[229021.16518877 165104.47042836 121092.12246515   2395.07116381\n",
            " 150803.47554561]\n",
            "1232402.8065984936\n"
          ]
        }
      ]
    },
    {
      "cell_type": "markdown",
      "source": [
        "# Now predict using the test data"
      ],
      "metadata": {
        "id": "al-TZH4eRFkZ"
      }
    },
    {
      "cell_type": "code",
      "source": [
        "scaler.fit(x_test)\n",
        "ssc_x_test = scaler.transform(x_test)\n",
        "#ssc_x_test = x_test"
      ],
      "metadata": {
        "id": "YHZLvbRtP0e9"
      },
      "execution_count": 192,
      "outputs": []
    },
    {
      "cell_type": "code",
      "source": [
        "ssc_x_test.shape"
      ],
      "metadata": {
        "colab": {
          "base_uri": "https://localhost:8080/"
        },
        "outputId": "aa55d15d-b293-488c-a964-556b9cebe9e2",
        "id": "sNhw_e-NRQhL"
      },
      "execution_count": 193,
      "outputs": [
        {
          "output_type": "execute_result",
          "data": {
            "text/plain": [
              "(1500, 5)"
            ]
          },
          "metadata": {},
          "execution_count": 193
        }
      ]
    },
    {
      "cell_type": "code",
      "source": [
        "model = LinearRegression()"
      ],
      "metadata": {
        "id": "0u49ifJiRQhM"
      },
      "execution_count": 194,
      "outputs": []
    },
    {
      "cell_type": "code",
      "source": [
        "model.fit(ssc_x_test, y_test)"
      ],
      "metadata": {
        "colab": {
          "base_uri": "https://localhost:8080/"
        },
        "outputId": "15964ddf-123d-45d1-fc7e-7be11f830d72",
        "id": "aOY4Q4bLRQhM"
      },
      "execution_count": 195,
      "outputs": [
        {
          "output_type": "execute_result",
          "data": {
            "text/plain": [
              "LinearRegression()"
            ]
          },
          "metadata": {},
          "execution_count": 195
        }
      ]
    },
    {
      "cell_type": "code",
      "source": [
        "y_pred_test = model.predict(ssc_x_test)\n",
        "print(*y_test,'\\n',*y_pred_test)"
      ],
      "metadata": {
        "colab": {
          "base_uri": "https://localhost:8080/"
        },
        "outputId": "8a643dc9-e760-4379-d966-9c8fd9ec8899",
        "id": "UtRKePPHRQhN"
      },
      "execution_count": 196,
      "outputs": [
        {
          "output_type": "stream",
          "name": "stdout",
          "text": [
            "1413579.8167508717 1618721.1384298413 841392.493028112 881443.9247264569 1174747.5505841346 266298.8811183604 1877941.971423074 1022408.9010463773 1766248.403252482 949072.2495954648 565937.200553177 1437153.9585319315 1582605.5351026566 1009854.70493643 1116351.7534385773 1255736.4085876248 1504441.0101502882 837540.1697407691 1096069.2868773628 1205962.994953347 1130844.0293626525 1815920.449805418 1023595.112870682 1054304.171728802 1399909.0486968765 1710612.0295451423 670063.0223057014 1245785.0509590923 1168760.4276857057 412269.2033995612 677988.2554676826 1715435.9911160583 662630.3439401882 1167449.9898697317 714706.4288537387 1411217.4928510934 1200125.4471192514 1322439.1075564742 1127637.557366602 1066040.788657332 1383842.185059596 1364306.7686809986 1682105.8474714488 1380602.5555813394 880084.7004478722 779207.5546130885 1029861.6229008453 1106149.6856573927 1327806.7288319168 1377939.7745081235 1584317.752692729 944288.9110136192 759799.8758389656 1028493.601458844 1164497.0193326313 1383508.061615121 1696339.544124581 930011.5708874032 1092649.7088299526 1686562.168573392 1376969.9288002914 868314.4735625429 1660678.0350868388 1533017.3071416777 1735340.255686551 1735416.9213924294 1771036.9245198532 1068786.6717911256 731715.2643402667 934610.3953348844 1137069.30717901 1088634.962087134 1271396.518005975 732733.2362930495 1702090.6352886 1596440.1139360054 1288490.2684409255 889831.1510522065 1151341.850204358 369433.3549647921 1305219.5213491025 782800.4947029103 968411.6243946048 781524.1763789405 896944.2442711681 828497.0670960692 919207.0276133117 1114128.470041262 1170169.2592077083 647691.8352028722 1160526.0577474134 1473071.9543045457 1492011.495862129 1413105.4948034876 944001.5583308408 1270999.9393805678 1334537.4235594876 1525533.406625511 956435.2633348468 1639099.377623702 681089.918915701 1042144.2309165346 1626941.7878663803 1427832.120659103 1621700.4633341725 1131887.7617860057 1005087.361039984 1550702.478402551 1451658.8772407244 1007224.9288462064 1277744.7389113496 663128.8400534061 1473372.1641704566 1090888.9630292277 1364832.003419123 1712280.705535875 1165240.1780106246 901881.7426862384 1287030.9316908938 1062206.3209441437 1727453.1546019888 1495384.003668785 925394.135004886 1792368.627274575 1483685.9038027334 1852375.50677484 1054249.2065594809 1063069.916425088 1263018.1269889686 407718.9382154924 945551.14893088 1158742.829939291 1276471.5809718044 1235591.828348264 818289.7642087417 1114779.246640951 1646662.9106811616 1398353.590664104 1434575.1099082837 1434803.061308178 1104115.6927835557 1149524.698591107 1471031.4205758185 485533.68035768607 1126137.681408579 1300362.0280723723 1463003.0558812623 1196254.1180677337 751969.2117407164 1696086.168104268 1152046.592394497 1420648.2808698171 825095.108578208 742858.6356339195 1670183.167980545 1517316.573657094 762391.7760956662 693931.501505761 1060440.595655847 2007639.4321368616 1007478.7484311544 1086447.5106632377 1290043.366614489 1063630.927500455 1494101.444719538 1518387.141646837 1278365.7674917756 1394423.555643988 1454749.8065940435 1358983.4704786798 253185.70150858173 365929.5972582176 1555806.041797239 527749.4038647808 2092348.3772236549 1754576.1455501278 1151006.077527774 1219154.4031595571 977980.9211108278 1530294.5773399265 1930805.946694563 1411749.1072165458 1086825.753933058 1122320.9326301892 1479063.2137821943 1649156.6076317346 1182670.135034575 1940225.907504852 1296881.9713107832 1604207.6842766178 1286400.915009066 1267986.687523998 1120349.773128633 1727592.6372201012 1445030.984450201 1336858.5103599608 1535564.5520297578 1123386.5312002872 1903813.7926587544 1439028.5209890238 1449409.4356042852 1426682.1346372126 954746.5764328244 1325860.533421939 1349818.250162027 1567368.284951169 1324382.1755828236 1169736.791123088 1168822.8173240784 1792254.8180047118 1296610.5322899309 1917583.9986181413 1340094.9662054193 1159953.5929204985 586381.5473253077 1769484.8931096962 1412619.7099471306 1218635.851406522 1222412.019854086 1334952.605118672 756216.5757576082 614700.7371485097 1344651.5738711937 1412144.508444236 1393897.3902198137 1154126.215688569 1440909.0012831052 936553.7042681208 642646.4389558511 1340066.913084396 642855.1695820823 1297619.3482987224 1796531.9032657258 841122.8823806869 1175289.1605114085 946556.2636948556 1329007.2034481545 1705276.189567485 1130677.4658439818 1205878.7696221636 1676770.330573918 1005392.4185892516 1405933.0186992486 549947.2482470637 1237902.8200737466 694472.1081139629 1059406.1303480302 969678.5672887964 651787.9705180059 1426402.8066054268 1388218.5294499428 756319.7340442679 1511352.256003255 1566567.883138695 1133084.3238238392 779962.1010215052 1214689.183704473 992622.769267206 1153605.0312831493 1003837.6670084944 1309768.1961093454 1729392.2041672813 800809.1316861338 1609581.8042977294 1017775.5118270963 738431.8310762816 783808.4024661684 1557794.0212722572 857697.1254910927 433247.1565833708 1061785.5833805124 1217021.518740754 1186688.505938349 1133910.648443125 1352096.0506802993 1804243.860448444 1339303.6569163986 1450122.715015601 1601904.3565403365 1541746.2905590518 1049672.2486072308 1086186.4278047497 1086735.9127637602 1229702.9483640655 1083745.371808771 629657.6132544072 1347578.5303379197 1279117.9650857162 1663509.3926240325 968360.5234030996 615506.8010811901 1552536.7639745462 737147.0943241782 676377.6614159645 1856782.7829208511 1420469.7265189183 615568.113378455 781213.0669276181 1443842.022648748 625990.3004351463 1186441.756443983 1209287.535497026 916344.293835102 1434835.9531418546 1358646.7462613978 843633.1982439461 1534889.8534666563 994654.4094247868 1202987.8293471355 1656785.4477005391 1098518.1336854908 1362436.153753944 1138609.172936965 414165.22036082624 414571.2229366215 976649.0166086608 1506656.8260229118 1407123.7995305716 965136.3385167392 1461511.881271546 1178846.0658152937 1037780.4795439028 625880.7320537643 1265927.359738196 1630952.883556368 491085.8259962853 1306349.9922858966 1610217.177003238 1252416.6912618277 845553.3695012048 766078.3707692815 913397.0868819004 897479.9501690639 1081578.6194758175 1899948.0591423784 1570154.414183986 1459540.1330420503 1290784.4908596615 1236044.315553221 1088548.8265538793 1369016.7779001954 1031146.7545545298 1073355.783703826 726883.8689485132 1599963.8071501006 1333865.4377201414 1448774.9705814288 1038153.9487324572 829868.2304469759 665266.9765732376 1246218.3100606224 705343.2560893283 1366727.6626961108 231189.8209898588 1042814.0978200928 914136.519775298 1748474.694094093 880402.7569219653 601007.3511604669 1196204.8862624606 1664301.512323261 1441736.7608375724 1271340.3814239912 1129613.0100203287 1165877.6686129526 938827.8008369108 1737570.5050745255 945614.5659127636 678721.8842424268 1203247.8901339215 1274474.5458934947 955445.853671163 1165990.6036967745 1073350.0443075988 1126821.108811283 1564252.5257374863 771310.0003991764 711499.2445801494 878862.7456844705 1439892.6324951418 1935172.995020192 863448.392442468 2152959.4089430883 1071109.9165850952 1706689.9397544104 1460758.6262644362 803919.8064717614 1439431.4528896934 943854.7278973316 1503552.2062630926 1151233.0954609383 1068138.0743935304 1153433.0812821975 1707269.5277034238 1115466.5850714108 953840.6976020308 1392207.647768422 1530013.4488713266 1112314.302911407 1206020.384558566 1111284.1605705975 1327975.2487410752 1186372.1785061008 1833208.5791579715 1235681.7929598093 1513427.551164361 1385978.9841198327 623181.1347939228 1072704.8902154437 951243.854076582 287307.583688923 1316793.5692341109 1106261.2737053018 1336356.2325639816 1048969.4932738757 917351.1355937724 891661.6959126607 1467849.817834562 565680.5528071544 1731564.379493469 1527439.7172659903 1696717.1072993656 1361230.1212351571 1219778.0342015522 1734239.1383592023 1298476.894637183 1874415.1070496887 1928728.7915559376 1492095.1431974396 1385400.4556730608 1715743.409136058 1527691.7006808666 1112194.7521798655 1542970.947533841 1393482.8496279658 734562.104533648 1030729.5831522896 1824987.706251756 1489667.7500101302 1255576.272954358 1943359.7675411068 1069292.3268591478 1111360.3028116906 2009937.702628427 555755.6567947512 1499552.268737694 1262552.685917803 1460364.2998845282 1073183.759841627 1608889.263379709 857934.5477662288 1601527.4148865074 1242316.9909078022 1524106.964721467 980049.3901359153 840272.8648923194 1200401.9889419326 1081150.1254838074 768751.9005440959 1384432.1532990958 929247.5995364 999826.6092888176 1212899.2186562717 1482107.3699638068 1318058.0633455634 1194357.4059239507 1450619.4572830184 1442632.5412265589 1612717.553099336 663732.3968963273 1212939.953517593 1569600.445635948 1130293.596703484 810751.7250413778 1560805.0707927227 1538985.1890983768 1125696.862367818 839745.6833340527 1036338.2390135262 1412776.5771211844 1214563.1502187783 1243491.5716775164 1412097.1767743204 1371521.619588533 1244248.524945985 314167.83427680004 691854.9210270025 1456273.723935143 1030591.4292116084 1317234.042879586 1396401.0215001125 1269293.208736044 1480441.533604724 1678347.5275379843 1730103.133132334 787039.6446794184 881446.1155446059 1269811.089152703 815593.7638087127 1025439.4339352736 1574279.8139775426 1268964.7954015422 1765281.0932294582 1499243.167565391 1059431.4512633595 1401767.9042517585 758570.797192593 1084539.3870624043 1356691.3872020654 1125230.4502937691 1492965.7334657512 1092809.5966868077 1584439.7128321177 1224001.870843812 1261681.960817626 1095597.9438335 1301486.6855460985 1900789.2370148413 1449829.493750261 1444572.9714972137 1540869.871999482 679228.9927468386 1164209.6193771297 1332042.9116713523 854487.5970384093 201898.08657249613 1372994.2901084968 1283764.7877560898 2014851.344161515 1397564.1562824403 734827.50801229 729990.0243899535 1501103.4929884768 863297.1766934411 1618670.884405709 1197307.146008132 831471.5304107015 1339254.7267992808 1938713.985075609 2030910.6153455232 622449.6452289193 1070318.8148959314 776125.597113738 1608726.680546448 1495518.62392568 1331374.9476177315 1592210.175923131 1536992.8656720358 773996.476231782 679373.4014719697 1308243.922235843 1251430.920318619 1768705.125279147 1435981.219914465 899609.3001428025 1069238.4997052513 1525205.6460323844 1061208.7061709536 2005167.480217235 1825071.452252544 1632943.3488277283 934408.7142813632 1086072.0710614217 1469237.20519252 1414286.7224241218 1265180.9089164848 798073.946177208 2024902.521283108 1638265.394523659 1553311.1606797678 736817.3769171783 710269.2139681028 1403296.2576075103 1137224.5754304302 1500821.46909593 1209445.2203735302 1993453.673154315 1580727.450288832 960808.291081754 733299.7945489064 980145.782902982 1015546.3086072234 1543801.654559296 1080735.9840692123 1387701.1110529576 1538903.9925451411 952439.6621570892 1119992.6188354518 1257376.1736885186 1218509.1453244926 1838092.102498864 671802.0395152965 1047452.5080813532 1970419.0541530403 923830.33486809 1099788.6980318588 1426545.9673390274 1007856.266240042 390948.4499941545 1184462.319944161 1153871.4695016337 1907859.0589315053 749383.0725554076 1316206.246554098 609402.7752548894 1783534.838827364 839629.5121744731 1425632.5419741997 1100152.0877663638 846095.9673147105 1444701.3279198643 1592175.5124622623 552585.3540991661 1424389.4833293157 1172385.8977045629 1068492.6129947894 1869886.305262404 1240754.932046382 1034180.9492611092 1446155.1797020894 1547888.6330481975 1676070.94296519 1492521.8665181694 1287784.3040333614 1026126.5838267674 1311432.388111685 603714.7885821962 862865.8153196024 1015010.5384041036 1102821.4381808082 1148416.90958571 1059113.7212754686 780608.9935174572 909781.4667682184 1672445.347971653 1055153.3195092094 1535781.3940854766 1262017.792059947 624244.9443876417 1285019.1365090108 1143203.0678656865 828127.0276465778 1244563.274691745 661043.3565144942 1169944.2477587468 1662585.9381789912 821859.065727853 1217309.1294013518 1869313.1069877336 1540762.268628121 294170.746352692 1222045.0908874616 1599478.9856644769 1643086.2778970115 1028760.4652352538 723750.0652577134 818057.8953027214 1585873.833196516 1194083.2472498536 1581817.4067967194 1143672.8254142758 1578760.8083977597 1682708.6168664235 1530480.687873164 1293383.8900123087 1218011.060787834 671671.7144903882 1532845.7231194605 852590.3528209794 1558196.968571363 553077.2126120757 1735826.005205352 1400111.496727653 449728.1009992498 1327718.3816666016 1381272.8805665972 1596439.7157326203 1517152.5846254574 1365437.489057367 2298379.48670761 31140.517620186045 1233126.8356523872 1389287.4738699936 1042243.7312719524 1252391.1798421678 1815809.621442141 1165253.0327180624 707345.0624327669 1457672.90568856 1135030.6828346122 1291331.5184858206 1106976.067467471 836339.8169458734 1708102.1023987215 1689120.4265200938 1168574.665599605 2020158.3629418 1166333.8865033598 1289190.7626395207 1742938.7760231788 1491145.2404770595 1310207.133039433 1499988.8795226102 1299991.9508120096 1536208.366135118 1183014.5086739515 1353635.4103963175 1016301.4433502624 1273631.2670727102 1124635.9316285902 1745516.1706263402 633875.9302099622 1754969.16194479 1040607.3120545676 1045704.700328456 1737759.0500294531 1026817.399788458 1198572.866300251 2271112.743827721 1389047.5577764665 1565931.1916819147 684257.1110665329 1427551.1449668494 931768.0455357102 1708631.3653701425 826306.1479242345 1601678.2634858731 1232004.8298347492 1408427.7584109262 1224186.6959259962 705100.5115554469 1704126.8763504997 1365151.3942278114 820611.4708595406 1376346.358964895 1352917.1768613977 1292592.392096719 1441882.5217055138 827268.2274099344 1012269.4686781848 528485.2467305964 1580557.01024894 658646.1847265189 1065656.0234758626 1249461.5616007491 1420283.5588377572 1033290.9749004892 1208843.2767307777 786559.0248508396 1398466.6278241158 1351639.83872163 674197.8519904646 1243239.0034040422 1914509.5209888024 1233484.4765780976 895441.022143891 554702.6801764854 1987332.217286645 1085103.002972052 1582765.592476812 1264972.4420392748 1530068.0120752782 736897.4095371914 1250882.2917570665 1160397.8217300237 239319.93417545117 1244789.0220019894 1168355.3197896334 1494241.2261904366 996771.2481507692 1064939.5225198085 1127873.5774725412 1193519.5083805996 491907.7943712191 1309922.8541763353 1356062.1044986642 1491838.4944434683 1028650.5919845894 1285098.6907913624 1866035.4149757065 1071279.210244544 1174779.157761556 922478.9145343913 1379456.0307108702 1956438.6514352525 2059301.3434198145 658644.6170003233 1194594.988366492 1189466.7143340828 1481171.234478745 465499.8080598057 1252723.429640374 1248130.5205878613 1222726.5643610675 1384466.4369129457 1515005.384163801 716771.0057488753 1716323.348128052 1031121.814457246 911656.1052977764 1661592.7891103032 1396241.1981041245 1641055.9390446388 1049632.1806835155 378466.4201839389 1860681.9470210185 1288426.6939028532 1129798.3727253522 1757395.7872397113 1549031.093041703 1493623.4158691058 1422230.9601239902 1347202.5775821644 385678.1666731234 494742.5435776913 1506651.1565735163 956764.0140836356 1572513.8381522945 854812.2579554294 962591.6565767032 1328586.2904618224 1249914.0785097177 1062095.467626749 1721005.4195045803 758886.6887614839 1380070.450117897 1568700.5855257383 872312.1737954783 1707650.435673782 801194.619821129 1816152.2669641247 1279777.3787882745 1030324.9189220024 1067727.0946673383 864132.0330832003 1300303.4071226972 1012545.4916159144 944032.477262609 1462899.0314555492 1651684.77387328 980231.2309341528 1109006.2873668086 1226180.7679891768 1353854.4775205588 1337472.085151686 1409318.5774674288 1590336.4170441094 1084013.7849062877 928538.7847562184 966576.020188316 1961715.866692026 717273.185257682 1753967.4765968325 1159207.0846165894 1760734.690364014 1076602.187723606 1235750.6017170658 960904.9953518584 1243879.8299386548 1328658.9110723843 1210184.01761757 2318285.703336616 1115394.393195597 1813996.9333129849 1029273.2785955656 1170705.1662407718 755843.7090123148 497368.0367931192 1550359.5484654682 1243981.9458579402 1517693.106201501 1170959.5262846122 1108894.0032261622 1741052.959622036 1040781.7953593384 1574211.648913064 1662939.0973972816 1240763.765571478 847387.2057853508 1339142.80508292 871325.261278003 1591383.7352199997 1218125.212270385 1172514.722473985 1786085.7505429988 790721.3677899047 1495390.49870273 922514.0879743272 1120943.3385906045 1712282.2593634182 1090805.3740171348 1383565.6961895288 717661.5560232053 1167918.058868265 1226041.7830216552 1323326.402922148 1935831.0390568047 1200539.361167783 1640990.378462931 962747.1638994686 1788285.2389932962 1645843.0482722488 837668.1026021099 772111.9721021007 945833.1891229402 882666.5815081694 1490539.0581097947 950121.5621065242 1641739.5180614428 1168993.737583562 1028683.0448748892 1216307.1456612044 1305185.544822347 602209.5750471331 404976.365896227 970044.6656400692 1534111.5806179212 1055548.6757761142 1978629.875232525 1714445.1746365826 1076334.1025455322 1827476.1960615185 792449.5430652391 1048350.6918200088 594816.9325198851 944491.0395552134 1698198.7513699988 1505560.5399742462 1127260.1257513668 1170204.3390991166 928563.8215523724 1450769.8409873634 1789334.8514812705 976483.5805106072 992566.6232646884 1710966.0356305088 1371640.9317114232 901752.6804515448 1879416.222452312 1641873.966286834 1043415.992020972 1416648.297306375 1799827.2201704425 1161742.677446362 802048.4455314139 483458.5482582932 1281537.3681660516 783566.3279228922 1421047.6461369044 940138.9613987308 1521527.0421970466 1961846.9052189465 1087802.8877692306 1222576.819715059 918533.616385498 882170.3184490805 1057347.1660527764 988123.7553400168 685922.3851784463 1540997.8864851487 1272719.6318939514 1305070.0130524288 796666.1224321837 1101120.2587428256 547794.5711922585 1381417.2495046626 2138713.943340635 1187113.826180701 1891398.2558229947 1126450.4261744465 1159596.518619623 608794.2466921951 1474379.4400821466 959416.4366620412 1186019.796113567 1684537.9611563762 1430813.4128906224 943668.4823796288 1016163.176715182 1358350.39783993 1634945.8075096812 1391303.7868712496 1564125.2379417687 880214.2118726358 1550036.518714004 1157189.4377037785 1517666.854519622 1147685.3005502543 1469767.6472201275 738030.6498645385 923971.5832050658 1136448.408760456 1080170.906857998 1191968.5200498789 1177289.88620479 1309985.886794079 1059870.9648322463 1644923.078262324 1106336.8383046896 759044.6879907805 1336377.8252537115 1747911.4958528914 886815.9435970848 1211102.210889241 1376898.0583895228 1348873.4268637958 1748864.714526891 1182335.6796501088 1636559.240604262 1273554.2778351835 716316.4881444586 1792753.4995637876 1131533.5554094613 1837930.8009415872 1190867.437364912 520217.89299136034 497579.4465868728 1272180.196538667 1084255.6782722834 1432318.469639134 1431915.977008168 1573347.7884437758 1003701.0495827476 1677005.1404360302 1282758.90307051 1782803.8692421229 809089.6719454966 1419536.2589499224 1240864.1544719306 1236633.0865635795 718650.643819188 1986811.1701954128 979568.628541252 982298.0365595416 1412274.4860076832 1595663.4739549155 1638577.4166270343 1593331.7087101643 1410814.9846924148 866666.0553738795 1306458.9058958818 1401560.9170354677 1219846.9185098251 1884385.649508617 1268570.8085187648 1337966.9267592845 1417047.627110665 1277297.48311534 799207.7042750404 1090996.1430147758 513215.9882314093 1294069.5325034796 1734814.160325652 1364194.9398179324 1155513.1752000046 742449.3106376197 1292643.5202523577 993725.2171881604 1236093.9143957258 1629573.8859278488 1836419.6406684609 1224792.356950685 1811265.5232156063 1049661.038846639 975054.5664011224 1475700.7096609343 1132983.9551551435 858159.6196000497 1197437.3440681112 1285157.8695856398 759360.6547692231 972079.5875536922 1065679.1208029888 957806.002679502 1003642.6274172928 1251688.6157028745 1695706.1315254318 1301881.416528581 1051519.065766143 1617072.27721383 1145351.1612325564 1513223.534863405 813807.6997244997 639366.3655728735 1220001.3342399488 826328.1083526685 1047280.1118709394 1392537.290354905 944590.1588346952 493350.031167589 1375771.1290372745 1418310.0848390271 1160146.171270086 1278991.6886996122 819027.5986834953 962183.8029974956 686644.610408734 1114957.596869497 1431507.6234279652 1280700.4032528442 664298.9713057821 1375105.3459220582 844695.504884106 699323.2623925492 1281113.31524688 1463442.908287028 1172619.5970591358 1814462.3505011608 1644242.137141663 1076438.9751434857 1680788.286557635 1153029.6157198593 867044.9596419198 1012269.8201046892 881273.1168015127 998702.0371241436 1128842.2090283502 2180065.597738638 1201785.6666717983 1514349.692197701 1222799.3397221712 1505890.91484695 1412449.478586824 1441526.8367587973 1060123.7295704826 885204.9786583288 1308508.1189828415 1175781.4175700566 1279945.5101680192 1185160.8610785818 1222277.0910204104 1013252.2090460656 1499153.0808398786 1243918.8107245015 1295099.436777126 1967637.286822351 1122563.8194987655 665160.0759449846 288708.9121479006 1308752.5044794169 1125677.6043161764 911901.1553498644 1537864.8820073928 685880.321277076 1131698.2141953632 1268703.8107933956 1221827.821998858 1002974.2146829072 1244630.997600002 1957891.588351542 1094027.185790039 1848511.108160001 806255.875632613 1557075.4223108292 1578141.0531342432 1357208.2377392326 319495.66759175994 1186025.9508770336 1282339.3498764976 1014450.6537930904 1370178.474136888 942166.50902854 1390251.419934081 1129408.8701258716 1629345.786532865 890481.7298329042 1619721.7162305776 777144.2542493446 1132146.3204353235 1299430.1759553957 1454126.550991805 1356384.6675167023 1648246.7742056048 1006580.4796598312 1308773.0784993526 2185480.090688329 1630438.8542301457 1280995.5491585608 1636906.2883778496 1188196.881911283 709348.2237339056 1069827.806639154 1144711.1773279298 1269486.3372270886 983534.15000672 1603268.2110607368 1676172.304855517 990893.1600715704 829794.8232933849 1334377.3074135566 1696977.6628325956 1259163.0652436588 868713.4366943266 754960.5528405047 1277380.5286085252 729315.3749195363 676979.7154027742 1428693.929893514 1688279.3081102488 903657.5625479298 1274053.63988823 1341722.8359691473 1675557.2712307854 852982.5643785995 839638.4609643505 304239.28237102233 1421715.4153436075 1123851.141411446 1199144.7879332034 1202992.8841231456 1476277.527374216 1443907.7473837263 1400609.034078121 1381117.7013514298 1191625.4399627368 883021.8963767654 1727211.0894733826 850977.0123103865 1892623.5459042157 926880.8505513167 816813.5323512612 1181630.6251696383 965318.6957876944 1170892.9796549894 1441576.8467606597 883147.4710432091 1625508.0131062374 1308465.2400430096 1311067.4456660468 1104701.234420732 1551390.3787238726 866689.0911811923 2173808.627715738 1070818.731368435 1084945.3996676442 479500.5568108269 942663.9415375702 1642844.648635587 720059.8348080008 1453597.5066767505 1009831.1347769842 1130108.0228452345 1545961.6076584705 948788.2757094484 1202227.9566643513 1426695.6863993006 2007556.2860539176 1082588.7273654498 995721.6273979772 1890056.385193676 1209797.5798096356 1048818.2102501562 1006544.5265988766 1315568.1643761364 1641749.651205491 769576.8636597353 905328.7691457036 1417957.9831817353 1156329.2740497622 932616.0682040264 1381442.7584597112 2142896.5564072616 1033881.1348005374 880851.0551992012 965074.8047437824 1462360.60087787 834599.9392319452 1105024.4162669778 1024738.2849269824 953261.9162022916 1381536.933945742 821413.1935367524 1902814.526796328 822934.8312947354 899466.5749240116 1517141.622824528 809057.4586058989 987973.8927878812 1123991.977280772 1296146.938859657 1434144.2608724642 1591934.1903279135 1067191.979946472 1180989.3240263455 1703880.2199140803 1294685.158547012 902520.9400336036 1240380.4614059897 954737.141064872 1181995.430504778 880132.8440062631 1661435.4795672083 1522143.6413856596 1417158.537395579 1304789.2625824716 1054606.9845532854 887016.9763645504 1462875.9838223844 1867050.5361289831 1662038.7593434926 1114430.95342313 1342818.6762798564 1116487.3570941258 1064509.5226208074 1318231.4182852104 935061.309297756 1063344.634927028 1502055.8173744078 955943.8090150156 1882118.610971276 1383395.2874928915 1052185.1759533966 1584213.95748502 1014226.2985707616 1211442.9407654293 1318681.0401821504 1681316.362253782 1399466.897763413 1102516.5838414284 1236258.07968267 1262281.4856597355 1340909.7986568718 781482.5832219761 701865.7729563166 1397680.2412138034 656971.5307242259 1382787.3245131264 1869113.6110749368 1390990.849092237 1397943.5134157222 1299924.7977382322 1377447.3485206584 1075550.2154757688 960918.6584475788 2119176.261933276 1500939.8265608612 824540.8963674724 1308017.3142391797 1846350.0200436213 1224397.4272492656 1390200.2242984471 1268421.104189113 1118595.1189391278 1195601.9623484935 885709.7642844076 1133139.9261763238 1150658.59516312 1446982.7614704303 1117741.7573242227 1626125.1656497952 937628.3466936616 1693384.8030654874 1521141.3453009825 850010.1815527306 1165875.3063766025 1767399.2899479496 1222701.0121116524 1405399.8550982492 1472887.2470605278 1180091.4978196998 1279160.9875854698 793894.9731793484 1749820.0141306592 1062877.8829939002 842235.8033529122 1286477.3958779026 1133814.077962921 1025705.1343197428 1225796.4144416682 1178553.6161792604 1560838.450232807 1603749.9836054868 913978.5733876184 1373290.8607785418 1376146.8111116744 1354417.5627576166 1622827.297843668 2096977.790185921 1313304.5877362725 1057838.4934225385 1343162.6366221448 1388782.8874013545 641484.2385493759 1317040.7373210003 966084.4204303528 1113373.5200017327 861013.9460775609 1276259.0183221009 1539084.9218209032 1496466.3571105185 1421518.6019075266 1100632.3911398223 1214320.5743640617 1517868.594946868 1879797.719739336 452530.1766995848 1163741.658300815 764756.0934618785 1635151.1855657238 1490904.5625106555 1184799.2714969371 929480.6298952122 1004070.9982745504 962551.0371401922 1558547.577837524 1361841.9517155087 1303542.2825080787 1153470.4397478565 1458422.8106991698 1283415.2655546074 997448.7280769936 1043548.6091084076 729882.6248906897 1671669.451734201 840208.7430414602 729641.7408744311 1044017.4316455174 1242979.1541040274 1577849.5238022262 1628830.079642039 1285202.33657612 1329800.0461904877 972417.8089132756 1321743.1661741682 1539129.363811181 1333014.9075833731 1399812.6127342363 1795093.0340089437 1064685.698733535 627650.4025709751 1411024.0439091795 1360100.7192439777 987026.3707410204 988175.0073923124 1488535.1595646788 718874.679765292 893802.0888455657 1422916.8108158372 889113.2388612495 1185734.9581772955 1074824.8164886816 1326846.6987356965 1572814.863233389 1421135.814954099 1391788.848669405 1389366.7180879028 1465223.509412894 1663653.7097575443 1582140.0596046257 1553854.434199959 1827500.8917075216 1365945.0827829945 1187454.6724878063 1340983.2503590283 847155.0413472857 1485418.1022610776 1043968.3994445396 989643.0313890134 1247645.409710813 1468267.2302156277 768034.5330731972 1852338.4692459644 1065150.786753825 1048639.7894974465 1800685.9224889183 1093506.0142506592 1409892.0897761208 764860.4626889983 1798521.604522182 1360623.694456931 1431386.814465111 1363669.0689153152 668255.4804327786 1316180.4935914932 1076995.904067892 1597152.9012685108 1403219.370573444 1368134.9976821383 1382110.278182302 975384.1814220176 1232156.01224821 1174289.0805683718 1473761.5318166828 841276.5860989693 1989672.5239908115 2092949.8613406112 1531216.8939163382 1223261.46230481 894251.0686357756 1095391.7986012583 978766.9138660992 1331897.4568409575 1736401.6096050944 1302814.48932942 1260484.4621029706 939139.0293389644 718187.0166164306 1109639.9956683936 1102641.11402327 1591234.7734067757 \n",
            " 1550072.6692394912 1578306.9441544781 940054.8796658551 942113.9704578732 1180174.794345603 333166.0495712941 1920650.726739413 1066229.2101434325 1647858.1788863 1070055.574552902 626854.2433257097 1533756.883909651 1625885.75118473 1049182.3780437957 956118.8318600378 1231287.4491798347 1425874.3091826572 924028.4378561933 1122175.6681385036 1157367.525604734 1290680.141411695 1854601.1404715613 1180673.0653989564 1190527.5019383284 1551865.6002842179 1853782.7324367857 812898.8613771228 1060093.214169434 1223868.526566094 658526.9064810603 841907.5521778894 1631349.949494058 666268.8460297999 1116330.8536508419 800368.7757929787 1302529.0237749314 1146056.2206508121 1342976.118958477 1034411.6467939198 1159775.670191456 1409644.0376798017 1306750.3378760845 1576382.2548250018 1295019.5918149136 846725.9064059812 922369.9936251154 1227877.366525392 1158585.3765589145 1418537.7704152614 1331526.5852112814 1564943.777422863 743507.803158863 755156.551267623 1035766.8470115751 1231511.1591303246 1307151.1402031018 1538963.9508221506 1073175.9598592643 1049179.3009990284 1580232.7025893428 1434517.6283742453 1032997.1559367405 1715720.6684823285 1575047.242660894 1593081.440077912 1871542.2512240699 1756640.978775017 1062742.7383589933 637007.265281861 1010164.3547527918 1330099.7507852747 1114752.7695129074 1274957.548328416 718893.3273452397 1720796.0565554886 1888382.3545551 1205888.4372229963 870750.3428964748 1089110.022332112 595558.7958852745 1264569.4527292554 641889.6447405173 843441.8943693568 777160.2474575478 1041743.4586700741 976330.9763070229 777989.1336085243 1194894.677809093 1111427.3855888036 610525.3701799054 1096044.3400119725 1641892.1937493407 1535656.6111469984 1213113.0926378341 830503.5077925888 1204208.3029477645 1421517.4903344314 1391229.5834245519 1026048.1053308034 1745954.2419358213 658484.6972454139 1058555.6661427056 1495111.5211073887 1384145.3817496723 1589247.5323649396 1156655.5694182313 1074753.3923847429 1603606.3761523906 1443317.8550329919 1066803.9877705688 1170479.7391753849 730994.614439476 1548289.366342124 1052044.9797759796 1187483.5597408903 1821197.550680767 1278340.816997482 787316.9417704258 1414087.010946472 1160413.810034998 1743594.882545229 1507195.07935639 797682.8147112025 1632735.0841867428 1372882.2195547293 1822796.3485758454 1144117.765616383 1187478.670872141 915226.8925052332 512970.4335763779 769108.0116497888 1129526.2757271277 1318609.6873840916 1229023.683036858 830508.67673859 1056692.3713483538 1421061.0168323417 1198391.628050092 1402842.1208611438 1294698.4329351382 1226791.5698775018 1124044.831216304 1432125.9799421502 574586.0778377964 1102842.0925617393 1462645.1960298328 1409824.6220285303 1275284.5973318345 728634.2448649005 1766035.9797261532 1081524.8638165614 1465552.4061806751 867229.6456072273 824385.7460825231 1613846.2202343042 1386264.4927885565 773809.8950973866 837779.0431672857 1178085.6799182019 1854304.2502516177 1072567.7291933156 995345.3227978798 1343689.101326691 1127268.7956464349 1438663.6838008966 1459638.6595270266 1207096.6918765793 1468092.484102545 1502967.4867624359 1308187.7960644686 485781.8067933386 332601.1074197927 1458355.2430266086 590869.8650943202 2063855.6896093502 1703921.4597254957 1304498.3015248254 1292135.9459276865 1150345.843856318 1395694.407437006 1889074.917584123 1451440.8519532657 915402.4737973252 1009335.0403629856 1390224.7092472473 1497196.6310551735 1123642.1749161305 1722170.224170431 1413955.0245406572 1417081.1124872863 1273185.590536835 905459.3887398976 1130143.9885094455 1710751.9243281723 1592797.2735467379 1322616.1335937995 1408462.0140336757 1242453.5591030288 1994579.4461238612 1417780.8280485966 1201317.4850386558 1619380.6895879125 963930.0856160739 1177804.8581918553 1377510.0561239538 1496036.825662633 1214240.7152855834 1090543.4572024918 1357308.7023053195 1962585.5331822354 1138582.8401901794 1959539.7340525938 1245077.4594219266 1202529.225459379 634349.3087321363 1779955.5109641813 1324476.0536665495 1040508.5039523634 1323584.7496853028 1378929.712658854 804638.3692198467 696913.3663217674 1459547.8965313123 1387297.6156886981 1423229.1030418363 1192542.4730986492 1256860.7019040973 961036.5509633766 594756.1535406155 1442833.719514062 652233.0487347057 1409208.75647466 1795788.1290200558 947198.1656855665 1241875.350896155 966032.7530132347 1366664.089891071 1732992.0496399063 1186957.2108685684 1381595.482380793 1610254.0201873688 1152091.0793759925 1405784.911536682 649000.914471614 1122127.0050380188 810457.6880426125 1104811.1483928564 1019427.6112844729 944152.6891001796 1367731.2803503429 1344389.1965226266 840171.0659831093 1466587.4303673063 1636113.4516696464 1100428.5675462554 761329.9970440955 1293292.7705294557 995140.0688939341 1191693.8150568688 1017164.6388159229 1287445.5180251647 1622192.4252005965 813486.2366083042 1634062.393607413 844548.7511136703 618578.2695408049 776147.2601876871 1497601.5811230303 854551.84876854 580204.4269412764 1073963.5773680704 1369783.5563463604 1004247.049418372 1108588.7667913947 1383245.8046610174 1847051.4280143182 1379694.0695509352 1374830.7298246655 1706224.4951169677 1455998.9272084993 1162890.2418368384 1207814.9456482662 1151019.009481099 1377961.5375748677 877169.5324783782 624750.0660806177 1359113.2829160183 1390664.8730028297 1491284.6755246674 1020104.6655270071 570199.6249560041 1626296.9143222063 629353.3482370769 706400.0933870913 1834700.629952515 1430233.006992578 733623.9489684927 784004.9333544306 1363796.5157757208 659247.5687390966 1311322.4362493695 1077399.7804255823 969519.9359096937 1483415.6669189439 1246863.7298197749 724376.0583155332 1662397.5787365115 948654.9506021314 1134438.0627268632 1813186.5590032435 1124313.1363481947 1207345.4847256483 1150784.1314174684 527902.5169234303 455472.48350035807 1002769.724953102 1442560.6085544587 1386393.9982738467 1158933.8501775353 1540002.0546426326 1213781.5251478665 1197642.3222312196 836286.9374071836 1436154.045904618 1448748.713937918 620227.6699351437 1322185.4467542619 1575061.2041640885 1207123.7745030695 742105.0286080027 887149.6008292896 1002488.5327446617 1024024.4231693938 1086962.5152075663 1724581.4765004674 1713731.0969083793 1447042.787044824 1320472.4065314913 1287353.7012595134 1034489.6848964717 1266983.8328691637 1062968.252718335 997442.5313998103 790762.9592356058 1791629.7146780435 1327548.6703867777 1410871.5133771366 1143716.2819223513 853346.7619100283 570082.7351741792 1275264.5195172848 768894.229607679 1265784.1700446534 298265.51198207436 953443.6242721784 726173.8892775736 1763207.1184887267 700961.5071117412 399597.0837717819 1193694.360086319 1750792.0704610622 1451104.923891702 1143639.26252762 1140267.1282465458 1217496.2496855748 975966.1743843532 1683571.00511347 918755.2618183567 613876.2005263186 1181153.2186287828 1158357.313775259 1041384.8037303195 1004222.157838591 1053729.411180381 1338637.3960481514 1548194.610344817 783677.62214723 733252.6698114017 877906.2223476712 1401751.0944076397 1804608.6026937282 824604.9012760604 2180304.191266699 1090042.7141566896 1613711.9792910358 1544340.7953885281 831686.3539966312 1553665.612162346 958391.108989717 1450515.3632764164 1039853.8494928884 1066216.1607754866 1340643.764690667 1539212.7856479168 1117904.0280243 1045497.2007186555 1336571.349292988 1319076.106881382 1101246.489700579 1239505.9417484615 1037352.9752572887 1375525.8343498032 1210743.0684175857 1785333.4611172676 1133221.8444651007 1445792.0617199722 1307186.7772201481 691719.0192658647 1027768.0181620216 994707.7688295974 254336.46382054477 1314198.1032142474 1081899.6481226103 1386518.1764415875 1081955.4841688583 950082.7935780019 1044826.8949328674 1474506.398971023 549922.9712236392 1619759.6655483472 1457764.0128726205 1898721.2443611063 1522511.0845125625 1269224.4192025242 1662849.0532173498 1321178.8728572214 1697474.2943967197 1947349.7688117025 1490821.2576790955 1470406.8826898874 1731887.6547346022 1392216.358318101 1003557.4305137361 1520904.726373076 1390274.9107204592 789008.0819148712 1021340.1402113526 1748917.7710311809 1414292.8933989324 1065142.224044405 1815605.5757797612 1178974.6945023958 1082480.8691193154 2043409.9491975452 653809.1593016718 1418097.4482837613 1293552.2583570478 1502159.831394583 892089.2283368753 1601152.4352367655 986324.465470519 1428053.6832560822 1185241.9276661107 1548027.7845884617 935946.9776266542 946972.4116463475 1187474.2375534712 1162497.5869213652 780960.7402894732 1463222.8897501426 1077300.8483720268 1115478.2650061247 1295982.4969945012 1576578.010207602 1401975.4784449078 1382980.4899633832 1512824.986521104 1396519.3351636792 1539970.739907442 629649.5582204311 1178180.8221599848 1550446.7352678012 1179417.810552413 885551.0442468647 1560898.6918749164 1486333.674491374 1015553.1962242629 948203.0433609473 1205125.4584873137 1449407.372430037 1189614.723254744 1289743.2178667798 1338422.9110655522 1481190.4556553566 1225626.1994673284 296516.2659489749 495946.7720986791 1457790.4382177754 1197749.5786656337 1279979.8142113094 1383657.360463108 1265863.858362169 1239673.3092478397 1818566.1305399884 1736465.2549389855 713697.6466674794 960308.8053754466 1075286.8219643035 775259.6408307974 926712.338866314 1620641.106838536 1367561.7173296607 1488731.9508703041 1410616.691839007 1010624.8000181057 1327038.0087082584 1003385.7101674102 1043639.9128820694 1485407.9226919198 972716.2608731582 1523503.5561246574 1100476.5079341345 1584703.1799566767 1222004.2733175554 1295636.4065898955 1206410.3446638964 1358880.3092694408 1705339.6102673241 1762408.6011619468 1549365.1906378274 1457464.1170732812 998153.4711406893 1211046.9350385454 1382365.5884057777 1093394.4439297135 386654.3003927516 1421456.693616087 1274268.5949321822 1939806.8973114428 1392367.3067426018 670020.5466015984 766882.275808556 1635584.1264874437 994427.5004129652 1821803.1336699817 1146611.1406766241 855573.0907290794 1294097.4159864385 1823715.3855522664 1973336.744000643 643799.155811177 938479.6775254745 822633.7081618285 1512768.6710231176 1211819.8347683498 1167878.1560591676 1621551.1193960675 1452362.4411961348 784114.787927573 724909.8457403139 1362165.8504304462 1032534.1350264575 1661016.706396895 1498007.8759350078 759022.9221486467 1172140.5558401574 1546193.4122102498 896642.2632816561 2118188.313104598 1682879.706790121 1586116.2231002785 926944.8018129591 1028054.6276847306 1510143.048134346 1346813.7035439804 1150434.5514870598 855310.1591857668 2114939.0539833857 1618718.8554266202 1462201.0889039377 646062.9009496772 753581.5465168606 1337038.2474416748 1108136.4505622475 1457129.1139639555 1129279.9284899011 1894169.520940425 1712744.2503265054 1051520.2555468646 791171.3443223839 919069.8405329296 1123481.7580774347 1635522.4896908705 1077394.364793925 1320861.8779973022 1684179.685846283 958657.1860082555 1219569.061336151 1287472.849634942 1169308.5043445376 1673372.3442596209 781044.3472134374 1125483.592308917 2083521.071246036 694625.9575841863 1071259.7601778586 1234652.4633402813 1203008.771481816 504763.6313918624 1198840.5454895194 939000.9283980108 1827144.1843121 774560.9815387577 1368119.3773524307 618752.3064160703 1800046.39635134 885172.6152470616 1446206.4379206093 1294581.8965470272 913282.4267201952 1403497.3965409128 1677829.9440498338 605682.289440022 1361386.3772076082 1148252.569571518 1310241.7539750847 1797436.6582236132 1237129.6822222075 1089117.7441914906 1279507.1449230039 1412552.4043114714 1732028.347550713 1390895.8541443702 1306654.7492736364 1048225.2708529736 1180144.3856663473 679389.5073232009 789549.6757238816 886942.3085193718 1100641.0086173317 1186768.186299236 1145270.464602811 862112.9664978515 932288.0152132432 1644677.1777842576 872082.407460735 1428698.428499821 1143481.6349267098 827422.3691287863 1243582.7251903974 1058883.7907147568 916926.977453717 1265352.7782536913 651281.6936776382 1224771.7952280322 1521728.1779177897 734582.4609659192 1087608.9508767508 1731942.4496247165 1334449.9149240593 255027.52479658998 1186922.5188496457 1546781.3096854915 1524558.7210243696 1115616.1283089877 579613.5833748264 812080.1493558206 1358250.4875448165 1218729.3999552615 1504466.0682264143 1070913.9453749175 1498501.0854912715 1492766.254074389 1468669.1904474576 1276134.3704564348 1269739.7080752796 919617.7010828515 1565541.695828557 744696.8962001742 1693923.1885062503 626580.2674580122 1633210.417570712 1193921.8161312402 549276.4387565005 1265894.83451379 1272424.1743757648 1485709.7137880642 1425582.2412211522 1280095.4999386172 2134860.4634048305 108148.1565272098 1321566.2563518074 1301016.2038305087 1007037.0151477447 1185748.461511427 1795131.0502575599 1230754.5760542506 695576.3510007464 1488311.1693469465 1060815.6383337718 1304686.5966812288 1034657.6466158067 788125.9645048 1643281.0352058695 1758447.223524958 1130514.560861905 1962379.2708985498 1320273.366546894 1267219.84815712 1816061.5845741457 1589043.3271239381 1152089.8450293825 1443008.771310142 1191968.7994839405 1412013.7570291546 1302930.090842404 1406004.375745987 888285.0762075353 1329076.2493927358 1179224.0023095028 1755642.155316224 659364.5120258213 1731758.812198654 1143264.0725096476 1307741.328868681 1731934.5039995296 931999.1256399376 1257912.2672921089 2333670.8696704498 1369605.829852521 1574277.2716600318 751902.4808784472 1538402.2908950879 864556.2560632552 1735522.2013231749 684022.49718865 1622930.8772046724 1393597.535635973 1400367.822292559 1169221.2234617923 663328.7525519751 1562545.3494366945 1515345.2475892305 875798.2911236393 1409067.367841018 1485292.787085474 1325020.6903463944 1593585.3793356013 683374.3230381627 1087650.128430821 488588.80904919305 1459903.3571606965 840315.6985284721 1288495.3646866675 1313769.0322900745 1473871.8248959053 1116911.7572744798 1229660.7961095911 727871.3351952252 1475497.3711170035 1296490.2555733703 812951.5713203776 1127243.4509796493 2077922.9284967144 1192292.9541340612 832920.2332689688 651681.1096858759 1823403.2801367617 1177805.2518726815 1636574.5107218353 1119972.2213262399 1562044.4797481105 851434.63254024 1096964.4147492994 1149926.625669794 487625.42162859126 1210911.4002792186 1065861.6183139812 1559461.2894927436 983204.957074945 1006207.3982384154 1053037.6412409397 1044304.872344781 629580.0673887109 1363214.0305096793 1429863.5550902502 1509306.4874052214 1217504.135267121 1371460.1538912514 1760229.829864268 1232197.4526062522 1273169.0551502898 903602.0576807423 1314608.373491814 1745889.5804875852 1982662.4337180455 521510.2265629419 1128546.087744251 1142520.777242224 1618965.6730158173 493959.59697359044 1137080.7316632555 1137352.0993055422 1306315.4548085085 1346846.3961859643 1554575.870567345 898792.7102810323 1822774.9405186502 1019744.5179582431 917120.2510804813 1726309.264251067 1363843.5988128951 1612634.3953795796 1152566.801582735 548973.2837896597 1731206.7281869142 1336490.843074536 1247654.3019695347 1737249.5558960426 1523185.846678528 1429977.271912822 1481315.8332218204 1295327.729606559 398088.1541028463 463064.4522183067 1534113.2832187747 858788.1806816885 1451340.8835248484 816411.8835729985 892481.8616321826 1379468.8988929305 1401039.4261619316 1116271.1857972147 1795360.1475591166 705087.7117289163 1345222.910635695 1518055.0567605502 894383.6592102569 1692988.2107021352 904890.6647716877 1723079.7002229248 1223480.6973482356 1050494.4134493605 1125037.6782921976 964548.0524489833 1162964.2314446287 985731.06484142 1080846.7894894658 1531134.4658309938 1674097.9725051352 875366.8776815163 1082504.5955092446 1304980.6715691893 1043788.4446328862 1461921.5642952125 1252510.0186041312 1619306.4176494265 1098967.4410989527 1100528.8607980234 838143.2986307122 1944425.235973438 850093.62926271 1688907.5002077436 1036571.8906551361 1488427.9431556822 1073475.1966904106 1224283.3278798496 994145.2204772169 1127811.6349494557 1326398.7013223292 1332200.630535246 2282427.861081956 1134269.4681748457 1724483.1278241079 1055114.398975099 1179120.12224161 860127.7317325356 506962.9965957764 1482706.1225482768 1182883.0574478775 1484672.3011084162 1083938.632805681 1077166.865191204 1751435.7676280043 1019647.5404709817 1613874.5750537594 1674736.4531751638 1403279.6052504806 872376.6564623106 1289898.921352276 794366.8669921482 1704880.6137424428 1393537.0377032245 1077216.3778237242 1612562.146265579 961701.1389097262 1488146.6425680618 932754.00566604 1063912.020264841 1612675.3165761833 1154993.0298654034 1278380.3189541558 984506.1377308035 1261383.4823115596 1266520.065515512 1295555.6843593286 1882318.2423175643 1082529.2929593425 1811921.3788444235 926979.6398613243 1801670.9152342766 1552312.4177243067 1049570.1725671205 860805.548709641 968775.2837053823 886538.1236061647 1587240.2552616226 921723.6958219369 1598001.5369808169 1322376.4142223115 1208299.4833517817 1261194.7488280397 1251960.7186692825 785706.0131655684 475408.5925928744 1030374.1941035471 1457460.4041999388 1025549.6539527323 1876902.508986461 1606116.5606489356 930993.9516775243 1749155.134328036 879588.3256172575 1004049.1533375239 548329.3152617721 1025252.2313511779 1579027.8037637859 1564420.0485667002 1123146.8605742063 1176211.548762808 1113417.5836878568 1423663.483077156 1771812.12919369 998302.9050101944 972598.0783940007 1731642.8352742218 1409052.3801832562 908620.2768230604 1818149.5180606048 1546685.060777487 1103066.9273732847 1384923.462123887 1704581.246568201 1243778.1828440726 844987.8247344827 633542.1818600221 1238666.0684676154 891808.854726078 1334757.755670133 886149.129319167 1580015.827855834 1782290.5390407788 1236713.9196462608 1279338.8031544858 983609.5167273027 892636.5365237514 1001529.9237162131 1119013.6231064664 834349.6356864411 1504439.094920389 1295735.9210592501 1229852.7947585178 686836.8570021255 1194119.3241202997 654968.1161598046 1526956.341585977 2139854.1822650125 1211931.4184779841 1692448.2838074905 1112254.7766572265 1121217.6308802103 751958.9197213678 1351847.6256364947 1196668.4700976831 1185423.5869369379 1645887.6773848266 1248994.7913064843 833447.1517273884 1114138.3548653026 1362918.1203885921 1625539.1402587336 1326641.481395214 1577629.3703300701 983485.305605334 1660453.9467986813 989240.4428095898 1422300.36110941 1192235.3279498187 1344429.3568503407 786803.2638548723 995782.2959385518 1234027.370718386 1143802.8725833762 1208698.37817381 1109840.199721999 1426753.1941960403 948069.9660542288 1707638.9586538796 1006885.1762227123 831457.6604602535 1312609.3265723607 1793915.5955673777 949168.1685104076 1226602.4912120467 1373186.915105297 1196195.12784225 1690432.8580054976 1189835.7214778145 1535440.8656361997 1131423.8709689311 866151.9138903306 1735313.8361961548 1027416.4830045123 1792785.5658546626 1248128.6334788725 622328.7992356454 523548.4075593533 1121407.5078100981 776536.4969742545 1227525.6431410965 1500781.5843125614 1409223.1295918825 1010019.7522547252 1774390.3801589771 1375546.6126652977 1681344.8966894904 832903.4642877014 1418017.3367202068 1282495.9451715553 1288129.1980438353 670450.0757527133 1944206.1560364827 1034978.0864962658 1008024.6276884392 1287054.9151964714 1743039.6676468945 1475011.2796152271 1671930.0318976012 1341684.9048148582 964522.4836113191 1222791.571537351 1387355.320226557 1145162.4836730224 1710242.316882791 1351656.1149961941 1154441.6456973506 1217054.370727667 1234905.828456085 680083.2763825519 1263903.9580689287 444223.95527945796 1364527.7423830102 1634130.2843306477 1278808.067432749 1256328.9254635142 771458.9107432492 1301260.1026772782 1052728.8695355537 1453692.3412482417 1483471.1656415823 1826820.3373892603 1227323.5913820625 1847916.8797894488 1179475.0664420535 1234354.8769546764 1555326.98928918 1333127.4242230747 724742.3039140123 1001446.5011142844 1278463.363737483 682300.5477744252 1094604.0277850248 1045556.5845150552 984384.5619802938 1029174.4779941244 1254758.6394131752 1626836.1190847936 1240198.1163677557 1024414.5531674873 1655694.2576931354 1294993.6142053585 1499435.4858147516 902323.4940572398 620846.2520854359 1153064.2526594 695255.5552581169 1079084.7748256354 1369340.4046621963 936165.3565312782 434388.0775817288 1423664.5987761826 1289372.7801264639 1386893.9292846979 1301052.6351466968 868768.6752078901 1049292.008445377 632179.8741092433 1050470.4344170014 1228264.7838961007 1250550.1299010653 708059.0211270424 1298003.803701676 840024.9781818379 902468.3035034039 1375056.2606632984 1324965.9956990012 1121967.8536926077 1767955.4284848492 1534261.8873954588 1011334.1215538342 1607754.864184805 1133954.9229644095 919587.2476613513 1003988.1534232143 1077396.0534539013 1031334.5086134956 1231654.2710811617 2242724.9728347235 1320617.9881833391 1511155.8849036708 1284441.624718277 1491714.8982680773 1362193.8731184131 1335977.652422935 1064938.0807115783 937497.88050236 1258927.1951144945 1138023.2434367132 1379371.8722422284 1019246.385396036 1348790.6184725887 911804.4748906784 1303488.899236483 1284513.808096468 1341731.527506439 1991763.1060260246 1030927.5631072335 738385.3994798907 397449.64782615914 1167588.6663824539 1308695.185860436 908534.9815349204 1413896.2499587347 777346.9874349402 1283146.7752377312 1250295.1590511966 1129063.9407878492 1095042.1510107643 1235545.6877456703 1752711.611677275 1178106.8752538713 1845414.9495393815 855777.6151761811 1619928.1063171932 1509179.493532832 1283349.7750144668 475265.0330599325 1022758.8090515764 1063214.1083022703 990560.2286160693 1332279.360421781 1022028.9686192526 1279932.924723818 1113473.7364004648 1516643.6623352407 932948.1131832525 1474008.2103855347 870691.4314163337 1101426.093849212 1371323.9817238383 1512789.3923913992 1485590.4071166522 1568923.428634125 1189817.910222437 1206838.7294226796 2044358.4961427175 1387974.4459570076 1211161.9411349122 1612354.8531855587 1097702.7642835204 922670.3353196786 1162648.0561397919 1164689.043297276 1242608.1619465852 954206.600092363 1443828.3436372592 1644328.6445374954 952150.2909456025 993281.5844969961 1374667.7561752824 1736137.4943814843 1184852.414626646 998433.1801837378 840396.7661376176 1156773.0750210015 763411.4763822935 777146.3565049444 1440798.3172073497 1548028.2592797233 886885.461498169 1322303.2267009604 1435662.025551778 1798237.7115979956 882486.6591972674 783619.2958921932 344109.61728976155 1381824.2547180466 1049914.3211076069 1153589.7785215944 1047167.7127237786 1287381.1624285206 1247942.400638148 1295986.3692030136 1482766.941517591 1048074.5940114501 997161.9034096579 1758886.089115234 987263.2633471196 1908126.6852103593 938767.6918201635 760045.2199589852 1039066.7579498207 908711.3780823349 1090952.9402131967 1478837.0101567109 1041681.2407089195 1563177.0030804113 1133390.997275468 1447214.3824039188 1040818.3967840245 1574158.4692897983 837602.6255020612 1995789.7700291497 1223802.497268448 987081.8411672483 618322.9976257678 950820.1984472075 1538357.1536320054 797596.1431047933 1193213.2916840117 808470.8053142189 1095425.8740820629 1506884.0882052928 990075.1631723319 1098184.9132366595 1343628.131703716 2012297.4764151205 1206816.3170473836 932660.6537672151 1820544.5255291977 1000515.5016682972 1195909.3766477604 1164007.0258587056 1319036.2113129355 1564446.3550808826 959509.1850546806 807536.695631807 1488103.4187653365 981453.8718634709 1000926.8960843682 1446440.4307492897 2197607.740271612 1226233.300734241 903202.0135775148 959828.7040960134 1579960.1043025823 855583.6699384194 1113457.5126077405 1115920.65272675 841559.6828621743 1509723.7785108238 924843.4713939466 1824204.3770135157 638082.2416830669 1094886.1502320324 1467219.4302634355 723392.4564047684 1014061.1390836629 1142080.1066329235 1364424.3439969693 1480761.845580347 1553968.9098920417 1027463.1253949477 1254874.3404139648 1635823.7248605662 1357045.3143177247 901951.4035085337 1303178.8408949198 917385.6445206337 1344746.4890032988 911171.548902939 1783460.6845307436 1404591.8754716408 1492948.7373544057 1276121.1225913619 906131.3989514038 1069375.0836831906 1392168.4213193033 1876724.6352625003 1547051.9227489438 1091382.9280372944 1410811.1020071297 1200936.587032803 1110129.7195424177 1402767.3961704092 1036036.0100112774 1163937.7639889854 1666651.7122258646 869094.3249595242 1856013.8588971526 1407021.7801590452 1139308.0175972453 1428263.6827677374 1122097.2925414857 1098746.1687874957 1357383.57515941 1525329.237151749 1284490.459389936 1179303.8910134078 1310472.0380464336 1178423.463617989 1403759.5431061664 917006.7231665475 575724.3785862564 1285526.879820384 620769.7835720305 1371595.0489127415 1851838.111063516 1427241.7004805868 1513074.3340393614 1331199.667322786 1371578.410715621 1079072.3598931264 1037142.3299514004 2039563.088290534 1449910.882235073 885441.1531731794 1211160.5572562965 1780130.6962076728 1187966.2182183817 1361309.3804292218 1090918.8154629283 1187089.3470120132 1156342.7676614048 931965.7708656997 1115843.2962676538 1224007.0990650859 1354479.6527495275 1204049.8060655056 1650749.1799026045 1106569.6433320881 1667644.1810919237 1470017.2630479354 691769.1540059699 1160252.6333740146 1840782.744191526 1348014.195744871 1392806.201498171 1456785.6559763881 1126587.1948125013 1284980.576626367 921181.7693624346 1861975.1321785038 1062054.5923454948 813663.7074254048 1061055.1464202746 1167686.310988126 1184001.8911125066 1141649.872897171 1242005.8417168146 1353050.163512399 1574480.7190285418 993157.7754826975 1310716.779885087 1320745.0078153072 1373133.5058492457 1464521.0319774777 2074667.0211279322 1216233.9305068227 1175377.932934223 1383914.7355473856 1330144.727805427 665837.9423799504 1228639.0769238898 865934.622711048 1105385.360641854 844456.1846877085 1291719.4395048216 1571517.1497617564 1533109.9084099587 1413418.479559111 1142097.9002701596 1152235.7486577954 1372807.7725361837 1777807.3823691458 527402.8519668675 1229875.5770977987 1048157.148711815 1374550.7263366715 1670382.9633429355 1020168.8573320322 1123224.3354573725 949951.8066820885 1048325.2132553749 1639714.187154884 1405256.6046422387 1626083.6648827356 1169517.2535351617 1438083.9549352757 1362733.626332664 940006.5274784775 1189944.3605372428 961166.2457998637 1640009.756696281 909243.8591237643 692298.3712652856 1189980.649099543 1072409.3511506487 1600459.1327672787 1607543.2839012574 1241443.861710458 1326235.579628475 1044216.5753545151 1148713.8968109903 1435162.5705476487 1622020.4128481096 1426558.2959772835 1750756.7872604895 1091987.8849860341 624585.1469127355 1319913.4712367777 1285871.4804727302 1096385.6269090949 996605.1385838712 1476624.388701665 589958.2902173573 1014706.2721028931 1278977.1683696928 816290.0227327622 1071281.585165742 988719.8050250955 1326511.1035488495 1587724.7654257268 1399810.3712974025 1326491.410743948 1453682.5947550207 1337361.9784229998 1558976.9680677878 1469438.0718103908 1629683.5370253501 1797610.7864130484 1384558.968775173 1052051.0464163262 1444492.8548476147 995975.2783739658 1662380.769967956 986996.0898738045 943231.6312764271 1216722.2729039618 1654297.4345518975 665653.050995139 1792200.6959130536 1152028.285628658 1084794.0153251055 1779089.841367486 981346.6550855343 1496997.4017111007 988058.0629269027 1729944.500351421 1352419.528057664 1505914.2157247914 1323919.534665896 504896.4476481868 1448571.1789776671 1120478.7567284277 1644510.8892681457 1445679.1880599144 1195542.1854199122 1383683.814614938 1093444.9320752202 1174544.90304005 1288389.2490075622 1372992.794070003 846232.0622505575 2008812.5449463127 2111464.0133024836 1439194.9816855418 1108630.680007175 969557.6274031738 1116842.6787962222 814334.4464101817 1343137.9727727703 1801164.325326928 1301717.7496537066 1154040.6013589005 1035317.7190331406 855471.2989884274 1099366.4174448978 974189.0594967767 1723651.5257472224\n"
          ]
        }
      ]
    },
    {
      "cell_type": "code",
      "source": [
        "spit_metrics(y_test, y_pred_test)"
      ],
      "metadata": {
        "colab": {
          "base_uri": "https://localhost:8080/"
        },
        "outputId": "ee0d4d05-ffd7-424b-a692-c6fc128182b2",
        "id": "vZRL1ItERQhN"
      },
      "execution_count": 197,
      "outputs": [
        {
          "output_type": "stream",
          "name": "stdout",
          "text": [
            "Mean Squared Error: 10547939454.75839\n",
            "Mean Absolute Error: 82648.28200164482\n",
            "Mean Absolute Percentage Error: 0.07804986515377386\n",
            "R Squared Score: 0.9168450278104656\n"
          ]
        }
      ]
    },
    {
      "cell_type": "code",
      "source": [
        "print(model.coef_)\n",
        "print(model.intercept_)"
      ],
      "metadata": {
        "colab": {
          "base_uri": "https://localhost:8080/"
        },
        "outputId": "aa1c82b8-c981-4aa2-c9f6-f73af59abe89",
        "id": "4GO-mdbkRQhN"
      },
      "execution_count": 198,
      "outputs": [
        {
          "output_type": "stream",
          "name": "stdout",
          "text": [
            "[232153.62371731 162083.67024219 121961.71677146   1246.48058004\n",
            " 151000.86488059]\n",
            "1231302.2984113714\n"
          ]
        }
      ]
    },
    {
      "cell_type": "code",
      "source": [],
      "metadata": {
        "id": "auWDeMibSUma"
      },
      "execution_count": 198,
      "outputs": []
    }
  ]
}