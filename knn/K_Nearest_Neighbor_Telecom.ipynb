{
  "nbformat": 4,
  "nbformat_minor": 0,
  "metadata": {
    "colab": {
      "provenance": [],
      "authorship_tag": "ABX9TyNLkn2rPqOCXrv0AVjuSYR1",
      "include_colab_link": true
    },
    "kernelspec": {
      "name": "python3",
      "display_name": "Python 3"
    },
    "language_info": {
      "name": "python"
    }
  },
  "cells": [
    {
      "cell_type": "markdown",
      "metadata": {
        "id": "view-in-github",
        "colab_type": "text"
      },
      "source": [
        "<a href=\"https://colab.research.google.com/github/naga-sk/DataScienceTraining-Assignments/blob/main/knn/K_Nearest_Neighbor_Telecom.ipynb\" target=\"_parent\"><img src=\"https://colab.research.google.com/assets/colab-badge.svg\" alt=\"Open In Colab\"/></a>"
      ]
    },
    {
      "cell_type": "code",
      "execution_count": 2,
      "metadata": {
        "id": "RCsXmFqO86Jo"
      },
      "outputs": [],
      "source": [
        "import pandas as pd\n",
        "from sklearn.model_selection import train_test_split\n",
        "from sklearn.preprocessing import StandardScaler\n",
        "from sklearn.neighbors import KNeighborsClassifier\n",
        "from sklearn.metrics import accuracy_score, precision_score, confusion_matrix, classification_report"
      ]
    },
    {
      "cell_type": "code",
      "source": [
        "df = pd.read_csv(\"https://raw.githubusercontent.com/balaji2v/Inceptez_Batch19/main/teleCust1000t.csv\")"
      ],
      "metadata": {
        "id": "b5hQqP8r8_6X"
      },
      "execution_count": 3,
      "outputs": []
    },
    {
      "cell_type": "code",
      "source": [
        "df.head()"
      ],
      "metadata": {
        "colab": {
          "base_uri": "https://localhost:8080/",
          "height": 206
        },
        "id": "6acabKYc9G0N",
        "outputId": "cbcbb4b9-b919-4545-aa3f-8e99cbe2ef9e"
      },
      "execution_count": 6,
      "outputs": [
        {
          "output_type": "execute_result",
          "data": {
            "text/plain": [
              "   region  tenure  age  marital  address  income  ed  employ  retire  gender  \\\n",
              "0       2      13   44        1        9    64.0   4       5     0.0       0   \n",
              "1       3      11   33        1        7   136.0   5       5     0.0       0   \n",
              "2       3      68   52        1       24   116.0   1      29     0.0       1   \n",
              "3       2      33   33        0       12    33.0   2       0     0.0       1   \n",
              "4       2      23   30        1        9    30.0   1       2     0.0       0   \n",
              "\n",
              "   reside  custcat  \n",
              "0       2        1  \n",
              "1       6        4  \n",
              "2       2        3  \n",
              "3       1        1  \n",
              "4       4        3  "
            ],
            "text/html": [
              "\n",
              "  <div id=\"df-df47892c-e59e-484c-bef7-21107844f46b\">\n",
              "    <div class=\"colab-df-container\">\n",
              "      <div>\n",
              "<style scoped>\n",
              "    .dataframe tbody tr th:only-of-type {\n",
              "        vertical-align: middle;\n",
              "    }\n",
              "\n",
              "    .dataframe tbody tr th {\n",
              "        vertical-align: top;\n",
              "    }\n",
              "\n",
              "    .dataframe thead th {\n",
              "        text-align: right;\n",
              "    }\n",
              "</style>\n",
              "<table border=\"1\" class=\"dataframe\">\n",
              "  <thead>\n",
              "    <tr style=\"text-align: right;\">\n",
              "      <th></th>\n",
              "      <th>region</th>\n",
              "      <th>tenure</th>\n",
              "      <th>age</th>\n",
              "      <th>marital</th>\n",
              "      <th>address</th>\n",
              "      <th>income</th>\n",
              "      <th>ed</th>\n",
              "      <th>employ</th>\n",
              "      <th>retire</th>\n",
              "      <th>gender</th>\n",
              "      <th>reside</th>\n",
              "      <th>custcat</th>\n",
              "    </tr>\n",
              "  </thead>\n",
              "  <tbody>\n",
              "    <tr>\n",
              "      <th>0</th>\n",
              "      <td>2</td>\n",
              "      <td>13</td>\n",
              "      <td>44</td>\n",
              "      <td>1</td>\n",
              "      <td>9</td>\n",
              "      <td>64.0</td>\n",
              "      <td>4</td>\n",
              "      <td>5</td>\n",
              "      <td>0.0</td>\n",
              "      <td>0</td>\n",
              "      <td>2</td>\n",
              "      <td>1</td>\n",
              "    </tr>\n",
              "    <tr>\n",
              "      <th>1</th>\n",
              "      <td>3</td>\n",
              "      <td>11</td>\n",
              "      <td>33</td>\n",
              "      <td>1</td>\n",
              "      <td>7</td>\n",
              "      <td>136.0</td>\n",
              "      <td>5</td>\n",
              "      <td>5</td>\n",
              "      <td>0.0</td>\n",
              "      <td>0</td>\n",
              "      <td>6</td>\n",
              "      <td>4</td>\n",
              "    </tr>\n",
              "    <tr>\n",
              "      <th>2</th>\n",
              "      <td>3</td>\n",
              "      <td>68</td>\n",
              "      <td>52</td>\n",
              "      <td>1</td>\n",
              "      <td>24</td>\n",
              "      <td>116.0</td>\n",
              "      <td>1</td>\n",
              "      <td>29</td>\n",
              "      <td>0.0</td>\n",
              "      <td>1</td>\n",
              "      <td>2</td>\n",
              "      <td>3</td>\n",
              "    </tr>\n",
              "    <tr>\n",
              "      <th>3</th>\n",
              "      <td>2</td>\n",
              "      <td>33</td>\n",
              "      <td>33</td>\n",
              "      <td>0</td>\n",
              "      <td>12</td>\n",
              "      <td>33.0</td>\n",
              "      <td>2</td>\n",
              "      <td>0</td>\n",
              "      <td>0.0</td>\n",
              "      <td>1</td>\n",
              "      <td>1</td>\n",
              "      <td>1</td>\n",
              "    </tr>\n",
              "    <tr>\n",
              "      <th>4</th>\n",
              "      <td>2</td>\n",
              "      <td>23</td>\n",
              "      <td>30</td>\n",
              "      <td>1</td>\n",
              "      <td>9</td>\n",
              "      <td>30.0</td>\n",
              "      <td>1</td>\n",
              "      <td>2</td>\n",
              "      <td>0.0</td>\n",
              "      <td>0</td>\n",
              "      <td>4</td>\n",
              "      <td>3</td>\n",
              "    </tr>\n",
              "  </tbody>\n",
              "</table>\n",
              "</div>\n",
              "      <button class=\"colab-df-convert\" onclick=\"convertToInteractive('df-df47892c-e59e-484c-bef7-21107844f46b')\"\n",
              "              title=\"Convert this dataframe to an interactive table.\"\n",
              "              style=\"display:none;\">\n",
              "        \n",
              "  <svg xmlns=\"http://www.w3.org/2000/svg\" height=\"24px\"viewBox=\"0 0 24 24\"\n",
              "       width=\"24px\">\n",
              "    <path d=\"M0 0h24v24H0V0z\" fill=\"none\"/>\n",
              "    <path d=\"M18.56 5.44l.94 2.06.94-2.06 2.06-.94-2.06-.94-.94-2.06-.94 2.06-2.06.94zm-11 1L8.5 8.5l.94-2.06 2.06-.94-2.06-.94L8.5 2.5l-.94 2.06-2.06.94zm10 10l.94 2.06.94-2.06 2.06-.94-2.06-.94-.94-2.06-.94 2.06-2.06.94z\"/><path d=\"M17.41 7.96l-1.37-1.37c-.4-.4-.92-.59-1.43-.59-.52 0-1.04.2-1.43.59L10.3 9.45l-7.72 7.72c-.78.78-.78 2.05 0 2.83L4 21.41c.39.39.9.59 1.41.59.51 0 1.02-.2 1.41-.59l7.78-7.78 2.81-2.81c.8-.78.8-2.07 0-2.86zM5.41 20L4 18.59l7.72-7.72 1.47 1.35L5.41 20z\"/>\n",
              "  </svg>\n",
              "      </button>\n",
              "      \n",
              "  <style>\n",
              "    .colab-df-container {\n",
              "      display:flex;\n",
              "      flex-wrap:wrap;\n",
              "      gap: 12px;\n",
              "    }\n",
              "\n",
              "    .colab-df-convert {\n",
              "      background-color: #E8F0FE;\n",
              "      border: none;\n",
              "      border-radius: 50%;\n",
              "      cursor: pointer;\n",
              "      display: none;\n",
              "      fill: #1967D2;\n",
              "      height: 32px;\n",
              "      padding: 0 0 0 0;\n",
              "      width: 32px;\n",
              "    }\n",
              "\n",
              "    .colab-df-convert:hover {\n",
              "      background-color: #E2EBFA;\n",
              "      box-shadow: 0px 1px 2px rgba(60, 64, 67, 0.3), 0px 1px 3px 1px rgba(60, 64, 67, 0.15);\n",
              "      fill: #174EA6;\n",
              "    }\n",
              "\n",
              "    [theme=dark] .colab-df-convert {\n",
              "      background-color: #3B4455;\n",
              "      fill: #D2E3FC;\n",
              "    }\n",
              "\n",
              "    [theme=dark] .colab-df-convert:hover {\n",
              "      background-color: #434B5C;\n",
              "      box-shadow: 0px 1px 3px 1px rgba(0, 0, 0, 0.15);\n",
              "      filter: drop-shadow(0px 1px 2px rgba(0, 0, 0, 0.3));\n",
              "      fill: #FFFFFF;\n",
              "    }\n",
              "  </style>\n",
              "\n",
              "      <script>\n",
              "        const buttonEl =\n",
              "          document.querySelector('#df-df47892c-e59e-484c-bef7-21107844f46b button.colab-df-convert');\n",
              "        buttonEl.style.display =\n",
              "          google.colab.kernel.accessAllowed ? 'block' : 'none';\n",
              "\n",
              "        async function convertToInteractive(key) {\n",
              "          const element = document.querySelector('#df-df47892c-e59e-484c-bef7-21107844f46b');\n",
              "          const dataTable =\n",
              "            await google.colab.kernel.invokeFunction('convertToInteractive',\n",
              "                                                     [key], {});\n",
              "          if (!dataTable) return;\n",
              "\n",
              "          const docLinkHtml = 'Like what you see? Visit the ' +\n",
              "            '<a target=\"_blank\" href=https://colab.research.google.com/notebooks/data_table.ipynb>data table notebook</a>'\n",
              "            + ' to learn more about interactive tables.';\n",
              "          element.innerHTML = '';\n",
              "          dataTable['output_type'] = 'display_data';\n",
              "          await google.colab.output.renderOutput(dataTable, element);\n",
              "          const docLink = document.createElement('div');\n",
              "          docLink.innerHTML = docLinkHtml;\n",
              "          element.appendChild(docLink);\n",
              "        }\n",
              "      </script>\n",
              "    </div>\n",
              "  </div>\n",
              "  "
            ]
          },
          "metadata": {},
          "execution_count": 6
        }
      ]
    },
    {
      "cell_type": "code",
      "source": [
        "df.shape"
      ],
      "metadata": {
        "colab": {
          "base_uri": "https://localhost:8080/"
        },
        "id": "f7U3ADnc9HsV",
        "outputId": "52ec3464-1c6d-4d05-b00a-38b95183983a"
      },
      "execution_count": 5,
      "outputs": [
        {
          "output_type": "execute_result",
          "data": {
            "text/plain": [
              "(1000, 12)"
            ]
          },
          "metadata": {},
          "execution_count": 5
        }
      ]
    },
    {
      "cell_type": "code",
      "source": [
        "df.describe(include='all').T"
      ],
      "metadata": {
        "colab": {
          "base_uri": "https://localhost:8080/",
          "height": 426
        },
        "id": "JCGwGSg19MlW",
        "outputId": "2158d915-f9b2-4d14-f590-f6d7b57e8658"
      },
      "execution_count": 7,
      "outputs": [
        {
          "output_type": "execute_result",
          "data": {
            "text/plain": [
              "          count    mean         std   min   25%   50%   75%     max\n",
              "region   1000.0   2.022    0.816200   1.0   1.0   2.0   3.0     3.0\n",
              "tenure   1000.0  35.526   21.359812   1.0  17.0  34.0  54.0    72.0\n",
              "age      1000.0  41.684   12.558816  18.0  32.0  40.0  51.0    77.0\n",
              "marital  1000.0   0.495    0.500225   0.0   0.0   0.0   1.0     1.0\n",
              "address  1000.0  11.551   10.086681   0.0   3.0   9.0  18.0    55.0\n",
              "income   1000.0  77.535  107.044165   9.0  29.0  47.0  83.0  1668.0\n",
              "ed       1000.0   2.671    1.222397   1.0   2.0   3.0   4.0     5.0\n",
              "employ   1000.0  10.987   10.082087   0.0   3.0   8.0  17.0    47.0\n",
              "retire   1000.0   0.047    0.211745   0.0   0.0   0.0   0.0     1.0\n",
              "gender   1000.0   0.517    0.499961   0.0   0.0   1.0   1.0     1.0\n",
              "reside   1000.0   2.331    1.435793   1.0   1.0   2.0   3.0     8.0\n",
              "custcat  1000.0   2.487    1.120306   1.0   1.0   3.0   3.0     4.0"
            ],
            "text/html": [
              "\n",
              "  <div id=\"df-a4522e3a-7487-4c6a-93ae-2e496fbdfb9f\">\n",
              "    <div class=\"colab-df-container\">\n",
              "      <div>\n",
              "<style scoped>\n",
              "    .dataframe tbody tr th:only-of-type {\n",
              "        vertical-align: middle;\n",
              "    }\n",
              "\n",
              "    .dataframe tbody tr th {\n",
              "        vertical-align: top;\n",
              "    }\n",
              "\n",
              "    .dataframe thead th {\n",
              "        text-align: right;\n",
              "    }\n",
              "</style>\n",
              "<table border=\"1\" class=\"dataframe\">\n",
              "  <thead>\n",
              "    <tr style=\"text-align: right;\">\n",
              "      <th></th>\n",
              "      <th>count</th>\n",
              "      <th>mean</th>\n",
              "      <th>std</th>\n",
              "      <th>min</th>\n",
              "      <th>25%</th>\n",
              "      <th>50%</th>\n",
              "      <th>75%</th>\n",
              "      <th>max</th>\n",
              "    </tr>\n",
              "  </thead>\n",
              "  <tbody>\n",
              "    <tr>\n",
              "      <th>region</th>\n",
              "      <td>1000.0</td>\n",
              "      <td>2.022</td>\n",
              "      <td>0.816200</td>\n",
              "      <td>1.0</td>\n",
              "      <td>1.0</td>\n",
              "      <td>2.0</td>\n",
              "      <td>3.0</td>\n",
              "      <td>3.0</td>\n",
              "    </tr>\n",
              "    <tr>\n",
              "      <th>tenure</th>\n",
              "      <td>1000.0</td>\n",
              "      <td>35.526</td>\n",
              "      <td>21.359812</td>\n",
              "      <td>1.0</td>\n",
              "      <td>17.0</td>\n",
              "      <td>34.0</td>\n",
              "      <td>54.0</td>\n",
              "      <td>72.0</td>\n",
              "    </tr>\n",
              "    <tr>\n",
              "      <th>age</th>\n",
              "      <td>1000.0</td>\n",
              "      <td>41.684</td>\n",
              "      <td>12.558816</td>\n",
              "      <td>18.0</td>\n",
              "      <td>32.0</td>\n",
              "      <td>40.0</td>\n",
              "      <td>51.0</td>\n",
              "      <td>77.0</td>\n",
              "    </tr>\n",
              "    <tr>\n",
              "      <th>marital</th>\n",
              "      <td>1000.0</td>\n",
              "      <td>0.495</td>\n",
              "      <td>0.500225</td>\n",
              "      <td>0.0</td>\n",
              "      <td>0.0</td>\n",
              "      <td>0.0</td>\n",
              "      <td>1.0</td>\n",
              "      <td>1.0</td>\n",
              "    </tr>\n",
              "    <tr>\n",
              "      <th>address</th>\n",
              "      <td>1000.0</td>\n",
              "      <td>11.551</td>\n",
              "      <td>10.086681</td>\n",
              "      <td>0.0</td>\n",
              "      <td>3.0</td>\n",
              "      <td>9.0</td>\n",
              "      <td>18.0</td>\n",
              "      <td>55.0</td>\n",
              "    </tr>\n",
              "    <tr>\n",
              "      <th>income</th>\n",
              "      <td>1000.0</td>\n",
              "      <td>77.535</td>\n",
              "      <td>107.044165</td>\n",
              "      <td>9.0</td>\n",
              "      <td>29.0</td>\n",
              "      <td>47.0</td>\n",
              "      <td>83.0</td>\n",
              "      <td>1668.0</td>\n",
              "    </tr>\n",
              "    <tr>\n",
              "      <th>ed</th>\n",
              "      <td>1000.0</td>\n",
              "      <td>2.671</td>\n",
              "      <td>1.222397</td>\n",
              "      <td>1.0</td>\n",
              "      <td>2.0</td>\n",
              "      <td>3.0</td>\n",
              "      <td>4.0</td>\n",
              "      <td>5.0</td>\n",
              "    </tr>\n",
              "    <tr>\n",
              "      <th>employ</th>\n",
              "      <td>1000.0</td>\n",
              "      <td>10.987</td>\n",
              "      <td>10.082087</td>\n",
              "      <td>0.0</td>\n",
              "      <td>3.0</td>\n",
              "      <td>8.0</td>\n",
              "      <td>17.0</td>\n",
              "      <td>47.0</td>\n",
              "    </tr>\n",
              "    <tr>\n",
              "      <th>retire</th>\n",
              "      <td>1000.0</td>\n",
              "      <td>0.047</td>\n",
              "      <td>0.211745</td>\n",
              "      <td>0.0</td>\n",
              "      <td>0.0</td>\n",
              "      <td>0.0</td>\n",
              "      <td>0.0</td>\n",
              "      <td>1.0</td>\n",
              "    </tr>\n",
              "    <tr>\n",
              "      <th>gender</th>\n",
              "      <td>1000.0</td>\n",
              "      <td>0.517</td>\n",
              "      <td>0.499961</td>\n",
              "      <td>0.0</td>\n",
              "      <td>0.0</td>\n",
              "      <td>1.0</td>\n",
              "      <td>1.0</td>\n",
              "      <td>1.0</td>\n",
              "    </tr>\n",
              "    <tr>\n",
              "      <th>reside</th>\n",
              "      <td>1000.0</td>\n",
              "      <td>2.331</td>\n",
              "      <td>1.435793</td>\n",
              "      <td>1.0</td>\n",
              "      <td>1.0</td>\n",
              "      <td>2.0</td>\n",
              "      <td>3.0</td>\n",
              "      <td>8.0</td>\n",
              "    </tr>\n",
              "    <tr>\n",
              "      <th>custcat</th>\n",
              "      <td>1000.0</td>\n",
              "      <td>2.487</td>\n",
              "      <td>1.120306</td>\n",
              "      <td>1.0</td>\n",
              "      <td>1.0</td>\n",
              "      <td>3.0</td>\n",
              "      <td>3.0</td>\n",
              "      <td>4.0</td>\n",
              "    </tr>\n",
              "  </tbody>\n",
              "</table>\n",
              "</div>\n",
              "      <button class=\"colab-df-convert\" onclick=\"convertToInteractive('df-a4522e3a-7487-4c6a-93ae-2e496fbdfb9f')\"\n",
              "              title=\"Convert this dataframe to an interactive table.\"\n",
              "              style=\"display:none;\">\n",
              "        \n",
              "  <svg xmlns=\"http://www.w3.org/2000/svg\" height=\"24px\"viewBox=\"0 0 24 24\"\n",
              "       width=\"24px\">\n",
              "    <path d=\"M0 0h24v24H0V0z\" fill=\"none\"/>\n",
              "    <path d=\"M18.56 5.44l.94 2.06.94-2.06 2.06-.94-2.06-.94-.94-2.06-.94 2.06-2.06.94zm-11 1L8.5 8.5l.94-2.06 2.06-.94-2.06-.94L8.5 2.5l-.94 2.06-2.06.94zm10 10l.94 2.06.94-2.06 2.06-.94-2.06-.94-.94-2.06-.94 2.06-2.06.94z\"/><path d=\"M17.41 7.96l-1.37-1.37c-.4-.4-.92-.59-1.43-.59-.52 0-1.04.2-1.43.59L10.3 9.45l-7.72 7.72c-.78.78-.78 2.05 0 2.83L4 21.41c.39.39.9.59 1.41.59.51 0 1.02-.2 1.41-.59l7.78-7.78 2.81-2.81c.8-.78.8-2.07 0-2.86zM5.41 20L4 18.59l7.72-7.72 1.47 1.35L5.41 20z\"/>\n",
              "  </svg>\n",
              "      </button>\n",
              "      \n",
              "  <style>\n",
              "    .colab-df-container {\n",
              "      display:flex;\n",
              "      flex-wrap:wrap;\n",
              "      gap: 12px;\n",
              "    }\n",
              "\n",
              "    .colab-df-convert {\n",
              "      background-color: #E8F0FE;\n",
              "      border: none;\n",
              "      border-radius: 50%;\n",
              "      cursor: pointer;\n",
              "      display: none;\n",
              "      fill: #1967D2;\n",
              "      height: 32px;\n",
              "      padding: 0 0 0 0;\n",
              "      width: 32px;\n",
              "    }\n",
              "\n",
              "    .colab-df-convert:hover {\n",
              "      background-color: #E2EBFA;\n",
              "      box-shadow: 0px 1px 2px rgba(60, 64, 67, 0.3), 0px 1px 3px 1px rgba(60, 64, 67, 0.15);\n",
              "      fill: #174EA6;\n",
              "    }\n",
              "\n",
              "    [theme=dark] .colab-df-convert {\n",
              "      background-color: #3B4455;\n",
              "      fill: #D2E3FC;\n",
              "    }\n",
              "\n",
              "    [theme=dark] .colab-df-convert:hover {\n",
              "      background-color: #434B5C;\n",
              "      box-shadow: 0px 1px 3px 1px rgba(0, 0, 0, 0.15);\n",
              "      filter: drop-shadow(0px 1px 2px rgba(0, 0, 0, 0.3));\n",
              "      fill: #FFFFFF;\n",
              "    }\n",
              "  </style>\n",
              "\n",
              "      <script>\n",
              "        const buttonEl =\n",
              "          document.querySelector('#df-a4522e3a-7487-4c6a-93ae-2e496fbdfb9f button.colab-df-convert');\n",
              "        buttonEl.style.display =\n",
              "          google.colab.kernel.accessAllowed ? 'block' : 'none';\n",
              "\n",
              "        async function convertToInteractive(key) {\n",
              "          const element = document.querySelector('#df-a4522e3a-7487-4c6a-93ae-2e496fbdfb9f');\n",
              "          const dataTable =\n",
              "            await google.colab.kernel.invokeFunction('convertToInteractive',\n",
              "                                                     [key], {});\n",
              "          if (!dataTable) return;\n",
              "\n",
              "          const docLinkHtml = 'Like what you see? Visit the ' +\n",
              "            '<a target=\"_blank\" href=https://colab.research.google.com/notebooks/data_table.ipynb>data table notebook</a>'\n",
              "            + ' to learn more about interactive tables.';\n",
              "          element.innerHTML = '';\n",
              "          dataTable['output_type'] = 'display_data';\n",
              "          await google.colab.output.renderOutput(dataTable, element);\n",
              "          const docLink = document.createElement('div');\n",
              "          docLink.innerHTML = docLinkHtml;\n",
              "          element.appendChild(docLink);\n",
              "        }\n",
              "      </script>\n",
              "    </div>\n",
              "  </div>\n",
              "  "
            ]
          },
          "metadata": {},
          "execution_count": 7
        }
      ]
    },
    {
      "cell_type": "code",
      "source": [
        "x = df.iloc[:,:-1]"
      ],
      "metadata": {
        "id": "s7GlokwV9RY2"
      },
      "execution_count": 8,
      "outputs": []
    },
    {
      "cell_type": "code",
      "source": [
        "x.head()"
      ],
      "metadata": {
        "colab": {
          "base_uri": "https://localhost:8080/",
          "height": 206
        },
        "id": "pHAHN5vg_wcZ",
        "outputId": "7863c38a-4673-4e2f-f5ed-ee3e140b1e4f"
      },
      "execution_count": 9,
      "outputs": [
        {
          "output_type": "execute_result",
          "data": {
            "text/plain": [
              "   region  tenure  age  marital  address  income  ed  employ  retire  gender  \\\n",
              "0       2      13   44        1        9    64.0   4       5     0.0       0   \n",
              "1       3      11   33        1        7   136.0   5       5     0.0       0   \n",
              "2       3      68   52        1       24   116.0   1      29     0.0       1   \n",
              "3       2      33   33        0       12    33.0   2       0     0.0       1   \n",
              "4       2      23   30        1        9    30.0   1       2     0.0       0   \n",
              "\n",
              "   reside  \n",
              "0       2  \n",
              "1       6  \n",
              "2       2  \n",
              "3       1  \n",
              "4       4  "
            ],
            "text/html": [
              "\n",
              "  <div id=\"df-ea431b7d-5e00-48e2-918e-0d1778961de9\">\n",
              "    <div class=\"colab-df-container\">\n",
              "      <div>\n",
              "<style scoped>\n",
              "    .dataframe tbody tr th:only-of-type {\n",
              "        vertical-align: middle;\n",
              "    }\n",
              "\n",
              "    .dataframe tbody tr th {\n",
              "        vertical-align: top;\n",
              "    }\n",
              "\n",
              "    .dataframe thead th {\n",
              "        text-align: right;\n",
              "    }\n",
              "</style>\n",
              "<table border=\"1\" class=\"dataframe\">\n",
              "  <thead>\n",
              "    <tr style=\"text-align: right;\">\n",
              "      <th></th>\n",
              "      <th>region</th>\n",
              "      <th>tenure</th>\n",
              "      <th>age</th>\n",
              "      <th>marital</th>\n",
              "      <th>address</th>\n",
              "      <th>income</th>\n",
              "      <th>ed</th>\n",
              "      <th>employ</th>\n",
              "      <th>retire</th>\n",
              "      <th>gender</th>\n",
              "      <th>reside</th>\n",
              "    </tr>\n",
              "  </thead>\n",
              "  <tbody>\n",
              "    <tr>\n",
              "      <th>0</th>\n",
              "      <td>2</td>\n",
              "      <td>13</td>\n",
              "      <td>44</td>\n",
              "      <td>1</td>\n",
              "      <td>9</td>\n",
              "      <td>64.0</td>\n",
              "      <td>4</td>\n",
              "      <td>5</td>\n",
              "      <td>0.0</td>\n",
              "      <td>0</td>\n",
              "      <td>2</td>\n",
              "    </tr>\n",
              "    <tr>\n",
              "      <th>1</th>\n",
              "      <td>3</td>\n",
              "      <td>11</td>\n",
              "      <td>33</td>\n",
              "      <td>1</td>\n",
              "      <td>7</td>\n",
              "      <td>136.0</td>\n",
              "      <td>5</td>\n",
              "      <td>5</td>\n",
              "      <td>0.0</td>\n",
              "      <td>0</td>\n",
              "      <td>6</td>\n",
              "    </tr>\n",
              "    <tr>\n",
              "      <th>2</th>\n",
              "      <td>3</td>\n",
              "      <td>68</td>\n",
              "      <td>52</td>\n",
              "      <td>1</td>\n",
              "      <td>24</td>\n",
              "      <td>116.0</td>\n",
              "      <td>1</td>\n",
              "      <td>29</td>\n",
              "      <td>0.0</td>\n",
              "      <td>1</td>\n",
              "      <td>2</td>\n",
              "    </tr>\n",
              "    <tr>\n",
              "      <th>3</th>\n",
              "      <td>2</td>\n",
              "      <td>33</td>\n",
              "      <td>33</td>\n",
              "      <td>0</td>\n",
              "      <td>12</td>\n",
              "      <td>33.0</td>\n",
              "      <td>2</td>\n",
              "      <td>0</td>\n",
              "      <td>0.0</td>\n",
              "      <td>1</td>\n",
              "      <td>1</td>\n",
              "    </tr>\n",
              "    <tr>\n",
              "      <th>4</th>\n",
              "      <td>2</td>\n",
              "      <td>23</td>\n",
              "      <td>30</td>\n",
              "      <td>1</td>\n",
              "      <td>9</td>\n",
              "      <td>30.0</td>\n",
              "      <td>1</td>\n",
              "      <td>2</td>\n",
              "      <td>0.0</td>\n",
              "      <td>0</td>\n",
              "      <td>4</td>\n",
              "    </tr>\n",
              "  </tbody>\n",
              "</table>\n",
              "</div>\n",
              "      <button class=\"colab-df-convert\" onclick=\"convertToInteractive('df-ea431b7d-5e00-48e2-918e-0d1778961de9')\"\n",
              "              title=\"Convert this dataframe to an interactive table.\"\n",
              "              style=\"display:none;\">\n",
              "        \n",
              "  <svg xmlns=\"http://www.w3.org/2000/svg\" height=\"24px\"viewBox=\"0 0 24 24\"\n",
              "       width=\"24px\">\n",
              "    <path d=\"M0 0h24v24H0V0z\" fill=\"none\"/>\n",
              "    <path d=\"M18.56 5.44l.94 2.06.94-2.06 2.06-.94-2.06-.94-.94-2.06-.94 2.06-2.06.94zm-11 1L8.5 8.5l.94-2.06 2.06-.94-2.06-.94L8.5 2.5l-.94 2.06-2.06.94zm10 10l.94 2.06.94-2.06 2.06-.94-2.06-.94-.94-2.06-.94 2.06-2.06.94z\"/><path d=\"M17.41 7.96l-1.37-1.37c-.4-.4-.92-.59-1.43-.59-.52 0-1.04.2-1.43.59L10.3 9.45l-7.72 7.72c-.78.78-.78 2.05 0 2.83L4 21.41c.39.39.9.59 1.41.59.51 0 1.02-.2 1.41-.59l7.78-7.78 2.81-2.81c.8-.78.8-2.07 0-2.86zM5.41 20L4 18.59l7.72-7.72 1.47 1.35L5.41 20z\"/>\n",
              "  </svg>\n",
              "      </button>\n",
              "      \n",
              "  <style>\n",
              "    .colab-df-container {\n",
              "      display:flex;\n",
              "      flex-wrap:wrap;\n",
              "      gap: 12px;\n",
              "    }\n",
              "\n",
              "    .colab-df-convert {\n",
              "      background-color: #E8F0FE;\n",
              "      border: none;\n",
              "      border-radius: 50%;\n",
              "      cursor: pointer;\n",
              "      display: none;\n",
              "      fill: #1967D2;\n",
              "      height: 32px;\n",
              "      padding: 0 0 0 0;\n",
              "      width: 32px;\n",
              "    }\n",
              "\n",
              "    .colab-df-convert:hover {\n",
              "      background-color: #E2EBFA;\n",
              "      box-shadow: 0px 1px 2px rgba(60, 64, 67, 0.3), 0px 1px 3px 1px rgba(60, 64, 67, 0.15);\n",
              "      fill: #174EA6;\n",
              "    }\n",
              "\n",
              "    [theme=dark] .colab-df-convert {\n",
              "      background-color: #3B4455;\n",
              "      fill: #D2E3FC;\n",
              "    }\n",
              "\n",
              "    [theme=dark] .colab-df-convert:hover {\n",
              "      background-color: #434B5C;\n",
              "      box-shadow: 0px 1px 3px 1px rgba(0, 0, 0, 0.15);\n",
              "      filter: drop-shadow(0px 1px 2px rgba(0, 0, 0, 0.3));\n",
              "      fill: #FFFFFF;\n",
              "    }\n",
              "  </style>\n",
              "\n",
              "      <script>\n",
              "        const buttonEl =\n",
              "          document.querySelector('#df-ea431b7d-5e00-48e2-918e-0d1778961de9 button.colab-df-convert');\n",
              "        buttonEl.style.display =\n",
              "          google.colab.kernel.accessAllowed ? 'block' : 'none';\n",
              "\n",
              "        async function convertToInteractive(key) {\n",
              "          const element = document.querySelector('#df-ea431b7d-5e00-48e2-918e-0d1778961de9');\n",
              "          const dataTable =\n",
              "            await google.colab.kernel.invokeFunction('convertToInteractive',\n",
              "                                                     [key], {});\n",
              "          if (!dataTable) return;\n",
              "\n",
              "          const docLinkHtml = 'Like what you see? Visit the ' +\n",
              "            '<a target=\"_blank\" href=https://colab.research.google.com/notebooks/data_table.ipynb>data table notebook</a>'\n",
              "            + ' to learn more about interactive tables.';\n",
              "          element.innerHTML = '';\n",
              "          dataTable['output_type'] = 'display_data';\n",
              "          await google.colab.output.renderOutput(dataTable, element);\n",
              "          const docLink = document.createElement('div');\n",
              "          docLink.innerHTML = docLinkHtml;\n",
              "          element.appendChild(docLink);\n",
              "        }\n",
              "      </script>\n",
              "    </div>\n",
              "  </div>\n",
              "  "
            ]
          },
          "metadata": {},
          "execution_count": 9
        }
      ]
    },
    {
      "cell_type": "code",
      "source": [
        "y = df.iloc[:,-1]"
      ],
      "metadata": {
        "id": "wf_eW7-e9d50"
      },
      "execution_count": 10,
      "outputs": []
    },
    {
      "cell_type": "code",
      "source": [
        "y.head()"
      ],
      "metadata": {
        "colab": {
          "base_uri": "https://localhost:8080/"
        },
        "id": "wxPMSDZg9ktc",
        "outputId": "b9ba73a1-c127-47e6-e90f-5e622d1e1904"
      },
      "execution_count": 11,
      "outputs": [
        {
          "output_type": "execute_result",
          "data": {
            "text/plain": [
              "0    1\n",
              "1    4\n",
              "2    3\n",
              "3    1\n",
              "4    3\n",
              "Name: custcat, dtype: int64"
            ]
          },
          "metadata": {},
          "execution_count": 11
        }
      ]
    },
    {
      "cell_type": "code",
      "source": [
        "x_train, x_test, y_train, y_test = train_test_split(x, y, test_size=.3, random_state=1)"
      ],
      "metadata": {
        "id": "9YBEyU6R9lor"
      },
      "execution_count": 13,
      "outputs": []
    },
    {
      "cell_type": "code",
      "source": [
        "x_train.head()"
      ],
      "metadata": {
        "colab": {
          "base_uri": "https://localhost:8080/",
          "height": 206
        },
        "id": "6L1vD8hC9pwr",
        "outputId": "bc3d72dd-5629-4759-c59a-02afd784c9a5"
      },
      "execution_count": 14,
      "outputs": [
        {
          "output_type": "execute_result",
          "data": {
            "text/plain": [
              "     region  tenure  age  marital  address  income  ed  employ  retire  \\\n",
              "731       1       8   42        1        2   129.0   4      17     0.0   \n",
              "716       1      65   70        1        9   115.0   2      39     1.0   \n",
              "640       2      20   38        0       19   237.0   4      13     0.0   \n",
              "804       3      33   30        1        5    22.0   1       0     0.0   \n",
              "737       1      15   38        1       11    46.0   5      11     0.0   \n",
              "\n",
              "     gender  reside  \n",
              "731       1       3  \n",
              "716       1       2  \n",
              "640       0       1  \n",
              "804       0       2  \n",
              "737       0       3  "
            ],
            "text/html": [
              "\n",
              "  <div id=\"df-81da4b40-67b9-4ed9-9531-1709038ef072\">\n",
              "    <div class=\"colab-df-container\">\n",
              "      <div>\n",
              "<style scoped>\n",
              "    .dataframe tbody tr th:only-of-type {\n",
              "        vertical-align: middle;\n",
              "    }\n",
              "\n",
              "    .dataframe tbody tr th {\n",
              "        vertical-align: top;\n",
              "    }\n",
              "\n",
              "    .dataframe thead th {\n",
              "        text-align: right;\n",
              "    }\n",
              "</style>\n",
              "<table border=\"1\" class=\"dataframe\">\n",
              "  <thead>\n",
              "    <tr style=\"text-align: right;\">\n",
              "      <th></th>\n",
              "      <th>region</th>\n",
              "      <th>tenure</th>\n",
              "      <th>age</th>\n",
              "      <th>marital</th>\n",
              "      <th>address</th>\n",
              "      <th>income</th>\n",
              "      <th>ed</th>\n",
              "      <th>employ</th>\n",
              "      <th>retire</th>\n",
              "      <th>gender</th>\n",
              "      <th>reside</th>\n",
              "    </tr>\n",
              "  </thead>\n",
              "  <tbody>\n",
              "    <tr>\n",
              "      <th>731</th>\n",
              "      <td>1</td>\n",
              "      <td>8</td>\n",
              "      <td>42</td>\n",
              "      <td>1</td>\n",
              "      <td>2</td>\n",
              "      <td>129.0</td>\n",
              "      <td>4</td>\n",
              "      <td>17</td>\n",
              "      <td>0.0</td>\n",
              "      <td>1</td>\n",
              "      <td>3</td>\n",
              "    </tr>\n",
              "    <tr>\n",
              "      <th>716</th>\n",
              "      <td>1</td>\n",
              "      <td>65</td>\n",
              "      <td>70</td>\n",
              "      <td>1</td>\n",
              "      <td>9</td>\n",
              "      <td>115.0</td>\n",
              "      <td>2</td>\n",
              "      <td>39</td>\n",
              "      <td>1.0</td>\n",
              "      <td>1</td>\n",
              "      <td>2</td>\n",
              "    </tr>\n",
              "    <tr>\n",
              "      <th>640</th>\n",
              "      <td>2</td>\n",
              "      <td>20</td>\n",
              "      <td>38</td>\n",
              "      <td>0</td>\n",
              "      <td>19</td>\n",
              "      <td>237.0</td>\n",
              "      <td>4</td>\n",
              "      <td>13</td>\n",
              "      <td>0.0</td>\n",
              "      <td>0</td>\n",
              "      <td>1</td>\n",
              "    </tr>\n",
              "    <tr>\n",
              "      <th>804</th>\n",
              "      <td>3</td>\n",
              "      <td>33</td>\n",
              "      <td>30</td>\n",
              "      <td>1</td>\n",
              "      <td>5</td>\n",
              "      <td>22.0</td>\n",
              "      <td>1</td>\n",
              "      <td>0</td>\n",
              "      <td>0.0</td>\n",
              "      <td>0</td>\n",
              "      <td>2</td>\n",
              "    </tr>\n",
              "    <tr>\n",
              "      <th>737</th>\n",
              "      <td>1</td>\n",
              "      <td>15</td>\n",
              "      <td>38</td>\n",
              "      <td>1</td>\n",
              "      <td>11</td>\n",
              "      <td>46.0</td>\n",
              "      <td>5</td>\n",
              "      <td>11</td>\n",
              "      <td>0.0</td>\n",
              "      <td>0</td>\n",
              "      <td>3</td>\n",
              "    </tr>\n",
              "  </tbody>\n",
              "</table>\n",
              "</div>\n",
              "      <button class=\"colab-df-convert\" onclick=\"convertToInteractive('df-81da4b40-67b9-4ed9-9531-1709038ef072')\"\n",
              "              title=\"Convert this dataframe to an interactive table.\"\n",
              "              style=\"display:none;\">\n",
              "        \n",
              "  <svg xmlns=\"http://www.w3.org/2000/svg\" height=\"24px\"viewBox=\"0 0 24 24\"\n",
              "       width=\"24px\">\n",
              "    <path d=\"M0 0h24v24H0V0z\" fill=\"none\"/>\n",
              "    <path d=\"M18.56 5.44l.94 2.06.94-2.06 2.06-.94-2.06-.94-.94-2.06-.94 2.06-2.06.94zm-11 1L8.5 8.5l.94-2.06 2.06-.94-2.06-.94L8.5 2.5l-.94 2.06-2.06.94zm10 10l.94 2.06.94-2.06 2.06-.94-2.06-.94-.94-2.06-.94 2.06-2.06.94z\"/><path d=\"M17.41 7.96l-1.37-1.37c-.4-.4-.92-.59-1.43-.59-.52 0-1.04.2-1.43.59L10.3 9.45l-7.72 7.72c-.78.78-.78 2.05 0 2.83L4 21.41c.39.39.9.59 1.41.59.51 0 1.02-.2 1.41-.59l7.78-7.78 2.81-2.81c.8-.78.8-2.07 0-2.86zM5.41 20L4 18.59l7.72-7.72 1.47 1.35L5.41 20z\"/>\n",
              "  </svg>\n",
              "      </button>\n",
              "      \n",
              "  <style>\n",
              "    .colab-df-container {\n",
              "      display:flex;\n",
              "      flex-wrap:wrap;\n",
              "      gap: 12px;\n",
              "    }\n",
              "\n",
              "    .colab-df-convert {\n",
              "      background-color: #E8F0FE;\n",
              "      border: none;\n",
              "      border-radius: 50%;\n",
              "      cursor: pointer;\n",
              "      display: none;\n",
              "      fill: #1967D2;\n",
              "      height: 32px;\n",
              "      padding: 0 0 0 0;\n",
              "      width: 32px;\n",
              "    }\n",
              "\n",
              "    .colab-df-convert:hover {\n",
              "      background-color: #E2EBFA;\n",
              "      box-shadow: 0px 1px 2px rgba(60, 64, 67, 0.3), 0px 1px 3px 1px rgba(60, 64, 67, 0.15);\n",
              "      fill: #174EA6;\n",
              "    }\n",
              "\n",
              "    [theme=dark] .colab-df-convert {\n",
              "      background-color: #3B4455;\n",
              "      fill: #D2E3FC;\n",
              "    }\n",
              "\n",
              "    [theme=dark] .colab-df-convert:hover {\n",
              "      background-color: #434B5C;\n",
              "      box-shadow: 0px 1px 3px 1px rgba(0, 0, 0, 0.15);\n",
              "      filter: drop-shadow(0px 1px 2px rgba(0, 0, 0, 0.3));\n",
              "      fill: #FFFFFF;\n",
              "    }\n",
              "  </style>\n",
              "\n",
              "      <script>\n",
              "        const buttonEl =\n",
              "          document.querySelector('#df-81da4b40-67b9-4ed9-9531-1709038ef072 button.colab-df-convert');\n",
              "        buttonEl.style.display =\n",
              "          google.colab.kernel.accessAllowed ? 'block' : 'none';\n",
              "\n",
              "        async function convertToInteractive(key) {\n",
              "          const element = document.querySelector('#df-81da4b40-67b9-4ed9-9531-1709038ef072');\n",
              "          const dataTable =\n",
              "            await google.colab.kernel.invokeFunction('convertToInteractive',\n",
              "                                                     [key], {});\n",
              "          if (!dataTable) return;\n",
              "\n",
              "          const docLinkHtml = 'Like what you see? Visit the ' +\n",
              "            '<a target=\"_blank\" href=https://colab.research.google.com/notebooks/data_table.ipynb>data table notebook</a>'\n",
              "            + ' to learn more about interactive tables.';\n",
              "          element.innerHTML = '';\n",
              "          dataTable['output_type'] = 'display_data';\n",
              "          await google.colab.output.renderOutput(dataTable, element);\n",
              "          const docLink = document.createElement('div');\n",
              "          docLink.innerHTML = docLinkHtml;\n",
              "          element.appendChild(docLink);\n",
              "        }\n",
              "      </script>\n",
              "    </div>\n",
              "  </div>\n",
              "  "
            ]
          },
          "metadata": {},
          "execution_count": 14
        }
      ]
    },
    {
      "cell_type": "code",
      "source": [
        "x_train.size"
      ],
      "metadata": {
        "colab": {
          "base_uri": "https://localhost:8080/"
        },
        "id": "uO5ynipm7vEE",
        "outputId": "5dda1da6-9dce-424e-c15c-8b99281c2de5"
      },
      "execution_count": 38,
      "outputs": [
        {
          "output_type": "execute_result",
          "data": {
            "text/plain": [
              "7700"
            ]
          },
          "metadata": {},
          "execution_count": 38
        }
      ]
    },
    {
      "cell_type": "code",
      "source": [
        "x_test.head()"
      ],
      "metadata": {
        "colab": {
          "base_uri": "https://localhost:8080/",
          "height": 206
        },
        "id": "B9a7HcNY9tol",
        "outputId": "5b2cd53d-e957-4350-c79a-25d119097cf5"
      },
      "execution_count": 15,
      "outputs": [
        {
          "output_type": "execute_result",
          "data": {
            "text/plain": [
              "     region  tenure  age  marital  address  income  ed  employ  retire  \\\n",
              "507       2       2   28        0        7    46.0   3       0     0.0   \n",
              "818       3       5   35        1        9    59.0   3       8     0.0   \n",
              "452       2      10   56        0       26     9.0   2       6     1.0   \n",
              "368       3      63   56        0       17    71.0   3      18     0.0   \n",
              "242       3      61   76        0       39    15.0   1      29     1.0   \n",
              "\n",
              "     gender  reside  \n",
              "507       1       1  \n",
              "818       1       5  \n",
              "452       0       2  \n",
              "368       1       1  \n",
              "242       0       1  "
            ],
            "text/html": [
              "\n",
              "  <div id=\"df-161db416-e4a7-4cf2-aa53-2e8326596eea\">\n",
              "    <div class=\"colab-df-container\">\n",
              "      <div>\n",
              "<style scoped>\n",
              "    .dataframe tbody tr th:only-of-type {\n",
              "        vertical-align: middle;\n",
              "    }\n",
              "\n",
              "    .dataframe tbody tr th {\n",
              "        vertical-align: top;\n",
              "    }\n",
              "\n",
              "    .dataframe thead th {\n",
              "        text-align: right;\n",
              "    }\n",
              "</style>\n",
              "<table border=\"1\" class=\"dataframe\">\n",
              "  <thead>\n",
              "    <tr style=\"text-align: right;\">\n",
              "      <th></th>\n",
              "      <th>region</th>\n",
              "      <th>tenure</th>\n",
              "      <th>age</th>\n",
              "      <th>marital</th>\n",
              "      <th>address</th>\n",
              "      <th>income</th>\n",
              "      <th>ed</th>\n",
              "      <th>employ</th>\n",
              "      <th>retire</th>\n",
              "      <th>gender</th>\n",
              "      <th>reside</th>\n",
              "    </tr>\n",
              "  </thead>\n",
              "  <tbody>\n",
              "    <tr>\n",
              "      <th>507</th>\n",
              "      <td>2</td>\n",
              "      <td>2</td>\n",
              "      <td>28</td>\n",
              "      <td>0</td>\n",
              "      <td>7</td>\n",
              "      <td>46.0</td>\n",
              "      <td>3</td>\n",
              "      <td>0</td>\n",
              "      <td>0.0</td>\n",
              "      <td>1</td>\n",
              "      <td>1</td>\n",
              "    </tr>\n",
              "    <tr>\n",
              "      <th>818</th>\n",
              "      <td>3</td>\n",
              "      <td>5</td>\n",
              "      <td>35</td>\n",
              "      <td>1</td>\n",
              "      <td>9</td>\n",
              "      <td>59.0</td>\n",
              "      <td>3</td>\n",
              "      <td>8</td>\n",
              "      <td>0.0</td>\n",
              "      <td>1</td>\n",
              "      <td>5</td>\n",
              "    </tr>\n",
              "    <tr>\n",
              "      <th>452</th>\n",
              "      <td>2</td>\n",
              "      <td>10</td>\n",
              "      <td>56</td>\n",
              "      <td>0</td>\n",
              "      <td>26</td>\n",
              "      <td>9.0</td>\n",
              "      <td>2</td>\n",
              "      <td>6</td>\n",
              "      <td>1.0</td>\n",
              "      <td>0</td>\n",
              "      <td>2</td>\n",
              "    </tr>\n",
              "    <tr>\n",
              "      <th>368</th>\n",
              "      <td>3</td>\n",
              "      <td>63</td>\n",
              "      <td>56</td>\n",
              "      <td>0</td>\n",
              "      <td>17</td>\n",
              "      <td>71.0</td>\n",
              "      <td>3</td>\n",
              "      <td>18</td>\n",
              "      <td>0.0</td>\n",
              "      <td>1</td>\n",
              "      <td>1</td>\n",
              "    </tr>\n",
              "    <tr>\n",
              "      <th>242</th>\n",
              "      <td>3</td>\n",
              "      <td>61</td>\n",
              "      <td>76</td>\n",
              "      <td>0</td>\n",
              "      <td>39</td>\n",
              "      <td>15.0</td>\n",
              "      <td>1</td>\n",
              "      <td>29</td>\n",
              "      <td>1.0</td>\n",
              "      <td>0</td>\n",
              "      <td>1</td>\n",
              "    </tr>\n",
              "  </tbody>\n",
              "</table>\n",
              "</div>\n",
              "      <button class=\"colab-df-convert\" onclick=\"convertToInteractive('df-161db416-e4a7-4cf2-aa53-2e8326596eea')\"\n",
              "              title=\"Convert this dataframe to an interactive table.\"\n",
              "              style=\"display:none;\">\n",
              "        \n",
              "  <svg xmlns=\"http://www.w3.org/2000/svg\" height=\"24px\"viewBox=\"0 0 24 24\"\n",
              "       width=\"24px\">\n",
              "    <path d=\"M0 0h24v24H0V0z\" fill=\"none\"/>\n",
              "    <path d=\"M18.56 5.44l.94 2.06.94-2.06 2.06-.94-2.06-.94-.94-2.06-.94 2.06-2.06.94zm-11 1L8.5 8.5l.94-2.06 2.06-.94-2.06-.94L8.5 2.5l-.94 2.06-2.06.94zm10 10l.94 2.06.94-2.06 2.06-.94-2.06-.94-.94-2.06-.94 2.06-2.06.94z\"/><path d=\"M17.41 7.96l-1.37-1.37c-.4-.4-.92-.59-1.43-.59-.52 0-1.04.2-1.43.59L10.3 9.45l-7.72 7.72c-.78.78-.78 2.05 0 2.83L4 21.41c.39.39.9.59 1.41.59.51 0 1.02-.2 1.41-.59l7.78-7.78 2.81-2.81c.8-.78.8-2.07 0-2.86zM5.41 20L4 18.59l7.72-7.72 1.47 1.35L5.41 20z\"/>\n",
              "  </svg>\n",
              "      </button>\n",
              "      \n",
              "  <style>\n",
              "    .colab-df-container {\n",
              "      display:flex;\n",
              "      flex-wrap:wrap;\n",
              "      gap: 12px;\n",
              "    }\n",
              "\n",
              "    .colab-df-convert {\n",
              "      background-color: #E8F0FE;\n",
              "      border: none;\n",
              "      border-radius: 50%;\n",
              "      cursor: pointer;\n",
              "      display: none;\n",
              "      fill: #1967D2;\n",
              "      height: 32px;\n",
              "      padding: 0 0 0 0;\n",
              "      width: 32px;\n",
              "    }\n",
              "\n",
              "    .colab-df-convert:hover {\n",
              "      background-color: #E2EBFA;\n",
              "      box-shadow: 0px 1px 2px rgba(60, 64, 67, 0.3), 0px 1px 3px 1px rgba(60, 64, 67, 0.15);\n",
              "      fill: #174EA6;\n",
              "    }\n",
              "\n",
              "    [theme=dark] .colab-df-convert {\n",
              "      background-color: #3B4455;\n",
              "      fill: #D2E3FC;\n",
              "    }\n",
              "\n",
              "    [theme=dark] .colab-df-convert:hover {\n",
              "      background-color: #434B5C;\n",
              "      box-shadow: 0px 1px 3px 1px rgba(0, 0, 0, 0.15);\n",
              "      filter: drop-shadow(0px 1px 2px rgba(0, 0, 0, 0.3));\n",
              "      fill: #FFFFFF;\n",
              "    }\n",
              "  </style>\n",
              "\n",
              "      <script>\n",
              "        const buttonEl =\n",
              "          document.querySelector('#df-161db416-e4a7-4cf2-aa53-2e8326596eea button.colab-df-convert');\n",
              "        buttonEl.style.display =\n",
              "          google.colab.kernel.accessAllowed ? 'block' : 'none';\n",
              "\n",
              "        async function convertToInteractive(key) {\n",
              "          const element = document.querySelector('#df-161db416-e4a7-4cf2-aa53-2e8326596eea');\n",
              "          const dataTable =\n",
              "            await google.colab.kernel.invokeFunction('convertToInteractive',\n",
              "                                                     [key], {});\n",
              "          if (!dataTable) return;\n",
              "\n",
              "          const docLinkHtml = 'Like what you see? Visit the ' +\n",
              "            '<a target=\"_blank\" href=https://colab.research.google.com/notebooks/data_table.ipynb>data table notebook</a>'\n",
              "            + ' to learn more about interactive tables.';\n",
              "          element.innerHTML = '';\n",
              "          dataTable['output_type'] = 'display_data';\n",
              "          await google.colab.output.renderOutput(dataTable, element);\n",
              "          const docLink = document.createElement('div');\n",
              "          docLink.innerHTML = docLinkHtml;\n",
              "          element.appendChild(docLink);\n",
              "        }\n",
              "      </script>\n",
              "    </div>\n",
              "  </div>\n",
              "  "
            ]
          },
          "metadata": {},
          "execution_count": 15
        }
      ]
    },
    {
      "cell_type": "code",
      "source": [
        "y_train.head()"
      ],
      "metadata": {
        "colab": {
          "base_uri": "https://localhost:8080/"
        },
        "id": "NDQY0JLz9vm8",
        "outputId": "fa198b39-caff-4ab2-9373-c8a70d114780"
      },
      "execution_count": 16,
      "outputs": [
        {
          "output_type": "execute_result",
          "data": {
            "text/plain": [
              "731    1\n",
              "716    4\n",
              "640    4\n",
              "804    3\n",
              "737    1\n",
              "Name: custcat, dtype: int64"
            ]
          },
          "metadata": {},
          "execution_count": 16
        }
      ]
    },
    {
      "cell_type": "code",
      "source": [
        "y_test.head()"
      ],
      "metadata": {
        "colab": {
          "base_uri": "https://localhost:8080/"
        },
        "id": "gMpckgKA9xMM",
        "outputId": "f3b9e60c-f571-4535-8487-92ddcdeb6e73"
      },
      "execution_count": 17,
      "outputs": [
        {
          "output_type": "execute_result",
          "data": {
            "text/plain": [
              "507    4\n",
              "818    4\n",
              "452    1\n",
              "368    1\n",
              "242    3\n",
              "Name: custcat, dtype: int64"
            ]
          },
          "metadata": {},
          "execution_count": 17
        }
      ]
    },
    {
      "cell_type": "code",
      "source": [
        "scaler = StandardScaler()"
      ],
      "metadata": {
        "id": "-WIi4Z_9524y"
      },
      "execution_count": 18,
      "outputs": []
    },
    {
      "cell_type": "code",
      "source": [
        "scaler.fit(x_train)"
      ],
      "metadata": {
        "colab": {
          "base_uri": "https://localhost:8080/"
        },
        "id": "XrYBslCw53Eq",
        "outputId": "84c44f36-588e-4f1c-e3cf-dddc94d00cc6"
      },
      "execution_count": 25,
      "outputs": [
        {
          "output_type": "execute_result",
          "data": {
            "text/plain": [
              "StandardScaler()"
            ]
          },
          "metadata": {},
          "execution_count": 25
        }
      ]
    },
    {
      "cell_type": "code",
      "source": [
        "x_scl_train = scaler.transform(x_train)"
      ],
      "metadata": {
        "id": "oEU05xIS53kp"
      },
      "execution_count": 26,
      "outputs": []
    },
    {
      "cell_type": "code",
      "source": [
        "x_scl_train"
      ],
      "metadata": {
        "colab": {
          "base_uri": "https://localhost:8080/"
        },
        "id": "4FTx93bV7jq5",
        "outputId": "fb4278dc-1926-4e63-9cdc-e30db7c76ed6"
      },
      "execution_count": 34,
      "outputs": [
        {
          "output_type": "execute_result",
          "data": {
            "text/plain": [
              "array([[-1.21518236, -1.29475923,  0.01808631, ..., -0.23958675,\n",
              "         0.97182532,  0.48764622],\n",
              "       [-1.21518236,  1.35710121,  2.21989742, ...,  4.17385345,\n",
              "         0.97182532, -0.20615938],\n",
              "       [ 0.0105059 , -0.73647282, -0.29645814, ..., -0.23958675,\n",
              "        -1.02899151, -0.89996498],\n",
              "       ...,\n",
              "       [ 1.23619416, -1.43433083, -0.21782203, ..., -0.23958675,\n",
              "         0.97182532, -0.20615938],\n",
              "       [ 0.0105059 ,  0.7988148 ,  1.19762797, ..., -0.23958675,\n",
              "        -1.02899151, -0.89996498],\n",
              "       [-1.21518236,  0.3801    ,  1.19762797, ..., -0.23958675,\n",
              "        -1.02899151, -0.20615938]])"
            ]
          },
          "metadata": {},
          "execution_count": 34
        }
      ]
    },
    {
      "cell_type": "code",
      "source": [
        "x_scl_train.size"
      ],
      "metadata": {
        "colab": {
          "base_uri": "https://localhost:8080/"
        },
        "id": "6hXO9kB368F9",
        "outputId": "470dfe53-f0a3-486f-9854-d9a3fad6eb0b"
      },
      "execution_count": 31,
      "outputs": [
        {
          "output_type": "execute_result",
          "data": {
            "text/plain": [
              "7700"
            ]
          },
          "metadata": {},
          "execution_count": 31
        }
      ]
    },
    {
      "cell_type": "code",
      "source": [
        "x_scl_test = scaler.transform(x_test)"
      ],
      "metadata": {
        "id": "oWCbQT_P7VM2"
      },
      "execution_count": 33,
      "outputs": []
    },
    {
      "cell_type": "code",
      "source": [
        "x_scl_test"
      ],
      "metadata": {
        "colab": {
          "base_uri": "https://localhost:8080/"
        },
        "id": "gJIVXJwf7h-V",
        "outputId": "ca7a5b07-2c29-4392-b7ef-1e90aa02d38d"
      },
      "execution_count": 35,
      "outputs": [
        {
          "output_type": "execute_result",
          "data": {
            "text/plain": [
              "array([[ 0.0105059 , -1.57390243, -1.08281925, ..., -0.23958675,\n",
              "         0.97182532, -0.89996498],\n",
              "       [ 1.23619416, -1.43433083, -0.53236647, ..., -0.23958675,\n",
              "         0.97182532,  1.87525743],\n",
              "       [ 0.0105059 , -1.2017115 ,  1.11899186, ...,  4.17385345,\n",
              "        -1.02899151, -0.20615938],\n",
              "       ...,\n",
              "       [ 0.0105059 ,  0.93838641,  0.64717519, ..., -0.23958675,\n",
              "         0.97182532,  1.18145183],\n",
              "       [ 0.0105059 ,  0.47314773,  0.41126686, ..., -0.23958675,\n",
              "         0.97182532, -0.20615938],\n",
              "       [ 0.0105059 ,  0.28705226, -0.76827481, ..., -0.23958675,\n",
              "         0.97182532,  2.56906303]])"
            ]
          },
          "metadata": {},
          "execution_count": 35
        }
      ]
    },
    {
      "cell_type": "code",
      "source": [
        "x_scl_test.size"
      ],
      "metadata": {
        "colab": {
          "base_uri": "https://localhost:8080/"
        },
        "id": "SyjLIsB67nhw",
        "outputId": "9d581a49-90b6-4025-c217-10b5f6e9cfba"
      },
      "execution_count": 36,
      "outputs": [
        {
          "output_type": "execute_result",
          "data": {
            "text/plain": [
              "3300"
            ]
          },
          "metadata": {},
          "execution_count": 36
        }
      ]
    },
    {
      "cell_type": "code",
      "source": [
        "y_train.value_counts()"
      ],
      "metadata": {
        "colab": {
          "base_uri": "https://localhost:8080/"
        },
        "id": "PYoWkU529zKU",
        "outputId": "12dbfbd8-c14e-46ad-ad9a-cb2a7bea4d3f"
      },
      "execution_count": 39,
      "outputs": [
        {
          "output_type": "execute_result",
          "data": {
            "text/plain": [
              "3    201\n",
              "1    176\n",
              "4    165\n",
              "2    158\n",
              "Name: custcat, dtype: int64"
            ]
          },
          "metadata": {},
          "execution_count": 39
        }
      ]
    },
    {
      "cell_type": "code",
      "source": [
        "y_test.value_counts()"
      ],
      "metadata": {
        "colab": {
          "base_uri": "https://localhost:8080/"
        },
        "id": "GLdX-kru8mkQ",
        "outputId": "c1e6502d-96a2-41cb-f043-6c4d4ee0ed50"
      },
      "execution_count": 40,
      "outputs": [
        {
          "output_type": "execute_result",
          "data": {
            "text/plain": [
              "1    90\n",
              "3    80\n",
              "4    71\n",
              "2    59\n",
              "Name: custcat, dtype: int64"
            ]
          },
          "metadata": {},
          "execution_count": 40
        }
      ]
    },
    {
      "cell_type": "code",
      "source": [
        "knn = KNeighborsClassifier()"
      ],
      "metadata": {
        "id": "qoTxJdDW99aD"
      },
      "execution_count": 41,
      "outputs": []
    },
    {
      "cell_type": "code",
      "source": [
        "knn.fit(x_scl_train, y_train)"
      ],
      "metadata": {
        "colab": {
          "base_uri": "https://localhost:8080/"
        },
        "id": "FCWEzQxQ-msc",
        "outputId": "7eb70e2b-f388-41d2-9965-477edb9a7df7"
      },
      "execution_count": 43,
      "outputs": [
        {
          "output_type": "execute_result",
          "data": {
            "text/plain": [
              "KNeighborsClassifier()"
            ]
          },
          "metadata": {},
          "execution_count": 43
        }
      ]
    },
    {
      "cell_type": "code",
      "source": [
        "y_pred_train = knn.predict(x_scl_train)"
      ],
      "metadata": {
        "id": "-d-KpnRU-o_T"
      },
      "execution_count": 44,
      "outputs": []
    },
    {
      "cell_type": "code",
      "source": [
        "y_pred_train"
      ],
      "metadata": {
        "colab": {
          "base_uri": "https://localhost:8080/"
        },
        "id": "y2ODAA9JBnLy",
        "outputId": "319ceb90-ca8a-4c4c-9a7e-307a291d0d78"
      },
      "execution_count": 45,
      "outputs": [
        {
          "output_type": "execute_result",
          "data": {
            "text/plain": [
              "array([1, 2, 1, 3, 2, 1, 1, 2, 3, 2, 2, 3, 4, 2, 1, 3, 3, 2, 3, 1, 2, 1,\n",
              "       1, 4, 1, 3, 4, 1, 3, 4, 1, 2, 3, 4, 2, 3, 2, 1, 3, 2, 3, 2, 2, 1,\n",
              "       1, 1, 3, 2, 1, 1, 4, 3, 2, 3, 3, 4, 4, 2, 3, 2, 4, 1, 4, 2, 3, 3,\n",
              "       3, 1, 3, 4, 2, 2, 1, 3, 2, 3, 4, 2, 1, 4, 1, 1, 4, 3, 2, 1, 2, 4,\n",
              "       3, 1, 2, 1, 1, 4, 1, 2, 1, 1, 2, 3, 1, 3, 3, 3, 1, 1, 2, 3, 2, 3,\n",
              "       2, 3, 2, 2, 2, 4, 1, 1, 3, 4, 2, 2, 1, 2, 4, 2, 2, 2, 1, 1, 2, 3,\n",
              "       3, 2, 1, 1, 3, 2, 3, 1, 4, 1, 1, 1, 1, 1, 3, 1, 4, 4, 4, 3, 1, 2,\n",
              "       2, 3, 3, 3, 2, 1, 3, 1, 1, 3, 4, 2, 3, 2, 1, 2, 2, 1, 2, 1, 1, 3,\n",
              "       3, 4, 1, 2, 3, 1, 3, 2, 1, 4, 2, 3, 3, 1, 2, 3, 4, 2, 4, 3, 2, 2,\n",
              "       4, 2, 2, 1, 3, 2, 2, 3, 2, 3, 3, 2, 2, 2, 4, 1, 2, 1, 1, 1, 1, 2,\n",
              "       1, 3, 1, 1, 3, 1, 1, 1, 1, 4, 2, 3, 2, 2, 3, 3, 1, 4, 4, 3, 3, 3,\n",
              "       3, 2, 4, 1, 1, 3, 2, 1, 1, 2, 3, 4, 1, 4, 1, 3, 2, 2, 1, 2, 4, 3,\n",
              "       4, 4, 2, 2, 2, 2, 1, 2, 1, 4, 1, 4, 1, 2, 4, 1, 4, 1, 2, 4, 1, 3,\n",
              "       3, 2, 4, 4, 1, 2, 3, 3, 2, 3, 2, 1, 3, 2, 4, 1, 4, 2, 4, 2, 1, 3,\n",
              "       2, 1, 2, 3, 1, 4, 1, 2, 4, 1, 2, 3, 1, 2, 2, 2, 4, 2, 2, 1, 3, 1,\n",
              "       3, 1, 3, 3, 2, 1, 2, 4, 1, 4, 1, 1, 1, 1, 2, 3, 3, 3, 4, 1, 2, 1,\n",
              "       3, 3, 1, 1, 1, 1, 1, 3, 2, 1, 4, 3, 1, 4, 2, 3, 4, 3, 3, 2, 1, 4,\n",
              "       3, 4, 2, 1, 3, 3, 3, 3, 1, 3, 2, 2, 2, 2, 2, 3, 1, 2, 1, 3, 4, 1,\n",
              "       4, 3, 3, 4, 1, 3, 2, 1, 3, 2, 3, 1, 4, 3, 2, 3, 4, 1, 3, 3, 2, 2,\n",
              "       1, 1, 2, 3, 1, 1, 1, 3, 1, 2, 3, 3, 3, 3, 3, 3, 2, 3, 4, 3, 1, 2,\n",
              "       2, 2, 3, 2, 3, 4, 1, 2, 1, 3, 2, 4, 3, 3, 2, 1, 1, 1, 1, 3, 1, 2,\n",
              "       4, 2, 4, 1, 1, 3, 3, 4, 4, 2, 4, 3, 4, 4, 4, 1, 1, 4, 1, 3, 3, 2,\n",
              "       2, 3, 1, 2, 1, 1, 1, 2, 4, 3, 3, 4, 1, 4, 4, 4, 1, 2, 2, 1, 1, 4,\n",
              "       4, 1, 3, 3, 3, 1, 2, 1, 1, 1, 2, 3, 1, 4, 1, 1, 2, 1, 3, 3, 1, 1,\n",
              "       3, 2, 1, 1, 4, 4, 2, 3, 1, 1, 1, 3, 1, 1, 3, 3, 3, 3, 2, 1, 2, 4,\n",
              "       4, 4, 4, 4, 1, 4, 3, 3, 3, 4, 1, 3, 2, 1, 2, 3, 2, 1, 1, 3, 1, 2,\n",
              "       4, 3, 4, 4, 3, 4, 3, 3, 1, 2, 1, 1, 4, 3, 2, 2, 2, 3, 1, 1, 2, 1,\n",
              "       4, 4, 3, 3, 1, 4, 4, 3, 1, 4, 4, 3, 1, 2, 1, 1, 3, 2, 1, 4, 1, 3,\n",
              "       4, 1, 3, 4, 1, 1, 1, 1, 2, 3, 1, 2, 1, 2, 1, 4, 1, 4, 4, 1, 1, 4,\n",
              "       3, 3, 2, 3, 1, 1, 4, 2, 2, 3, 1, 1, 4, 2, 1, 1, 2, 2, 3, 1, 1, 2,\n",
              "       1, 3, 3, 2, 1, 3, 3, 2, 2, 3, 3, 1, 3, 2, 2, 2, 2, 4, 1, 4, 3, 1,\n",
              "       4, 1, 1, 1, 3, 3, 4, 1, 1, 1, 2, 1, 1, 1, 1, 3, 2, 3])"
            ]
          },
          "metadata": {},
          "execution_count": 45
        }
      ]
    },
    {
      "cell_type": "code",
      "source": [
        "y_pred_test = knn.predict(x_scl_test)"
      ],
      "metadata": {
        "id": "olfqTEPdAiZC"
      },
      "execution_count": 46,
      "outputs": []
    },
    {
      "cell_type": "code",
      "source": [
        "y_pred_test"
      ],
      "metadata": {
        "colab": {
          "base_uri": "https://localhost:8080/"
        },
        "id": "RV6bq8GIBpq0",
        "outputId": "b86959b9-eeb4-4c2e-946e-ef803e3f54be"
      },
      "execution_count": 47,
      "outputs": [
        {
          "output_type": "execute_result",
          "data": {
            "text/plain": [
              "array([1, 1, 1, 4, 1, 1, 2, 2, 3, 2, 4, 3, 2, 2, 1, 4, 3, 3, 4, 1, 3, 1,\n",
              "       3, 1, 4, 3, 1, 3, 3, 1, 1, 3, 1, 2, 2, 3, 3, 1, 1, 3, 4, 2, 4, 3,\n",
              "       2, 1, 3, 1, 3, 1, 2, 2, 1, 4, 4, 4, 3, 1, 1, 1, 1, 1, 2, 1, 1, 1,\n",
              "       1, 1, 2, 3, 2, 3, 2, 3, 1, 1, 3, 1, 4, 2, 1, 3, 3, 2, 3, 3, 1, 3,\n",
              "       3, 3, 1, 1, 1, 1, 2, 2, 2, 2, 1, 1, 1, 2, 1, 1, 4, 3, 3, 1, 2, 2,\n",
              "       3, 2, 1, 4, 1, 1, 3, 1, 3, 1, 2, 2, 4, 1, 2, 3, 4, 4, 2, 4, 4, 4,\n",
              "       2, 2, 3, 3, 3, 1, 2, 3, 4, 3, 3, 2, 4, 1, 2, 3, 2, 3, 2, 3, 3, 2,\n",
              "       3, 1, 4, 3, 4, 1, 3, 1, 1, 1, 4, 4, 3, 1, 1, 1, 4, 3, 1, 1, 1, 4,\n",
              "       2, 1, 4, 1, 3, 2, 4, 2, 1, 1, 1, 3, 1, 1, 1, 1, 1, 2, 1, 3, 1, 2,\n",
              "       4, 1, 4, 1, 1, 4, 2, 4, 4, 4, 1, 2, 1, 2, 3, 2, 1, 1, 2, 4, 2, 2,\n",
              "       2, 4, 3, 4, 1, 1, 3, 1, 3, 2, 3, 1, 1, 3, 3, 3, 2, 3, 1, 2, 4, 1,\n",
              "       3, 2, 4, 2, 2, 1, 1, 2, 4, 3, 3, 4, 2, 3, 1, 3, 1, 2, 1, 3, 2, 3,\n",
              "       1, 4, 1, 1, 1, 2, 2, 3, 4, 1, 1, 1, 4, 1, 1, 3, 2, 3, 2, 2, 3, 2,\n",
              "       4, 4, 4, 4, 3, 4, 2, 2, 1, 1, 4, 1, 2, 2])"
            ]
          },
          "metadata": {},
          "execution_count": 47
        }
      ]
    },
    {
      "cell_type": "code",
      "source": [
        "accuracy_score(y_pred_train, y_train)"
      ],
      "metadata": {
        "colab": {
          "base_uri": "https://localhost:8080/"
        },
        "id": "e2X49BpoAna7",
        "outputId": "3878c5bb-7a00-4c06-a395-4436deef0b41"
      },
      "execution_count": 48,
      "outputs": [
        {
          "output_type": "execute_result",
          "data": {
            "text/plain": [
              "0.5557142857142857"
            ]
          },
          "metadata": {},
          "execution_count": 48
        }
      ]
    },
    {
      "cell_type": "code",
      "source": [
        "accuracy_score(y_pred_test, y_test)"
      ],
      "metadata": {
        "colab": {
          "base_uri": "https://localhost:8080/"
        },
        "id": "yotpNA979gWD",
        "outputId": "01f73a96-83a9-4da5-d3f9-0e2d7ff37780"
      },
      "execution_count": 49,
      "outputs": [
        {
          "output_type": "execute_result",
          "data": {
            "text/plain": [
              "0.33"
            ]
          },
          "metadata": {},
          "execution_count": 49
        }
      ]
    },
    {
      "cell_type": "code",
      "source": [
        "precision_score(y_pred_test, y_test, average='weighted')"
      ],
      "metadata": {
        "colab": {
          "base_uri": "https://localhost:8080/"
        },
        "id": "jKk1BfVNNRq0",
        "outputId": "38f2de59-33fe-4810-88dc-2d1a4f2e197c"
      },
      "execution_count": 54,
      "outputs": [
        {
          "output_type": "execute_result",
          "data": {
            "text/plain": [
              "0.34286983988046293"
            ]
          },
          "metadata": {},
          "execution_count": 54
        }
      ]
    },
    {
      "cell_type": "code",
      "source": [
        "precision_score(y_pred_test, y_test, average='weighted')"
      ],
      "metadata": {
        "id": "KuMm0ujFNrdx",
        "outputId": "a7a2d163-fbc5-4c34-ddc5-a247fcf2b4f6",
        "colab": {
          "base_uri": "https://localhost:8080/"
        }
      },
      "execution_count": 55,
      "outputs": [
        {
          "output_type": "execute_result",
          "data": {
            "text/plain": [
              "0.34286983988046293"
            ]
          },
          "metadata": {},
          "execution_count": 55
        }
      ]
    },
    {
      "cell_type": "code",
      "source": [
        "confusion_matrix(y_pred_train, y_train)"
      ],
      "metadata": {
        "id": "sglj9gJLA0aK",
        "colab": {
          "base_uri": "https://localhost:8080/"
        },
        "outputId": "2a18eba9-996e-4863-ae50-b3cded77bef7"
      },
      "execution_count": 56,
      "outputs": [
        {
          "output_type": "execute_result",
          "data": {
            "text/plain": [
              "array([[117,  31,  40,  35],\n",
              "       [ 17,  87,  34,  37],\n",
              "       [ 23,  25, 114,  22],\n",
              "       [ 19,  15,  13,  71]])"
            ]
          },
          "metadata": {},
          "execution_count": 56
        }
      ]
    },
    {
      "cell_type": "code",
      "source": [
        "confusion_matrix(y_pred_test, y_test)"
      ],
      "metadata": {
        "id": "YloV7ajKA5eq",
        "colab": {
          "base_uri": "https://localhost:8080/"
        },
        "outputId": "113588c1-ecae-40c1-a095-9a725ee15ce1"
      },
      "execution_count": 57,
      "outputs": [
        {
          "output_type": "execute_result",
          "data": {
            "text/plain": [
              "array([[43, 11, 25, 27],\n",
              "       [19, 14, 20, 17],\n",
              "       [18, 14, 28, 13],\n",
              "       [10, 20,  7, 14]])"
            ]
          },
          "metadata": {},
          "execution_count": 57
        }
      ]
    },
    {
      "cell_type": "code",
      "source": [
        "print(classification_report(y_pred_train, y_train))"
      ],
      "metadata": {
        "id": "pFzxD1X0A9n7",
        "colab": {
          "base_uri": "https://localhost:8080/"
        },
        "outputId": "d4b32e2e-9b48-48ab-e984-34e1725ba5f5"
      },
      "execution_count": 58,
      "outputs": [
        {
          "output_type": "stream",
          "name": "stdout",
          "text": [
            "              precision    recall  f1-score   support\n",
            "\n",
            "           1       0.66      0.52      0.59       223\n",
            "           2       0.55      0.50      0.52       175\n",
            "           3       0.57      0.62      0.59       184\n",
            "           4       0.43      0.60      0.50       118\n",
            "\n",
            "    accuracy                           0.56       700\n",
            "   macro avg       0.55      0.56      0.55       700\n",
            "weighted avg       0.57      0.56      0.56       700\n",
            "\n"
          ]
        }
      ]
    },
    {
      "cell_type": "code",
      "source": [
        "print(classification_report(y_pred_test, y_test))"
      ],
      "metadata": {
        "id": "_PT0nCzABDdL",
        "colab": {
          "base_uri": "https://localhost:8080/"
        },
        "outputId": "15aa36fe-c29b-43b9-fc23-0fada2c2bae1"
      },
      "execution_count": 59,
      "outputs": [
        {
          "output_type": "stream",
          "name": "stdout",
          "text": [
            "              precision    recall  f1-score   support\n",
            "\n",
            "           1       0.48      0.41      0.44       106\n",
            "           2       0.24      0.20      0.22        70\n",
            "           3       0.35      0.38      0.37        73\n",
            "           4       0.20      0.27      0.23        51\n",
            "\n",
            "    accuracy                           0.33       300\n",
            "   macro avg       0.32      0.32      0.31       300\n",
            "weighted avg       0.34      0.33      0.33       300\n",
            "\n"
          ]
        }
      ]
    }
  ]
}